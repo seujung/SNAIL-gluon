{
 "cells": [
  {
   "cell_type": "code",
   "execution_count": 1,
   "metadata": {
    "ExecuteTime": {
     "end_time": "2018-07-12T01:57:45.351247Z",
     "start_time": "2018-07-12T01:57:45.073752Z"
    }
   },
   "outputs": [],
   "source": [
    "from collections import OrderedDict\n",
    "import numpy as np\n",
    "import torch\n",
    "import torch.nn as nn\n",
    "import torch.nn.functional as F"
   ]
  },
  {
   "cell_type": "code",
   "execution_count": 9,
   "metadata": {
    "ExecuteTime": {
     "end_time": "2018-07-09T02:29:29.911177Z",
     "start_time": "2018-07-09T02:29:29.904046Z"
    }
   },
   "outputs": [],
   "source": [
    "def conv(in_planes, out_planes, kernel_size=3, stride=1, padding=1):\n",
    "    \"\"\"convolution with padding\"\"\"\n",
    "    return nn.Conv2d(in_planes, out_planes, kernel_size=kernel_size, stride=stride,\n",
    "                     padding=padding, bias=False)\n",
    "\n",
    "def conv_block(in_channels, out_channels):\n",
    "    '''\n",
    "    returns a block conv-bn-relu-pool\n",
    "    '''\n",
    "    return nn.Sequential(OrderedDict([\n",
    "        ('conv', nn.Conv2d(in_channels, out_channels, 3, padding=1)),\n",
    "        ('bn', nn.BatchNorm2d(out_channels, momentum=1)),\n",
    "        #('bn', nn.BatchNorm2d(out_channels)),\n",
    "        ('relu', nn.ReLU()),\n",
    "        ('pool', nn.MaxPool2d(2))\n",
    "    ]))"
   ]
  },
  {
   "cell_type": "code",
   "execution_count": 10,
   "metadata": {
    "ExecuteTime": {
     "end_time": "2018-07-09T02:29:30.348223Z",
     "start_time": "2018-07-09T02:29:30.307274Z"
    }
   },
   "outputs": [],
   "source": [
    "class OmniglotNet(nn.Module):\n",
    "    '''\n",
    "    Model as described in the reference paper,\n",
    "    source: https://github.com/jakesnell/prototypical-networks/blob/f0c48808e496989d01db59f86d4449d7aee9ab0c/protonets/models/few_shot.py#L62-L84\n",
    "    '''\n",
    "    def __init__(self, x_dim=1, hid_dim=64, z_dim=64):\n",
    "        super(OmniglotNet, self).__init__()\n",
    "        self.encoder = nn.Sequential(OrderedDict([\n",
    "            ('block1', conv_block(x_dim, hid_dim)),\n",
    "            ('block2', conv_block(hid_dim, hid_dim)),\n",
    "            ('block3', conv_block(hid_dim, hid_dim)),\n",
    "            ('block4', conv_block(hid_dim, z_dim)),\n",
    "        ]))\n",
    "\n",
    "    def forward(self, x, weights=None):\n",
    "        if weights is None:\n",
    "            x = self.encoder(x)\n",
    "        else:\n",
    "            x = F.conv2d(x, weights['encoder.block1.conv.weight'], weights['encoder.block1.conv.bias'])\n",
    "            x = batchnorm(x, weight=weights['encoder.block1.bn.weight'], bias=weights['encoder.block1.bn.bias'])\n",
    "            x = F.relu(x)\n",
    "            x = F.max_pool2d(x, 2, 2)\n",
    "            x = F.conv2d(x, weights['encoder.block2.conv.weight'], weights['encoder.block2.conv.bias'])\n",
    "            x = batchnorm(x, weight=weights['encoder.block2.bn.weight'], bias=weights['encoder.block2.bn.bias'])\n",
    "            x = F.relu(x)\n",
    "            x = F.max_pool2d(x, 2, 2)\n",
    "            x = F.conv2d(x, weights['encoder.block3.conv.weight'], weights['encoder.block3.conv.bias'])\n",
    "            x = batchnorm(x, weight=weights['encoder.block3.bn.weight'], bias=weights['encoder.block3.bn.bias'])\n",
    "            x = F.relu(x)\n",
    "            x = F.max_pool2d(x, 2, 2)\n",
    "            x = F.conv2d(x, weights['encoder.block4.conv.weight'], weights['encoder.block4.conv.bias'])\n",
    "            x = batchnorm(x, weight=weights['encoder.block4.bn.weight'], bias=weights['encoder.block4.bn.bias'])\n",
    "            x = F.relu(x)\n",
    "            x = F.max_pool2d(x, 2, 2)\n",
    "        return x.view(x.size(0), -1)\n"
   ]
  },
  {
   "cell_type": "code",
   "execution_count": 11,
   "metadata": {
    "ExecuteTime": {
     "end_time": "2018-07-09T02:29:30.847277Z",
     "start_time": "2018-07-09T02:29:30.840710Z"
    }
   },
   "outputs": [],
   "source": [
    "x = np.load('x.npy')"
   ]
  },
  {
   "cell_type": "code",
   "execution_count": 14,
   "metadata": {
    "ExecuteTime": {
     "end_time": "2018-07-09T02:31:02.661871Z",
     "start_time": "2018-07-09T02:31:02.652088Z"
    }
   },
   "outputs": [
    {
     "data": {
      "text/plain": [
       "(1224, 1, 28, 28)"
      ]
     },
     "execution_count": 14,
     "metadata": {},
     "output_type": "execute_result"
    }
   ],
   "source": [
    "x.shape"
   ]
  },
  {
   "cell_type": "code",
   "execution_count": 15,
   "metadata": {
    "ExecuteTime": {
     "end_time": "2018-07-09T02:31:15.371520Z",
     "start_time": "2018-07-09T02:31:15.360335Z"
    }
   },
   "outputs": [],
   "source": [
    "inputs = torch.randn(1224, 1, 28, 28)"
   ]
  },
  {
   "cell_type": "code",
   "execution_count": 16,
   "metadata": {
    "ExecuteTime": {
     "end_time": "2018-07-09T02:31:15.951948Z",
     "start_time": "2018-07-09T02:31:15.941192Z"
    }
   },
   "outputs": [],
   "source": [
    "encoder = OmniglotNet()"
   ]
  },
  {
   "cell_type": "code",
   "execution_count": 17,
   "metadata": {
    "ExecuteTime": {
     "end_time": "2018-07-09T02:31:25.947054Z",
     "start_time": "2018-07-09T02:31:25.091795Z"
    }
   },
   "outputs": [],
   "source": [
    "out = encoder(inputs)"
   ]
  },
  {
   "cell_type": "code",
   "execution_count": 18,
   "metadata": {
    "ExecuteTime": {
     "end_time": "2018-07-09T02:31:28.586338Z",
     "start_time": "2018-07-09T02:31:28.582106Z"
    }
   },
   "outputs": [
    {
     "data": {
      "text/plain": [
       "torch.Size([1224, 64])"
      ]
     },
     "execution_count": 18,
     "metadata": {},
     "output_type": "execute_result"
    }
   ],
   "source": [
    "out.shape"
   ]
  },
  {
   "cell_type": "code",
   "execution_count": 19,
   "metadata": {
    "ExecuteTime": {
     "end_time": "2018-07-09T06:20:15.959252Z",
     "start_time": "2018-07-09T06:20:15.939634Z"
    }
   },
   "outputs": [],
   "source": [
    "tmp = torch.randn(24, 51, 1514)"
   ]
  },
  {
   "cell_type": "code",
   "execution_count": 22,
   "metadata": {
    "ExecuteTime": {
     "end_time": "2018-07-09T06:26:33.285874Z",
     "start_time": "2018-07-09T06:26:33.279985Z"
    }
   },
   "outputs": [],
   "source": [
    "import math\n",
    "N = 10\n",
    "K = 5\n",
    "num_filters = int(math.ceil(math.log(N * K + 1)))\n",
    "num_channels = 64 + N\n",
    "num_channels += 32\n",
    "num_channels += num_filters * 128\n",
    "num_channels += 128\n",
    "num_channels += num_filters * 128\n",
    "num_channels += 256"
   ]
  },
  {
   "cell_type": "code",
   "execution_count": 23,
   "metadata": {
    "ExecuteTime": {
     "end_time": "2018-07-09T06:26:36.185824Z",
     "start_time": "2018-07-09T06:26:36.182579Z"
    }
   },
   "outputs": [
    {
     "data": {
      "text/plain": [
       "1514"
      ]
     },
     "execution_count": 23,
     "metadata": {},
     "output_type": "execute_result"
    }
   ],
   "source": [
    "num_channels"
   ]
  },
  {
   "cell_type": "code",
   "execution_count": 24,
   "metadata": {
    "ExecuteTime": {
     "end_time": "2018-07-09T06:27:01.684720Z",
     "start_time": "2018-07-09T06:27:01.682165Z"
    }
   },
   "outputs": [],
   "source": [
    "fc = nn.Linear(num_channels,N)"
   ]
  },
  {
   "cell_type": "code",
   "execution_count": 25,
   "metadata": {
    "ExecuteTime": {
     "end_time": "2018-07-09T06:27:09.717239Z",
     "start_time": "2018-07-09T06:27:09.713339Z"
    }
   },
   "outputs": [],
   "source": [
    "fc_out = fc(tmp)"
   ]
  },
  {
   "cell_type": "code",
   "execution_count": 26,
   "metadata": {
    "ExecuteTime": {
     "end_time": "2018-07-09T06:27:13.882674Z",
     "start_time": "2018-07-09T06:27:13.878911Z"
    }
   },
   "outputs": [
    {
     "data": {
      "text/plain": [
       "torch.Size([24, 51, 10])"
      ]
     },
     "execution_count": 26,
     "metadata": {},
     "output_type": "execute_result"
    }
   ],
   "source": [
    "fc_out.shape"
   ]
  },
  {
   "cell_type": "code",
   "execution_count": 6,
   "metadata": {
    "ExecuteTime": {
     "end_time": "2018-07-12T02:00:32.641174Z",
     "start_time": "2018-07-12T02:00:32.639006Z"
    }
   },
   "outputs": [],
   "source": [
    "size = 5"
   ]
  },
  {
   "cell_type": "code",
   "execution_count": 7,
   "metadata": {
    "ExecuteTime": {
     "end_time": "2018-07-12T02:00:33.057510Z",
     "start_time": "2018-07-12T02:00:33.054903Z"
    }
   },
   "outputs": [],
   "source": [
    "mask = np.array([[1 if i>j else 0 for i in range(size)] for j in range(size)])"
   ]
  },
  {
   "cell_type": "code",
   "execution_count": 8,
   "metadata": {
    "ExecuteTime": {
     "end_time": "2018-07-12T02:00:33.477069Z",
     "start_time": "2018-07-12T02:00:33.473810Z"
    }
   },
   "outputs": [
    {
     "data": {
      "text/plain": [
       "array([[0, 1, 1, 1, 1],\n",
       "       [0, 0, 1, 1, 1],\n",
       "       [0, 0, 0, 1, 1],\n",
       "       [0, 0, 0, 0, 1],\n",
       "       [0, 0, 0, 0, 0]])"
      ]
     },
     "execution_count": 8,
     "metadata": {},
     "output_type": "execute_result"
    }
   ],
   "source": [
    "mask"
   ]
  },
  {
   "cell_type": "code",
   "execution_count": 13,
   "metadata": {
    "ExecuteTime": {
     "end_time": "2018-07-12T02:01:32.778383Z",
     "start_time": "2018-07-12T02:01:32.776030Z"
    }
   },
   "outputs": [],
   "source": [
    "mask = torch.ByteTensor(mask)"
   ]
  },
  {
   "cell_type": "code",
   "execution_count": 14,
   "metadata": {
    "ExecuteTime": {
     "end_time": "2018-07-12T02:01:36.827758Z",
     "start_time": "2018-07-12T02:01:36.824275Z"
    }
   },
   "outputs": [
    {
     "data": {
      "text/plain": [
       "tensor([[ 0,  1,  1,  1,  1],\n",
       "        [ 0,  0,  1,  1,  1],\n",
       "        [ 0,  0,  0,  1,  1],\n",
       "        [ 0,  0,  0,  0,  1],\n",
       "        [ 0,  0,  0,  0,  0]], dtype=torch.uint8)"
      ]
     },
     "execution_count": 14,
     "metadata": {},
     "output_type": "execute_result"
    }
   ],
   "source": [
    "mask"
   ]
  },
  {
   "cell_type": "code",
   "execution_count": 9,
   "metadata": {
    "ExecuteTime": {
     "end_time": "2018-07-12T02:00:37.399811Z",
     "start_time": "2018-07-12T02:00:37.397164Z"
    }
   },
   "outputs": [],
   "source": [
    "temp = torch.rand((20,5,5))"
   ]
  },
  {
   "cell_type": "code",
   "execution_count": 11,
   "metadata": {
    "ExecuteTime": {
     "end_time": "2018-07-12T02:00:43.071039Z",
     "start_time": "2018-07-12T02:00:43.067183Z"
    }
   },
   "outputs": [
    {
     "data": {
      "text/plain": [
       "torch.Size([20, 5, 5])"
      ]
     },
     "execution_count": 11,
     "metadata": {},
     "output_type": "execute_result"
    }
   ],
   "source": [
    "temp.shape"
   ]
  },
  {
   "cell_type": "code",
   "execution_count": 15,
   "metadata": {
    "ExecuteTime": {
     "end_time": "2018-07-12T02:01:39.883524Z",
     "start_time": "2018-07-12T02:01:39.876235Z"
    }
   },
   "outputs": [
    {
     "data": {
      "text/plain": [
       "tensor([[[ 0.2699,    -inf,    -inf,    -inf,    -inf],\n",
       "         [ 0.4614,  0.0633,    -inf,    -inf,    -inf],\n",
       "         [ 0.2330,  0.2013,  0.7973,    -inf,    -inf],\n",
       "         [ 0.2812,  0.3697,  0.2282,  0.8384,    -inf],\n",
       "         [ 0.0285,  0.0449,  0.4213,  0.9759,  0.6087]],\n",
       "\n",
       "        [[ 0.1471,    -inf,    -inf,    -inf,    -inf],\n",
       "         [ 0.2804,  0.2778,    -inf,    -inf,    -inf],\n",
       "         [ 0.6791,  0.7563,  0.8883,    -inf,    -inf],\n",
       "         [ 0.1166,  0.2283,  0.1182,  0.3741,    -inf],\n",
       "         [ 0.8630,  0.6852,  0.9552,  0.0516,  0.8987]],\n",
       "\n",
       "        [[ 0.6251,    -inf,    -inf,    -inf,    -inf],\n",
       "         [ 0.1287,  0.2921,    -inf,    -inf,    -inf],\n",
       "         [ 0.3378,  0.7609,  0.7919,    -inf,    -inf],\n",
       "         [ 0.0354,  0.4564,  0.8991,  0.5906,    -inf],\n",
       "         [ 0.0520,  0.6638,  0.9711,  0.8368,  0.1523]],\n",
       "\n",
       "        [[ 0.2933,    -inf,    -inf,    -inf,    -inf],\n",
       "         [ 0.7090,  0.8675,    -inf,    -inf,    -inf],\n",
       "         [ 0.2611,  0.8310,  0.1839,    -inf,    -inf],\n",
       "         [ 0.2851,  0.4914,  0.3391,  0.9027,    -inf],\n",
       "         [ 0.3884,  0.6550,  0.6407,  0.7312,  0.6050]],\n",
       "\n",
       "        [[ 0.5326,    -inf,    -inf,    -inf,    -inf],\n",
       "         [ 0.1132,  0.1529,    -inf,    -inf,    -inf],\n",
       "         [ 0.0827,  0.3722,  0.8158,    -inf,    -inf],\n",
       "         [ 0.1329,  0.5957,  0.1347,  0.4453,    -inf],\n",
       "         [ 0.9546,  0.2612,  0.9357,  0.5843,  0.5176]],\n",
       "\n",
       "        [[ 0.3580,    -inf,    -inf,    -inf,    -inf],\n",
       "         [ 0.0881,  0.2267,    -inf,    -inf,    -inf],\n",
       "         [ 0.6286,  0.8979,  0.5340,    -inf,    -inf],\n",
       "         [ 0.9701,  0.8655,  0.8677,  0.6670,    -inf],\n",
       "         [ 0.5345,  0.3965,  0.1744,  0.0460,  0.2450]],\n",
       "\n",
       "        [[ 0.3973,    -inf,    -inf,    -inf,    -inf],\n",
       "         [ 0.4214,  0.3562,    -inf,    -inf,    -inf],\n",
       "         [ 0.8248,  0.8218,  0.6578,    -inf,    -inf],\n",
       "         [ 0.2454,  0.4007,  0.5305,  0.7373,    -inf],\n",
       "         [ 0.8617,  0.8863,  0.5530,  0.5373,  0.8440]],\n",
       "\n",
       "        [[ 0.8290,    -inf,    -inf,    -inf,    -inf],\n",
       "         [ 0.4152,  0.1862,    -inf,    -inf,    -inf],\n",
       "         [ 0.4586,  0.7393,  0.0529,    -inf,    -inf],\n",
       "         [ 0.8510,  0.7677,  0.5343,  0.5377,    -inf],\n",
       "         [ 0.4170,  0.7629,  0.8235,  0.5120,  0.4770]],\n",
       "\n",
       "        [[ 0.1205,    -inf,    -inf,    -inf,    -inf],\n",
       "         [ 0.2459,  0.8043,    -inf,    -inf,    -inf],\n",
       "         [ 0.7129,  0.3747,  0.4969,    -inf,    -inf],\n",
       "         [ 0.3847,  0.9743,  0.4962,  0.0249,    -inf],\n",
       "         [ 0.4989,  0.9387,  0.6644,  0.9347,  0.2598]],\n",
       "\n",
       "        [[ 0.6473,    -inf,    -inf,    -inf,    -inf],\n",
       "         [ 0.4214,  0.9340,    -inf,    -inf,    -inf],\n",
       "         [ 0.0561,  0.1213,  0.4550,    -inf,    -inf],\n",
       "         [ 0.6431,  0.3745,  0.9872,  0.5516,    -inf],\n",
       "         [ 0.4109,  0.7303,  0.0218,  0.3404,  0.4783]],\n",
       "\n",
       "        [[ 0.9080,    -inf,    -inf,    -inf,    -inf],\n",
       "         [ 0.9052,  0.1727,    -inf,    -inf,    -inf],\n",
       "         [ 0.5084,  0.3232,  0.2335,    -inf,    -inf],\n",
       "         [ 0.9925,  0.5819,  0.7833,  0.1134,    -inf],\n",
       "         [ 0.0766,  0.2511,  0.1482,  0.5508,  0.2014]],\n",
       "\n",
       "        [[ 0.1877,    -inf,    -inf,    -inf,    -inf],\n",
       "         [ 0.2134,  0.7006,    -inf,    -inf,    -inf],\n",
       "         [ 0.3043,  0.2730,  0.4034,    -inf,    -inf],\n",
       "         [ 0.1363,  0.8831,  0.2918,  0.6442,    -inf],\n",
       "         [ 0.1306,  0.9510,  0.7443,  0.0029,  0.8523]],\n",
       "\n",
       "        [[ 0.2831,    -inf,    -inf,    -inf,    -inf],\n",
       "         [ 0.8207,  0.5975,    -inf,    -inf,    -inf],\n",
       "         [ 0.0985,  0.5802,  0.5880,    -inf,    -inf],\n",
       "         [ 0.6658,  0.2939,  0.9154,  0.8579,    -inf],\n",
       "         [ 0.8225,  0.2528,  0.9847,  0.7282,  0.1304]],\n",
       "\n",
       "        [[ 0.0166,    -inf,    -inf,    -inf,    -inf],\n",
       "         [ 0.2759,  0.5456,    -inf,    -inf,    -inf],\n",
       "         [ 0.1791,  0.2791,  0.3431,    -inf,    -inf],\n",
       "         [ 0.9383,  0.7817,  0.7318,  0.6220,    -inf],\n",
       "         [ 0.2516,  0.7995,  0.6370,  0.3541,  0.6076]],\n",
       "\n",
       "        [[ 0.8195,    -inf,    -inf,    -inf,    -inf],\n",
       "         [ 0.2516,  0.5008,    -inf,    -inf,    -inf],\n",
       "         [ 0.4935,  0.9880,  0.5073,    -inf,    -inf],\n",
       "         [ 0.7868,  0.9133,  0.5512,  0.3551,    -inf],\n",
       "         [ 0.8600,  0.1264,  0.9110,  0.4301,  0.3453]],\n",
       "\n",
       "        [[ 0.6791,    -inf,    -inf,    -inf,    -inf],\n",
       "         [ 0.2064,  0.9468,    -inf,    -inf,    -inf],\n",
       "         [ 0.0543,  0.6312,  0.1158,    -inf,    -inf],\n",
       "         [ 0.1977,  0.7634,  0.9425,  0.7626,    -inf],\n",
       "         [ 0.8203,  0.1929,  0.3303,  0.2538,  0.9641]],\n",
       "\n",
       "        [[ 0.4389,    -inf,    -inf,    -inf,    -inf],\n",
       "         [ 0.8630,  0.7686,    -inf,    -inf,    -inf],\n",
       "         [ 0.0779,  0.6446,  0.3397,    -inf,    -inf],\n",
       "         [ 0.5199,  0.3192,  0.2552,  0.9220,    -inf],\n",
       "         [ 0.3595,  0.7413,  0.1880,  0.3055,  0.0047]],\n",
       "\n",
       "        [[ 0.3317,    -inf,    -inf,    -inf,    -inf],\n",
       "         [ 0.4148,  0.4916,    -inf,    -inf,    -inf],\n",
       "         [ 0.0413,  0.8905,  0.5996,    -inf,    -inf],\n",
       "         [ 0.2829,  0.6422,  0.8159,  0.9509,    -inf],\n",
       "         [ 0.5344,  0.0805,  0.0648,  0.3074,  0.1299]],\n",
       "\n",
       "        [[ 0.3153,    -inf,    -inf,    -inf,    -inf],\n",
       "         [ 0.3470,  0.0081,    -inf,    -inf,    -inf],\n",
       "         [ 0.2642,  0.8431,  0.1883,    -inf,    -inf],\n",
       "         [ 0.9730,  0.6996,  0.4972,  0.4069,    -inf],\n",
       "         [ 0.9649,  0.6584,  0.2702,  0.7471,  0.2911]],\n",
       "\n",
       "        [[ 0.0017,    -inf,    -inf,    -inf,    -inf],\n",
       "         [ 0.9039,  0.0069,    -inf,    -inf,    -inf],\n",
       "         [ 0.7252,  0.8776,  0.8145,    -inf,    -inf],\n",
       "         [ 0.0438,  0.2485,  0.4512,  0.5564,    -inf],\n",
       "         [ 0.6428,  0.9583,  0.1709,  0.9759,  0.9131]]])"
      ]
     },
     "execution_count": 15,
     "metadata": {},
     "output_type": "execute_result"
    }
   ],
   "source": [
    "temp.data.masked_fill_(mask,-float('inf'))"
   ]
  },
  {
   "cell_type": "code",
   "execution_count": null,
   "metadata": {},
   "outputs": [],
   "source": [
    "mask = np.full(shape=(logits.shape[1],logits.shape[2]),fill_value=1).astype('float')\n",
    "mask = np.triu(mask,1)\n",
    "mask = np.expand_dims(mask,0)\n",
    "mask = np.repeat(mask,logits.shape[0],0)"
   ]
  }
 ],
 "metadata": {
  "kernelspec": {
   "display_name": "Python 3",
   "language": "python",
   "name": "python3"
  },
  "language_info": {
   "codemirror_mode": {
    "name": "ipython",
    "version": 3
   },
   "file_extension": ".py",
   "mimetype": "text/x-python",
   "name": "python",
   "nbconvert_exporter": "python",
   "pygments_lexer": "ipython3",
   "version": "3.6.5"
  }
 },
 "nbformat": 4,
 "nbformat_minor": 2
}
