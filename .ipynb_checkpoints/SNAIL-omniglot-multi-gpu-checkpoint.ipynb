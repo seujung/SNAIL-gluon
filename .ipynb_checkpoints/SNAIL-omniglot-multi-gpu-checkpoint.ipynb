{
 "cells": [
  {
   "cell_type": "code",
   "execution_count": 1,
   "metadata": {
    "ExecuteTime": {
     "end_time": "2018-07-12T02:18:14.146123Z",
     "start_time": "2018-07-12T02:18:11.183287Z"
    }
   },
   "outputs": [
    {
     "name": "stderr",
     "output_type": "stream",
     "text": [
      "/home/skinet/py_libs/lib/python3.6/site-packages/h5py/__init__.py:36: FutureWarning: Conversion of the second argument of issubdtype from `float` to `np.floating` is deprecated. In future, it will be treated as `np.float64 == np.dtype(float).type`.\n",
      "  from ._conv import register_converters as _register_converters\n"
     ]
    }
   ],
   "source": [
    "import math\n",
    "import mxnet as mx\n",
    "from mxnet import gluon, autograd, nd\n",
    "from mxnet.gluon import nn,utils\n",
    "from mxnet.gluon.data.vision import transforms\n",
    "import mxnet.ndarray as F\n",
    "import numpy as np\n",
    "import os, sys\n",
    "import os\n",
    "import collections\n",
    "from PIL import Image\n",
    "import csv\n",
    "import random\n",
    "from mxnet.gluon.data import Dataset, DataLoader\n",
    "from tqdm import tqdm, trange"
   ]
  },
  {
   "cell_type": "code",
   "execution_count": 2,
   "metadata": {
    "ExecuteTime": {
     "end_time": "2018-07-12T02:18:14.327831Z",
     "start_time": "2018-07-12T02:18:14.147646Z"
    }
   },
   "outputs": [],
   "source": [
    "# coding=utf-8\n",
    "from utils_bak import init_dataset\n",
    "from omniglot_dataset import OmniglotDataset\n",
    "from batch_sampler import BatchSampler\n",
    "import argparse\n",
    "import torch"
   ]
  },
  {
   "cell_type": "code",
   "execution_count": 3,
   "metadata": {
    "ExecuteTime": {
     "end_time": "2018-07-12T02:18:14.337352Z",
     "start_time": "2018-07-12T02:18:14.329544Z"
    }
   },
   "outputs": [
    {
     "data": {
      "text/plain": [
       "'1.2.0'"
      ]
     },
     "execution_count": 3,
     "metadata": {},
     "output_type": "execute_result"
    }
   ],
   "source": [
    "mx.__version__"
   ]
  },
  {
   "cell_type": "code",
   "execution_count": 4,
   "metadata": {
    "ExecuteTime": {
     "end_time": "2018-07-12T02:18:14.350821Z",
     "start_time": "2018-07-12T02:18:14.338643Z"
    }
   },
   "outputs": [],
   "source": [
    "class CasualConv1d(nn.Block):\n",
    "    \n",
    "    def __init__(self,in_channels, out_channels, kernel_size, stride=1, dilation=1, groups=1, bias=True,**kwargs):\n",
    "        super(CasualConv1d,self).__init__(**kwargs)\n",
    "        self.dilation = dilation\n",
    "        self.padding = dilation * (kernel_size - 1)\n",
    "        \n",
    "        with self.name_scope():\n",
    "            self.casual_conv = nn.Conv1D(in_channels=in_channels,channels=out_channels,kernel_size=kernel_size,padding = self.padding, dilation = dilation, groups=groups, use_bias=bias)\n",
    "            \n",
    "    def forward(self,x):\n",
    "        out = self.casual_conv(x)\n",
    "        return out[:,:,:-self.dilation]"
   ]
  },
  {
   "cell_type": "code",
   "execution_count": 5,
   "metadata": {
    "ExecuteTime": {
     "end_time": "2018-07-12T02:18:14.365620Z",
     "start_time": "2018-07-12T02:18:14.352275Z"
    }
   },
   "outputs": [],
   "source": [
    "class DenseBlock(nn.Block):\n",
    "    def __init__(self, in_channels, filters, dilation=1, kernel_size=2, **kwargs):\n",
    "        super(DenseBlock,self).__init__(**kwargs)\n",
    "        \n",
    "        with self.name_scope():\n",
    "            self.casual_conv1 = CasualConv1d(in_channels, filters, kernel_size, dilation = dilation)\n",
    "            self.casual_conv2 = CasualConv1d(in_channels, filters, kernel_size, dilation = dilation)\n",
    "            \n",
    "    def forward(self, x):\n",
    "        #print(x.shape)\n",
    "        tanh = F.tanh(self.casual_conv1(x))\n",
    "        sigmoid = F.sigmoid(self.casual_conv1(x))\n",
    "        out =  F.concat(x,tanh*sigmoid, dim=1)\n",
    "        #print(\"Dense success\")\n",
    "        return out  "
   ]
  },
  {
   "cell_type": "code",
   "execution_count": 6,
   "metadata": {
    "ExecuteTime": {
     "end_time": "2018-07-12T02:18:14.379007Z",
     "start_time": "2018-07-12T02:18:14.367025Z"
    }
   },
   "outputs": [],
   "source": [
    "class TCBlock(nn.Block):\n",
    "    def __init__(self, in_channels,seq_len, filters, **kwargs):\n",
    "        super(TCBlock,self).__init__(**kwargs)\n",
    "        layer_count = int(math.ceil(math.log(seq_len)))\n",
    "        channel_count = in_channels\n",
    "        with self.name_scope():\n",
    "            self.blocks = nn.Sequential()\n",
    "            for i in range(layer_count):\n",
    "                self.blocks.add(DenseBlock(in_channels + i * filters, filters, dilation =2 ** (i+1)))\n",
    "                \n",
    "    def forward(self, x):\n",
    "        x = x.swapaxes(1,2)\n",
    "        out = self.blocks(x)\n",
    "        return out.swapaxes(1,2)"
   ]
  },
  {
   "cell_type": "code",
   "execution_count": 7,
   "metadata": {
    "ExecuteTime": {
     "end_time": "2018-07-12T02:18:14.447824Z",
     "start_time": "2018-07-12T02:18:14.380433Z"
    }
   },
   "outputs": [],
   "source": [
    "class AttentionBlock(nn.Block):\n",
    "    def __init__(self, k_size, v_size,ctx=mx.cpu(),show_shape=False, **kwargs):\n",
    "        super(AttentionBlock,self).__init__(**kwargs)\n",
    "        #self.ctx = ctx\n",
    "        self.sqrt_k = math.sqrt(k_size)\n",
    "        self.show_shape = False\n",
    "        with self.name_scope():\n",
    "            self.key_layer = nn.Dense(k_size,flatten=False)\n",
    "            self.query_layer = nn.Dense(k_size,flatten=False)\n",
    "            self.value_layer = nn.Dense(v_size,flatten=False)\n",
    "            \n",
    "    \n",
    "    def forward(self, x):\n",
    "        with x.context:\n",
    "            #x = x.swapaxes(1,2)\n",
    "            keys = self.key_layer(x)       \n",
    "            queries = self.query_layer(x)\n",
    "            values = self.value_layer(x)\n",
    "            logits = nd.linalg_gemm2(queries,keys.swapaxes(2,1))\n",
    "            if self.show_shape:\n",
    "                print(\"keys shape:{}\".format(keys.shape))\n",
    "                print(\"queries shape:{}\".format(queries.shape))\n",
    "                print(\"logits shape:{}\".format(logits.shape))\n",
    "            #Generate masking part \n",
    "            mask = np.full(shape=(logits.shape[1],logits.shape[2]),fill_value=1).astype('float')\n",
    "            mask = np.triu(mask,1)\n",
    "            mask = np.expand_dims(mask,0)\n",
    "            mask = np.repeat(mask,logits.shape[0],0)\n",
    "            np.place(mask,mask==1,0.0)\n",
    "            np.place(mask,mask==0,1.0)\n",
    "            mask = nd.array(mask)\n",
    "            logits =  F.elemwise_mul(logits,mask)\n",
    "            probs = F.softmax(logits / self.sqrt_k, axis=2)\n",
    "            if self.show_shape:\n",
    "                print(\"probs shape:{}\".format(probs.shape))\n",
    "                print(\"values shape:{}\".format(values.shape))\n",
    "            read = nd.linalg_gemm2(probs,values)\n",
    "            concat_data = F.concat(x,read,dim=2)\n",
    "            return concat_data\n",
    "            #return queries,probs"
   ]
  },
  {
   "cell_type": "code",
   "execution_count": 8,
   "metadata": {
    "ExecuteTime": {
     "end_time": "2018-07-12T02:18:14.492388Z",
     "start_time": "2018-07-12T02:18:14.449238Z"
    }
   },
   "outputs": [],
   "source": [
    "class CnnEmbedding(nn.Block):\n",
    "    \n",
    "    def __init__(self,**kwargs):\n",
    "        super(CnnEmbedding,self).__init__(**kwargs)\n",
    "        with self.name_scope():\n",
    "            self.cnn1 = nn.Conv2D(64,3,padding=1,activation='relu')\n",
    "            self.bn1 =  nn.BatchNorm()\n",
    "            self.max1 = nn.MaxPool2D(2,2)\n",
    "            self.cnn2 = nn.Conv2D(64,3,padding=1,activation='relu')\n",
    "            self.bn2 = nn.BatchNorm()\n",
    "            self.max2 = nn.MaxPool2D(2,2)\n",
    "            self.cnn3 = nn.Conv2D(64,3,padding=1,activation='relu')\n",
    "            self.bn3 = nn.BatchNorm()\n",
    "            self.max3 = nn.MaxPool2D(2,2)\n",
    "            self.cnn4 = nn.Conv2D(64,3,padding=1,activation='relu')\n",
    "            self.bn4 = nn.BatchNorm()\n",
    "            self.max4 = nn.MaxPool2D(2)\n",
    "    \n",
    "    def forward(self,x):\n",
    "        out = self.cnn1(x)\n",
    "        out = self.bn1(out)\n",
    "        out = self.max1(out)\n",
    "        out = self.cnn2(out)\n",
    "        out = self.bn2(out)\n",
    "        out = self.max2(out)\n",
    "        out = self.cnn3(out)\n",
    "        out = self.bn3(out)\n",
    "        out = self.max3(out)\n",
    "        out = self.cnn4(out)\n",
    "        out = self.bn4(out)\n",
    "        out = self.max4(out)\n",
    "        return out.reshape(out.shape[0],-1)"
   ]
  },
  {
   "cell_type": "code",
   "execution_count": 9,
   "metadata": {
    "ExecuteTime": {
     "end_time": "2018-07-12T02:18:14.558932Z",
     "start_time": "2018-07-12T02:18:14.493701Z"
    }
   },
   "outputs": [],
   "source": [
    "class SNAIL(nn.Block):\n",
    "    def __init__(self,N,K,input_dims,**kwargs):\n",
    "        super(SNAIL,self).__init__(**kwargs)\n",
    "        self.N = N\n",
    "        self.K = K\n",
    "        self.num_filters = int(math.ceil(math.log(N * K + 1)))\n",
    "        self.ctx = ctx\n",
    "        self.num_channels = input_dims + N\n",
    "        with self.name_scope():\n",
    "            self.cnn_emb = CnnEmbedding()\n",
    "            self.attn1 = AttentionBlock(64, 32)\n",
    "            attn1_out_shape = self.num_channels + 32\n",
    "            self.tc1 = TCBlock(attn1_out_shape ,N*K+1 , 128)\n",
    "            tc1_out_shape = attn1_out_shape + self.num_filters * 128\n",
    "            self.attn2 = AttentionBlock(256, 128)\n",
    "            attn2_out_shape = tc1_out_shape + 128\n",
    "            self.tc2 = TCBlock(attn2_out_shape ,N*K+1 , 128)\n",
    "            tc2_out_shape = attn2_out_shape + self.num_filters * 128\n",
    "            self.attn3 = AttentionBlock(512, 256)\n",
    "            attn3_out_shape = tc2_out_shape + 128\n",
    "            self.fc = nn.Dense(N,flatten=False)\n",
    "                        \n",
    "    def forward(self, x, labels):\n",
    "        with x.context:\n",
    "            batch_size = int(labels.shape[0] / (self.N * self.K + 1))\n",
    "            last_idxs = [(i + 1) * (self.N * self.K + 1) - 1 for i in range(batch_size)]\n",
    "            labels[last_idxs] = nd.zeros(shape=(batch_size, labels.shape[1]))\n",
    "            x = self.cnn_emb(x)\n",
    "            x = F.concat(x,labels,dim=1)\n",
    "            x = x.reshape((batch_size,self.N*self.K+1,-1))\n",
    "            x = self.attn1(x)\n",
    "            x = self.tc1(x)\n",
    "            x = self.attn2(x)\n",
    "            x = self.tc2(x)\n",
    "            x = self.attn3(x)\n",
    "            x = self.fc(x)\n",
    "        \n",
    "        return x\n",
    "        "
   ]
  },
  {
   "cell_type": "code",
   "execution_count": 10,
   "metadata": {
    "ExecuteTime": {
     "end_time": "2018-07-12T02:18:29.332745Z",
     "start_time": "2018-07-12T02:18:14.560325Z"
    }
   },
   "outputs": [
    {
     "name": "stdout",
     "output_type": "stream",
     "text": [
      "/home/skinet/work/datasets/omniglot/data\n",
      "== Dataset: Found 82240 items \n",
      "== Dataset: Found 4112 classes\n"
     ]
    }
   ],
   "source": [
    "train_dataset = OmniglotDataset(mode='train',download=False)"
   ]
  },
  {
   "cell_type": "code",
   "execution_count": 11,
   "metadata": {
    "ExecuteTime": {
     "end_time": "2018-07-12T02:18:36.024271Z",
     "start_time": "2018-07-12T02:18:29.334086Z"
    }
   },
   "outputs": [
    {
     "name": "stdout",
     "output_type": "stream",
     "text": [
      "/home/skinet/work/datasets/omniglot/data\n",
      "== Dataset: Found 33840 items \n",
      "== Dataset: Found 1692 classes\n"
     ]
    }
   ],
   "source": [
    "test_dataset = OmniglotDataset(mode='test',download=False)"
   ]
  },
  {
   "cell_type": "code",
   "execution_count": 12,
   "metadata": {
    "ExecuteTime": {
     "end_time": "2018-07-12T02:18:36.031946Z",
     "start_time": "2018-07-12T02:18:36.025982Z"
    }
   },
   "outputs": [],
   "source": [
    "N = 10     #num_class\n",
    "K = 5  #num_samples\n",
    "iterations = 1000\n",
    "batch_size = 24\n",
    "GPU_INDEX = [4,5,6]\n",
    "ctx = [mx.gpu(i) for i in GPU_INDEX]\n",
    "\n",
    "iterations = int(iterations / len(ctx))\n",
    "batch_size = int(batch_size * len(ctx))\n",
    "epoches = 200"
   ]
  },
  {
   "cell_type": "code",
   "execution_count": 13,
   "metadata": {
    "ExecuteTime": {
     "end_time": "2018-07-12T02:18:37.014001Z",
     "start_time": "2018-07-12T02:18:36.033346Z"
    }
   },
   "outputs": [],
   "source": [
    "tr_sampler = BatchSampler(labels=train_dataset.y,\n",
    "                                          classes_per_it=N,\n",
    "                                          num_samples=K,\n",
    "                                          iterations=iterations,\n",
    "                                          batch_size=batch_size)"
   ]
  },
  {
   "cell_type": "code",
   "execution_count": 14,
   "metadata": {
    "ExecuteTime": {
     "end_time": "2018-07-12T02:18:37.346225Z",
     "start_time": "2018-07-12T02:18:37.015628Z"
    }
   },
   "outputs": [],
   "source": [
    "te_sampler = BatchSampler(labels=test_dataset.y,\n",
    "                                          classes_per_it=N,\n",
    "                                          num_samples=K,\n",
    "                                          iterations= iterations,\n",
    "                                          batch_size= int(batch_size / len(ctx)))"
   ]
  },
  {
   "cell_type": "code",
   "execution_count": 15,
   "metadata": {
    "ExecuteTime": {
     "end_time": "2018-07-12T02:18:37.349922Z",
     "start_time": "2018-07-12T02:18:37.347522Z"
    }
   },
   "outputs": [],
   "source": [
    "tr_dataloader = torch.utils.data.DataLoader(train_dataset, batch_sampler=tr_sampler)\n",
    "te_dataloader = torch.utils.data.DataLoader(test_dataset, batch_sampler=te_sampler)"
   ]
  },
  {
   "cell_type": "code",
   "execution_count": 16,
   "metadata": {
    "ExecuteTime": {
     "end_time": "2018-07-12T02:18:37.366040Z",
     "start_time": "2018-07-12T02:18:37.351315Z"
    }
   },
   "outputs": [],
   "source": [
    "def batch_for_few_shot(num_cls,num_samples,batch_size, x, y):\n",
    "    seq_size = num_cls * num_samples + 1\n",
    "    one_hots = []\n",
    "    last_targets = []\n",
    "    for i in range(batch_size):\n",
    "        one_hot, idxs = labels_to_one_hot(y[i * seq_size: (i + 1) * seq_size])\n",
    "        one_hots.append(one_hot)\n",
    "        last_targets.append(idxs[-1])\n",
    "    #last_targets = Variable(torch.Tensor(last_targets).long())\n",
    "    last_targets =torch.Tensor(last_targets).long()\n",
    "    one_hots = [torch.Tensor(temp) for temp in one_hots]\n",
    "    y = torch.cat(one_hots, dim=0)\n",
    "    #x, y = Variable(x), Variable(y)\n",
    "    x = nd.array(x.data.numpy())\n",
    "    y = nd.array(y.data.numpy())\n",
    "    last_targets = nd.array(last_targets.data.numpy())\n",
    "    return x, y, last_targets"
   ]
  },
  {
   "cell_type": "code",
   "execution_count": 17,
   "metadata": {
    "ExecuteTime": {
     "end_time": "2018-07-12T02:18:37.373176Z",
     "start_time": "2018-07-12T02:18:37.367422Z"
    }
   },
   "outputs": [],
   "source": [
    "def labels_to_one_hot(labels):\n",
    "    labels = labels.numpy()\n",
    "    unique = np.unique(labels)\n",
    "    map = {label:idx for idx, label in enumerate(unique)}\n",
    "    idxs = [map[labels[i]] for i in range(labels.size)]\n",
    "    one_hot = np.zeros((labels.size, unique.size))\n",
    "    one_hot[np.arange(labels.size), idxs] = 1\n",
    "    return one_hot, idxs"
   ]
  },
  {
   "cell_type": "code",
   "execution_count": 18,
   "metadata": {
    "ExecuteTime": {
     "end_time": "2018-07-12T02:18:54.585827Z",
     "start_time": "2018-07-12T02:18:37.374393Z"
    }
   },
   "outputs": [],
   "source": [
    "model = SNAIL(N=N,K=K,input_dims=64)\n",
    "model.collect_params().initialize(ctx=ctx)\n",
    "loss_fn = gluon.loss.SoftmaxCrossEntropyLoss()\n",
    "trainer = gluon.Trainer(model.collect_params(),optimizer='Adam',optimizer_params={'learning_rate':0.0001})"
   ]
  },
  {
   "cell_type": "code",
   "execution_count": 19,
   "metadata": {},
   "outputs": [],
   "source": [
    "from tqdm import tnrange, tqdm_notebook"
   ]
  },
  {
   "cell_type": "code",
   "execution_count": 20,
   "metadata": {
    "ExecuteTime": {
     "end_time": "2018-07-12T04:49:55.864237Z",
     "start_time": "2018-07-12T02:18:54.587933Z"
    }
   },
   "outputs": [
    {
     "data": {
      "application/vnd.jupyter.widget-view+json": {
       "model_id": "4bd9ad2b25dc47bd9ba713ed95a283a7",
       "version_major": 2,
       "version_minor": 0
      },
      "text/plain": [
       "HBox(children=(IntProgress(value=0, max=200), HTML(value='')))"
      ]
     },
     "metadata": {},
     "output_type": "display_data"
    },
    {
     "name": "stderr",
     "output_type": "stream",
     "text": [
      "  2%|▏         | 5/333 [00:03<03:50,  1.42it/s]"
     ]
    },
    {
     "name": "stdout",
     "output_type": "stream",
     "text": [
      "\n"
     ]
    },
    {
     "name": "stderr",
     "output_type": "stream",
     "text": [
      "\n"
     ]
    },
    {
     "ename": "KeyboardInterrupt",
     "evalue": "",
     "output_type": "error",
     "traceback": [
      "\u001b[0;31m---------------------------------------------------------------------------\u001b[0m",
      "\u001b[0;31mKeyboardInterrupt\u001b[0m                         Traceback (most recent call last)",
      "\u001b[0;32m<ipython-input-20-3b5139c58dd9>\u001b[0m in \u001b[0;36m<module>\u001b[0;34m()\u001b[0m\n\u001b[1;32m     16\u001b[0m             \u001b[0my_split\u001b[0m \u001b[0;34m=\u001b[0m \u001b[0mgluon\u001b[0m\u001b[0;34m.\u001b[0m\u001b[0mutils\u001b[0m\u001b[0;34m.\u001b[0m\u001b[0msplit_and_load\u001b[0m\u001b[0;34m(\u001b[0m\u001b[0my\u001b[0m\u001b[0;34m,\u001b[0m\u001b[0mctx\u001b[0m\u001b[0;34m)\u001b[0m\u001b[0;34m\u001b[0m\u001b[0m\n\u001b[1;32m     17\u001b[0m             \u001b[0mlast_targets_split\u001b[0m \u001b[0;34m=\u001b[0m \u001b[0mgluon\u001b[0m\u001b[0;34m.\u001b[0m\u001b[0mutils\u001b[0m\u001b[0;34m.\u001b[0m\u001b[0msplit_and_load\u001b[0m\u001b[0;34m(\u001b[0m\u001b[0mlast_targets\u001b[0m\u001b[0;34m,\u001b[0m\u001b[0mctx\u001b[0m\u001b[0;34m)\u001b[0m\u001b[0;34m\u001b[0m\u001b[0m\n\u001b[0;32m---> 18\u001b[0;31m             \u001b[0mlast_model\u001b[0m \u001b[0;34m=\u001b[0m \u001b[0;34m[\u001b[0m\u001b[0mmodel\u001b[0m\u001b[0;34m(\u001b[0m\u001b[0mX\u001b[0m\u001b[0;34m,\u001b[0m\u001b[0mY\u001b[0m\u001b[0;34m)\u001b[0m\u001b[0;34m[\u001b[0m\u001b[0;34m:\u001b[0m\u001b[0;34m,\u001b[0m\u001b[0;34m-\u001b[0m\u001b[0;36m1\u001b[0m\u001b[0;34m,\u001b[0m\u001b[0;34m:\u001b[0m\u001b[0;34m]\u001b[0m \u001b[0;32mfor\u001b[0m \u001b[0mX\u001b[0m\u001b[0;34m,\u001b[0m \u001b[0mY\u001b[0m \u001b[0;32min\u001b[0m \u001b[0mzip\u001b[0m\u001b[0;34m(\u001b[0m\u001b[0mx_split\u001b[0m\u001b[0;34m,\u001b[0m\u001b[0my_split\u001b[0m\u001b[0;34m)\u001b[0m\u001b[0;34m]\u001b[0m\u001b[0;34m\u001b[0m\u001b[0m\n\u001b[0m\u001b[1;32m     19\u001b[0m             \u001b[0mloss_val\u001b[0m \u001b[0;34m=\u001b[0m \u001b[0;34m[\u001b[0m\u001b[0mloss_fn\u001b[0m\u001b[0;34m(\u001b[0m\u001b[0mX\u001b[0m\u001b[0;34m,\u001b[0m\u001b[0mY\u001b[0m\u001b[0;34m)\u001b[0m \u001b[0;32mfor\u001b[0m \u001b[0mX\u001b[0m\u001b[0;34m,\u001b[0m \u001b[0mY\u001b[0m \u001b[0;32min\u001b[0m \u001b[0mzip\u001b[0m\u001b[0;34m(\u001b[0m\u001b[0mlast_model\u001b[0m\u001b[0;34m,\u001b[0m\u001b[0mlast_targets_split\u001b[0m\u001b[0;34m)\u001b[0m\u001b[0;34m]\u001b[0m\u001b[0;34m\u001b[0m\u001b[0m\n\u001b[1;32m     20\u001b[0m             \u001b[0;31m#loss_val = [loss_fn(model(X,Y)[:,-1,:],L) for X, Y, L in zip(x_split,y_split,last_targets_split)]\u001b[0m\u001b[0;34m\u001b[0m\u001b[0;34m\u001b[0m\u001b[0m\n",
      "\u001b[0;32m<ipython-input-20-3b5139c58dd9>\u001b[0m in \u001b[0;36m<listcomp>\u001b[0;34m(.0)\u001b[0m\n\u001b[1;32m     16\u001b[0m             \u001b[0my_split\u001b[0m \u001b[0;34m=\u001b[0m \u001b[0mgluon\u001b[0m\u001b[0;34m.\u001b[0m\u001b[0mutils\u001b[0m\u001b[0;34m.\u001b[0m\u001b[0msplit_and_load\u001b[0m\u001b[0;34m(\u001b[0m\u001b[0my\u001b[0m\u001b[0;34m,\u001b[0m\u001b[0mctx\u001b[0m\u001b[0;34m)\u001b[0m\u001b[0;34m\u001b[0m\u001b[0m\n\u001b[1;32m     17\u001b[0m             \u001b[0mlast_targets_split\u001b[0m \u001b[0;34m=\u001b[0m \u001b[0mgluon\u001b[0m\u001b[0;34m.\u001b[0m\u001b[0mutils\u001b[0m\u001b[0;34m.\u001b[0m\u001b[0msplit_and_load\u001b[0m\u001b[0;34m(\u001b[0m\u001b[0mlast_targets\u001b[0m\u001b[0;34m,\u001b[0m\u001b[0mctx\u001b[0m\u001b[0;34m)\u001b[0m\u001b[0;34m\u001b[0m\u001b[0m\n\u001b[0;32m---> 18\u001b[0;31m             \u001b[0mlast_model\u001b[0m \u001b[0;34m=\u001b[0m \u001b[0;34m[\u001b[0m\u001b[0mmodel\u001b[0m\u001b[0;34m(\u001b[0m\u001b[0mX\u001b[0m\u001b[0;34m,\u001b[0m\u001b[0mY\u001b[0m\u001b[0;34m)\u001b[0m\u001b[0;34m[\u001b[0m\u001b[0;34m:\u001b[0m\u001b[0;34m,\u001b[0m\u001b[0;34m-\u001b[0m\u001b[0;36m1\u001b[0m\u001b[0;34m,\u001b[0m\u001b[0;34m:\u001b[0m\u001b[0;34m]\u001b[0m \u001b[0;32mfor\u001b[0m \u001b[0mX\u001b[0m\u001b[0;34m,\u001b[0m \u001b[0mY\u001b[0m \u001b[0;32min\u001b[0m \u001b[0mzip\u001b[0m\u001b[0;34m(\u001b[0m\u001b[0mx_split\u001b[0m\u001b[0;34m,\u001b[0m\u001b[0my_split\u001b[0m\u001b[0;34m)\u001b[0m\u001b[0;34m]\u001b[0m\u001b[0;34m\u001b[0m\u001b[0m\n\u001b[0m\u001b[1;32m     19\u001b[0m             \u001b[0mloss_val\u001b[0m \u001b[0;34m=\u001b[0m \u001b[0;34m[\u001b[0m\u001b[0mloss_fn\u001b[0m\u001b[0;34m(\u001b[0m\u001b[0mX\u001b[0m\u001b[0;34m,\u001b[0m\u001b[0mY\u001b[0m\u001b[0;34m)\u001b[0m \u001b[0;32mfor\u001b[0m \u001b[0mX\u001b[0m\u001b[0;34m,\u001b[0m \u001b[0mY\u001b[0m \u001b[0;32min\u001b[0m \u001b[0mzip\u001b[0m\u001b[0;34m(\u001b[0m\u001b[0mlast_model\u001b[0m\u001b[0;34m,\u001b[0m\u001b[0mlast_targets_split\u001b[0m\u001b[0;34m)\u001b[0m\u001b[0;34m]\u001b[0m\u001b[0;34m\u001b[0m\u001b[0m\n\u001b[1;32m     20\u001b[0m             \u001b[0;31m#loss_val = [loss_fn(model(X,Y)[:,-1,:],L) for X, Y, L in zip(x_split,y_split,last_targets_split)]\u001b[0m\u001b[0;34m\u001b[0m\u001b[0;34m\u001b[0m\u001b[0m\n",
      "\u001b[0;32m/opt/venv/lib/python3.6/site-packages/mxnet/gluon/block.py\u001b[0m in \u001b[0;36m__call__\u001b[0;34m(self, *args)\u001b[0m\n\u001b[1;32m    411\u001b[0m     \u001b[0;32mdef\u001b[0m \u001b[0m__call__\u001b[0m\u001b[0;34m(\u001b[0m\u001b[0mself\u001b[0m\u001b[0;34m,\u001b[0m \u001b[0;34m*\u001b[0m\u001b[0margs\u001b[0m\u001b[0;34m)\u001b[0m\u001b[0;34m:\u001b[0m\u001b[0;34m\u001b[0m\u001b[0m\n\u001b[1;32m    412\u001b[0m         \u001b[0;34m\"\"\"Calls forward. Only accepts positional arguments.\"\"\"\u001b[0m\u001b[0;34m\u001b[0m\u001b[0m\n\u001b[0;32m--> 413\u001b[0;31m         \u001b[0;32mreturn\u001b[0m \u001b[0mself\u001b[0m\u001b[0;34m.\u001b[0m\u001b[0mforward\u001b[0m\u001b[0;34m(\u001b[0m\u001b[0;34m*\u001b[0m\u001b[0margs\u001b[0m\u001b[0;34m)\u001b[0m\u001b[0;34m\u001b[0m\u001b[0m\n\u001b[0m\u001b[1;32m    414\u001b[0m \u001b[0;34m\u001b[0m\u001b[0m\n\u001b[1;32m    415\u001b[0m     \u001b[0;32mdef\u001b[0m \u001b[0mforward\u001b[0m\u001b[0;34m(\u001b[0m\u001b[0mself\u001b[0m\u001b[0;34m,\u001b[0m \u001b[0;34m*\u001b[0m\u001b[0margs\u001b[0m\u001b[0;34m)\u001b[0m\u001b[0;34m:\u001b[0m\u001b[0;34m\u001b[0m\u001b[0m\n",
      "\u001b[0;32m<ipython-input-9-f723b79551a6>\u001b[0m in \u001b[0;36mforward\u001b[0;34m(self, x, labels)\u001b[0m\n\u001b[1;32m     30\u001b[0m             \u001b[0mx\u001b[0m \u001b[0;34m=\u001b[0m \u001b[0mx\u001b[0m\u001b[0;34m.\u001b[0m\u001b[0mreshape\u001b[0m\u001b[0;34m(\u001b[0m\u001b[0;34m(\u001b[0m\u001b[0mbatch_size\u001b[0m\u001b[0;34m,\u001b[0m\u001b[0mN\u001b[0m\u001b[0;34m*\u001b[0m\u001b[0mK\u001b[0m\u001b[0;34m+\u001b[0m\u001b[0;36m1\u001b[0m\u001b[0;34m,\u001b[0m\u001b[0;34m-\u001b[0m\u001b[0;36m1\u001b[0m\u001b[0;34m)\u001b[0m\u001b[0;34m)\u001b[0m\u001b[0;34m\u001b[0m\u001b[0m\n\u001b[1;32m     31\u001b[0m             \u001b[0mx\u001b[0m \u001b[0;34m=\u001b[0m \u001b[0mself\u001b[0m\u001b[0;34m.\u001b[0m\u001b[0mattn1\u001b[0m\u001b[0;34m(\u001b[0m\u001b[0mx\u001b[0m\u001b[0;34m)\u001b[0m\u001b[0;34m\u001b[0m\u001b[0m\n\u001b[0;32m---> 32\u001b[0;31m             \u001b[0mx\u001b[0m \u001b[0;34m=\u001b[0m \u001b[0mself\u001b[0m\u001b[0;34m.\u001b[0m\u001b[0mtc1\u001b[0m\u001b[0;34m(\u001b[0m\u001b[0mx\u001b[0m\u001b[0;34m)\u001b[0m\u001b[0;34m\u001b[0m\u001b[0m\n\u001b[0m\u001b[1;32m     33\u001b[0m             \u001b[0mx\u001b[0m \u001b[0;34m=\u001b[0m \u001b[0mself\u001b[0m\u001b[0;34m.\u001b[0m\u001b[0mattn2\u001b[0m\u001b[0;34m(\u001b[0m\u001b[0mx\u001b[0m\u001b[0;34m)\u001b[0m\u001b[0;34m\u001b[0m\u001b[0m\n\u001b[1;32m     34\u001b[0m             \u001b[0mx\u001b[0m \u001b[0;34m=\u001b[0m \u001b[0mself\u001b[0m\u001b[0;34m.\u001b[0m\u001b[0mtc2\u001b[0m\u001b[0;34m(\u001b[0m\u001b[0mx\u001b[0m\u001b[0;34m)\u001b[0m\u001b[0;34m\u001b[0m\u001b[0m\n",
      "\u001b[0;32m/opt/venv/lib/python3.6/site-packages/mxnet/gluon/block.py\u001b[0m in \u001b[0;36m__call__\u001b[0;34m(self, *args)\u001b[0m\n\u001b[1;32m    411\u001b[0m     \u001b[0;32mdef\u001b[0m \u001b[0m__call__\u001b[0m\u001b[0;34m(\u001b[0m\u001b[0mself\u001b[0m\u001b[0;34m,\u001b[0m \u001b[0;34m*\u001b[0m\u001b[0margs\u001b[0m\u001b[0;34m)\u001b[0m\u001b[0;34m:\u001b[0m\u001b[0;34m\u001b[0m\u001b[0m\n\u001b[1;32m    412\u001b[0m         \u001b[0;34m\"\"\"Calls forward. Only accepts positional arguments.\"\"\"\u001b[0m\u001b[0;34m\u001b[0m\u001b[0m\n\u001b[0;32m--> 413\u001b[0;31m         \u001b[0;32mreturn\u001b[0m \u001b[0mself\u001b[0m\u001b[0;34m.\u001b[0m\u001b[0mforward\u001b[0m\u001b[0;34m(\u001b[0m\u001b[0;34m*\u001b[0m\u001b[0margs\u001b[0m\u001b[0;34m)\u001b[0m\u001b[0;34m\u001b[0m\u001b[0m\n\u001b[0m\u001b[1;32m    414\u001b[0m \u001b[0;34m\u001b[0m\u001b[0m\n\u001b[1;32m    415\u001b[0m     \u001b[0;32mdef\u001b[0m \u001b[0mforward\u001b[0m\u001b[0;34m(\u001b[0m\u001b[0mself\u001b[0m\u001b[0;34m,\u001b[0m \u001b[0;34m*\u001b[0m\u001b[0margs\u001b[0m\u001b[0;34m)\u001b[0m\u001b[0;34m:\u001b[0m\u001b[0;34m\u001b[0m\u001b[0m\n",
      "\u001b[0;32m<ipython-input-6-8507ab1ba365>\u001b[0m in \u001b[0;36mforward\u001b[0;34m(self, x)\u001b[0m\n\u001b[1;32m     11\u001b[0m     \u001b[0;32mdef\u001b[0m \u001b[0mforward\u001b[0m\u001b[0;34m(\u001b[0m\u001b[0mself\u001b[0m\u001b[0;34m,\u001b[0m \u001b[0mx\u001b[0m\u001b[0;34m)\u001b[0m\u001b[0;34m:\u001b[0m\u001b[0;34m\u001b[0m\u001b[0m\n\u001b[1;32m     12\u001b[0m         \u001b[0mx\u001b[0m \u001b[0;34m=\u001b[0m \u001b[0mx\u001b[0m\u001b[0;34m.\u001b[0m\u001b[0mswapaxes\u001b[0m\u001b[0;34m(\u001b[0m\u001b[0;36m1\u001b[0m\u001b[0;34m,\u001b[0m\u001b[0;36m2\u001b[0m\u001b[0;34m)\u001b[0m\u001b[0;34m\u001b[0m\u001b[0m\n\u001b[0;32m---> 13\u001b[0;31m         \u001b[0mout\u001b[0m \u001b[0;34m=\u001b[0m \u001b[0mself\u001b[0m\u001b[0;34m.\u001b[0m\u001b[0mblocks\u001b[0m\u001b[0;34m(\u001b[0m\u001b[0mx\u001b[0m\u001b[0;34m)\u001b[0m\u001b[0;34m\u001b[0m\u001b[0m\n\u001b[0m\u001b[1;32m     14\u001b[0m         \u001b[0;32mreturn\u001b[0m \u001b[0mout\u001b[0m\u001b[0;34m.\u001b[0m\u001b[0mswapaxes\u001b[0m\u001b[0;34m(\u001b[0m\u001b[0;36m1\u001b[0m\u001b[0;34m,\u001b[0m\u001b[0;36m2\u001b[0m\u001b[0;34m)\u001b[0m\u001b[0;34m\u001b[0m\u001b[0m\n",
      "\u001b[0;32m/opt/venv/lib/python3.6/site-packages/mxnet/gluon/block.py\u001b[0m in \u001b[0;36m__call__\u001b[0;34m(self, *args)\u001b[0m\n\u001b[1;32m    411\u001b[0m     \u001b[0;32mdef\u001b[0m \u001b[0m__call__\u001b[0m\u001b[0;34m(\u001b[0m\u001b[0mself\u001b[0m\u001b[0;34m,\u001b[0m \u001b[0;34m*\u001b[0m\u001b[0margs\u001b[0m\u001b[0;34m)\u001b[0m\u001b[0;34m:\u001b[0m\u001b[0;34m\u001b[0m\u001b[0m\n\u001b[1;32m    412\u001b[0m         \u001b[0;34m\"\"\"Calls forward. Only accepts positional arguments.\"\"\"\u001b[0m\u001b[0;34m\u001b[0m\u001b[0m\n\u001b[0;32m--> 413\u001b[0;31m         \u001b[0;32mreturn\u001b[0m \u001b[0mself\u001b[0m\u001b[0;34m.\u001b[0m\u001b[0mforward\u001b[0m\u001b[0;34m(\u001b[0m\u001b[0;34m*\u001b[0m\u001b[0margs\u001b[0m\u001b[0;34m)\u001b[0m\u001b[0;34m\u001b[0m\u001b[0m\n\u001b[0m\u001b[1;32m    414\u001b[0m \u001b[0;34m\u001b[0m\u001b[0m\n\u001b[1;32m    415\u001b[0m     \u001b[0;32mdef\u001b[0m \u001b[0mforward\u001b[0m\u001b[0;34m(\u001b[0m\u001b[0mself\u001b[0m\u001b[0;34m,\u001b[0m \u001b[0;34m*\u001b[0m\u001b[0margs\u001b[0m\u001b[0;34m)\u001b[0m\u001b[0;34m:\u001b[0m\u001b[0;34m\u001b[0m\u001b[0m\n",
      "\u001b[0;32m/opt/venv/lib/python3.6/site-packages/mxnet/gluon/nn/basic_layers.py\u001b[0m in \u001b[0;36mforward\u001b[0;34m(self, x)\u001b[0m\n\u001b[1;32m     51\u001b[0m     \u001b[0;32mdef\u001b[0m \u001b[0mforward\u001b[0m\u001b[0;34m(\u001b[0m\u001b[0mself\u001b[0m\u001b[0;34m,\u001b[0m \u001b[0mx\u001b[0m\u001b[0;34m)\u001b[0m\u001b[0;34m:\u001b[0m\u001b[0;34m\u001b[0m\u001b[0m\n\u001b[1;32m     52\u001b[0m         \u001b[0;32mfor\u001b[0m \u001b[0mblock\u001b[0m \u001b[0;32min\u001b[0m \u001b[0mself\u001b[0m\u001b[0;34m.\u001b[0m\u001b[0m_children\u001b[0m\u001b[0;34m.\u001b[0m\u001b[0mvalues\u001b[0m\u001b[0;34m(\u001b[0m\u001b[0;34m)\u001b[0m\u001b[0;34m:\u001b[0m\u001b[0;34m\u001b[0m\u001b[0m\n\u001b[0;32m---> 53\u001b[0;31m             \u001b[0mx\u001b[0m \u001b[0;34m=\u001b[0m \u001b[0mblock\u001b[0m\u001b[0;34m(\u001b[0m\u001b[0mx\u001b[0m\u001b[0;34m)\u001b[0m\u001b[0;34m\u001b[0m\u001b[0m\n\u001b[0m\u001b[1;32m     54\u001b[0m         \u001b[0;32mreturn\u001b[0m \u001b[0mx\u001b[0m\u001b[0;34m\u001b[0m\u001b[0m\n\u001b[1;32m     55\u001b[0m \u001b[0;34m\u001b[0m\u001b[0m\n",
      "\u001b[0;32m/opt/venv/lib/python3.6/site-packages/mxnet/gluon/block.py\u001b[0m in \u001b[0;36m__call__\u001b[0;34m(self, *args)\u001b[0m\n\u001b[1;32m    411\u001b[0m     \u001b[0;32mdef\u001b[0m \u001b[0m__call__\u001b[0m\u001b[0;34m(\u001b[0m\u001b[0mself\u001b[0m\u001b[0;34m,\u001b[0m \u001b[0;34m*\u001b[0m\u001b[0margs\u001b[0m\u001b[0;34m)\u001b[0m\u001b[0;34m:\u001b[0m\u001b[0;34m\u001b[0m\u001b[0m\n\u001b[1;32m    412\u001b[0m         \u001b[0;34m\"\"\"Calls forward. Only accepts positional arguments.\"\"\"\u001b[0m\u001b[0;34m\u001b[0m\u001b[0m\n\u001b[0;32m--> 413\u001b[0;31m         \u001b[0;32mreturn\u001b[0m \u001b[0mself\u001b[0m\u001b[0;34m.\u001b[0m\u001b[0mforward\u001b[0m\u001b[0;34m(\u001b[0m\u001b[0;34m*\u001b[0m\u001b[0margs\u001b[0m\u001b[0;34m)\u001b[0m\u001b[0;34m\u001b[0m\u001b[0m\n\u001b[0m\u001b[1;32m    414\u001b[0m \u001b[0;34m\u001b[0m\u001b[0m\n\u001b[1;32m    415\u001b[0m     \u001b[0;32mdef\u001b[0m \u001b[0mforward\u001b[0m\u001b[0;34m(\u001b[0m\u001b[0mself\u001b[0m\u001b[0;34m,\u001b[0m \u001b[0;34m*\u001b[0m\u001b[0margs\u001b[0m\u001b[0;34m)\u001b[0m\u001b[0;34m:\u001b[0m\u001b[0;34m\u001b[0m\u001b[0m\n",
      "\u001b[0;32m<ipython-input-5-aa480394216d>\u001b[0m in \u001b[0;36mforward\u001b[0;34m(self, x)\u001b[0m\n\u001b[1;32m      9\u001b[0m     \u001b[0;32mdef\u001b[0m \u001b[0mforward\u001b[0m\u001b[0;34m(\u001b[0m\u001b[0mself\u001b[0m\u001b[0;34m,\u001b[0m \u001b[0mx\u001b[0m\u001b[0;34m)\u001b[0m\u001b[0;34m:\u001b[0m\u001b[0;34m\u001b[0m\u001b[0m\n\u001b[1;32m     10\u001b[0m         \u001b[0;31m#print(x.shape)\u001b[0m\u001b[0;34m\u001b[0m\u001b[0;34m\u001b[0m\u001b[0m\n\u001b[0;32m---> 11\u001b[0;31m         \u001b[0mtanh\u001b[0m \u001b[0;34m=\u001b[0m \u001b[0mF\u001b[0m\u001b[0;34m.\u001b[0m\u001b[0mtanh\u001b[0m\u001b[0;34m(\u001b[0m\u001b[0mself\u001b[0m\u001b[0;34m.\u001b[0m\u001b[0mcasual_conv1\u001b[0m\u001b[0;34m(\u001b[0m\u001b[0mx\u001b[0m\u001b[0;34m)\u001b[0m\u001b[0;34m)\u001b[0m\u001b[0;34m\u001b[0m\u001b[0m\n\u001b[0m\u001b[1;32m     12\u001b[0m         \u001b[0msigmoid\u001b[0m \u001b[0;34m=\u001b[0m \u001b[0mF\u001b[0m\u001b[0;34m.\u001b[0m\u001b[0msigmoid\u001b[0m\u001b[0;34m(\u001b[0m\u001b[0mself\u001b[0m\u001b[0;34m.\u001b[0m\u001b[0mcasual_conv1\u001b[0m\u001b[0;34m(\u001b[0m\u001b[0mx\u001b[0m\u001b[0;34m)\u001b[0m\u001b[0;34m)\u001b[0m\u001b[0;34m\u001b[0m\u001b[0m\n\u001b[1;32m     13\u001b[0m         \u001b[0mout\u001b[0m \u001b[0;34m=\u001b[0m  \u001b[0mF\u001b[0m\u001b[0;34m.\u001b[0m\u001b[0mconcat\u001b[0m\u001b[0;34m(\u001b[0m\u001b[0mx\u001b[0m\u001b[0;34m,\u001b[0m\u001b[0mtanh\u001b[0m\u001b[0;34m*\u001b[0m\u001b[0msigmoid\u001b[0m\u001b[0;34m,\u001b[0m \u001b[0mdim\u001b[0m\u001b[0;34m=\u001b[0m\u001b[0;36m1\u001b[0m\u001b[0;34m)\u001b[0m\u001b[0;34m\u001b[0m\u001b[0m\n",
      "\u001b[0;32m/opt/venv/lib/python3.6/site-packages/mxnet/gluon/block.py\u001b[0m in \u001b[0;36m__call__\u001b[0;34m(self, *args)\u001b[0m\n\u001b[1;32m    411\u001b[0m     \u001b[0;32mdef\u001b[0m \u001b[0m__call__\u001b[0m\u001b[0;34m(\u001b[0m\u001b[0mself\u001b[0m\u001b[0;34m,\u001b[0m \u001b[0;34m*\u001b[0m\u001b[0margs\u001b[0m\u001b[0;34m)\u001b[0m\u001b[0;34m:\u001b[0m\u001b[0;34m\u001b[0m\u001b[0m\n\u001b[1;32m    412\u001b[0m         \u001b[0;34m\"\"\"Calls forward. Only accepts positional arguments.\"\"\"\u001b[0m\u001b[0;34m\u001b[0m\u001b[0m\n\u001b[0;32m--> 413\u001b[0;31m         \u001b[0;32mreturn\u001b[0m \u001b[0mself\u001b[0m\u001b[0;34m.\u001b[0m\u001b[0mforward\u001b[0m\u001b[0;34m(\u001b[0m\u001b[0;34m*\u001b[0m\u001b[0margs\u001b[0m\u001b[0;34m)\u001b[0m\u001b[0;34m\u001b[0m\u001b[0m\n\u001b[0m\u001b[1;32m    414\u001b[0m \u001b[0;34m\u001b[0m\u001b[0m\n\u001b[1;32m    415\u001b[0m     \u001b[0;32mdef\u001b[0m \u001b[0mforward\u001b[0m\u001b[0;34m(\u001b[0m\u001b[0mself\u001b[0m\u001b[0;34m,\u001b[0m \u001b[0;34m*\u001b[0m\u001b[0margs\u001b[0m\u001b[0;34m)\u001b[0m\u001b[0;34m:\u001b[0m\u001b[0;34m\u001b[0m\u001b[0m\n",
      "\u001b[0;32m<ipython-input-4-08aae0cc5286>\u001b[0m in \u001b[0;36mforward\u001b[0;34m(self, x)\u001b[0m\n\u001b[1;32m     11\u001b[0m     \u001b[0;32mdef\u001b[0m \u001b[0mforward\u001b[0m\u001b[0;34m(\u001b[0m\u001b[0mself\u001b[0m\u001b[0;34m,\u001b[0m\u001b[0mx\u001b[0m\u001b[0;34m)\u001b[0m\u001b[0;34m:\u001b[0m\u001b[0;34m\u001b[0m\u001b[0m\n\u001b[1;32m     12\u001b[0m         \u001b[0mout\u001b[0m \u001b[0;34m=\u001b[0m \u001b[0mself\u001b[0m\u001b[0;34m.\u001b[0m\u001b[0mcasual_conv\u001b[0m\u001b[0;34m(\u001b[0m\u001b[0mx\u001b[0m\u001b[0;34m)\u001b[0m\u001b[0;34m\u001b[0m\u001b[0m\n\u001b[0;32m---> 13\u001b[0;31m         \u001b[0;32mreturn\u001b[0m \u001b[0mout\u001b[0m\u001b[0;34m[\u001b[0m\u001b[0;34m:\u001b[0m\u001b[0;34m,\u001b[0m\u001b[0;34m:\u001b[0m\u001b[0;34m,\u001b[0m\u001b[0;34m:\u001b[0m\u001b[0;34m-\u001b[0m\u001b[0mself\u001b[0m\u001b[0;34m.\u001b[0m\u001b[0mdilation\u001b[0m\u001b[0;34m]\u001b[0m\u001b[0;34m\u001b[0m\u001b[0m\n\u001b[0m",
      "\u001b[0;32m/opt/venv/lib/python3.6/site-packages/mxnet/ndarray/ndarray.py\u001b[0m in \u001b[0;36m__getitem__\u001b[0;34m(self, key)\u001b[0m\n\u001b[1;32m    504\u001b[0m         \u001b[0mindexing_dispatch_code\u001b[0m \u001b[0;34m=\u001b[0m \u001b[0m_get_indexing_dispatch_code\u001b[0m\u001b[0;34m(\u001b[0m\u001b[0mkey\u001b[0m\u001b[0;34m)\u001b[0m\u001b[0;34m\u001b[0m\u001b[0m\n\u001b[1;32m    505\u001b[0m         \u001b[0;32mif\u001b[0m \u001b[0mindexing_dispatch_code\u001b[0m \u001b[0;34m==\u001b[0m \u001b[0m_NDARRAY_BASIC_INDEXING\u001b[0m\u001b[0;34m:\u001b[0m\u001b[0;34m\u001b[0m\u001b[0m\n\u001b[0;32m--> 506\u001b[0;31m             \u001b[0;32mreturn\u001b[0m \u001b[0mself\u001b[0m\u001b[0;34m.\u001b[0m\u001b[0m_get_nd_basic_indexing\u001b[0m\u001b[0;34m(\u001b[0m\u001b[0mkey\u001b[0m\u001b[0;34m)\u001b[0m\u001b[0;34m\u001b[0m\u001b[0m\n\u001b[0m\u001b[1;32m    507\u001b[0m         \u001b[0;32melif\u001b[0m \u001b[0mindexing_dispatch_code\u001b[0m \u001b[0;34m==\u001b[0m \u001b[0m_NDARRAY_ADVANCED_INDEXING\u001b[0m\u001b[0;34m:\u001b[0m\u001b[0;34m\u001b[0m\u001b[0m\n\u001b[1;32m    508\u001b[0m             \u001b[0;32mreturn\u001b[0m \u001b[0mself\u001b[0m\u001b[0;34m.\u001b[0m\u001b[0m_get_nd_advanced_indexing\u001b[0m\u001b[0;34m(\u001b[0m\u001b[0mkey\u001b[0m\u001b[0;34m)\u001b[0m\u001b[0;34m\u001b[0m\u001b[0m\n",
      "\u001b[0;32m/opt/venv/lib/python3.6/site-packages/mxnet/ndarray/ndarray.py\u001b[0m in \u001b[0;36m_get_nd_basic_indexing\u001b[0;34m(self, key)\u001b[0m\n\u001b[1;32m    812\u001b[0m                                  'index=%s of type=%s.' % (str(slice_i), str(type(slice_i))))\n\u001b[1;32m    813\u001b[0m         \u001b[0mkept_axes\u001b[0m\u001b[0;34m.\u001b[0m\u001b[0mextend\u001b[0m\u001b[0;34m(\u001b[0m\u001b[0mrange\u001b[0m\u001b[0;34m(\u001b[0m\u001b[0mi\u001b[0m\u001b[0;34m+\u001b[0m\u001b[0;36m1\u001b[0m\u001b[0;34m,\u001b[0m \u001b[0mlen\u001b[0m\u001b[0;34m(\u001b[0m\u001b[0mshape\u001b[0m\u001b[0;34m)\u001b[0m\u001b[0;34m)\u001b[0m\u001b[0;34m)\u001b[0m\u001b[0;34m\u001b[0m\u001b[0m\n\u001b[0;32m--> 814\u001b[0;31m         \u001b[0msliced_nd\u001b[0m \u001b[0;34m=\u001b[0m \u001b[0mop\u001b[0m\u001b[0;34m.\u001b[0m\u001b[0mslice\u001b[0m\u001b[0;34m(\u001b[0m\u001b[0mself\u001b[0m\u001b[0;34m,\u001b[0m \u001b[0mbegin\u001b[0m\u001b[0;34m,\u001b[0m \u001b[0mend\u001b[0m\u001b[0;34m,\u001b[0m \u001b[0mstep\u001b[0m\u001b[0;34m)\u001b[0m\u001b[0;34m\u001b[0m\u001b[0m\n\u001b[0m\u001b[1;32m    815\u001b[0m         \u001b[0;32mif\u001b[0m \u001b[0mlen\u001b[0m\u001b[0;34m(\u001b[0m\u001b[0mkept_axes\u001b[0m\u001b[0;34m)\u001b[0m \u001b[0;34m==\u001b[0m \u001b[0mlen\u001b[0m\u001b[0;34m(\u001b[0m\u001b[0mshape\u001b[0m\u001b[0;34m)\u001b[0m\u001b[0;34m:\u001b[0m\u001b[0;34m\u001b[0m\u001b[0m\n\u001b[1;32m    816\u001b[0m             \u001b[0;32mreturn\u001b[0m \u001b[0msliced_nd\u001b[0m\u001b[0;34m\u001b[0m\u001b[0m\n",
      "\u001b[0;32m/opt/venv/lib/python3.6/site-packages/mxnet/ndarray/register.py\u001b[0m in \u001b[0;36mslice\u001b[0;34m(data, begin, end, step, out, name, **kwargs)\u001b[0m\n",
      "\u001b[0;32m/opt/venv/lib/python3.6/site-packages/mxnet/_ctypes/ndarray.py\u001b[0m in \u001b[0;36m_imperative_invoke\u001b[0;34m(handle, ndargs, keys, vals, out)\u001b[0m\n\u001b[1;32m     90\u001b[0m         \u001b[0mc_str_array\u001b[0m\u001b[0;34m(\u001b[0m\u001b[0mkeys\u001b[0m\u001b[0;34m)\u001b[0m\u001b[0;34m,\u001b[0m\u001b[0;34m\u001b[0m\u001b[0m\n\u001b[1;32m     91\u001b[0m         \u001b[0mc_str_array\u001b[0m\u001b[0;34m(\u001b[0m\u001b[0;34m[\u001b[0m\u001b[0mstr\u001b[0m\u001b[0;34m(\u001b[0m\u001b[0ms\u001b[0m\u001b[0;34m)\u001b[0m \u001b[0;32mfor\u001b[0m \u001b[0ms\u001b[0m \u001b[0;32min\u001b[0m \u001b[0mvals\u001b[0m\u001b[0;34m]\u001b[0m\u001b[0;34m)\u001b[0m\u001b[0;34m,\u001b[0m\u001b[0;34m\u001b[0m\u001b[0m\n\u001b[0;32m---> 92\u001b[0;31m         ctypes.byref(out_stypes)))\n\u001b[0m\u001b[1;32m     93\u001b[0m \u001b[0;34m\u001b[0m\u001b[0m\n\u001b[1;32m     94\u001b[0m     \u001b[0;32mif\u001b[0m \u001b[0moriginal_output\u001b[0m \u001b[0;32mis\u001b[0m \u001b[0;32mnot\u001b[0m \u001b[0;32mNone\u001b[0m\u001b[0;34m:\u001b[0m\u001b[0;34m\u001b[0m\u001b[0m\n",
      "\u001b[0;31mKeyboardInterrupt\u001b[0m: "
     ]
    }
   ],
   "source": [
    "tr_acc_per_epoch = list()\n",
    "te_acc_per_epoch = list()\n",
    "train_acc = mx.metric.Accuracy()\n",
    "test_acc = mx.metric.Accuracy()\n",
    "global_va_acc = 0.0\n",
    "for epoch in tnrange(epoches):\n",
    "    tr_acc = list()\n",
    "    te_acc = list()\n",
    "    tr_iter = iter(tr_dataloader)\n",
    "    te_iter = iter(te_dataloader)\n",
    "    for batch in tqdm(tr_iter):\n",
    "        x, y = batch\n",
    "        x, y, last_targets = batch_for_few_shot(N, K ,batch_size, x, y)       \n",
    "        with autograd.record():\n",
    "            x_split = gluon.utils.split_and_load(x,ctx)\n",
    "            y_split = gluon.utils.split_and_load(y,ctx)\n",
    "            last_targets_split = gluon.utils.split_and_load(last_targets,ctx)\n",
    "            last_model = [model(X,Y)[:,-1,:] for X, Y in zip(x_split,y_split)]\n",
    "            loss_val = [loss_fn(X,Y) for X, Y in zip(last_model,last_targets_split)]\n",
    "            #loss_val = [loss_fn(model(X,Y)[:,-1,:],L) for X, Y, L in zip(x_split,y_split,last_targets_split)]\n",
    "            for l in loss_val:\n",
    "                l.backward()\n",
    "            for pred,target in zip(last_model,last_targets_split):\n",
    "                train_acc.update(preds=nd.argmax(pred,1),labels=target)\n",
    "                tr_acc.append(train_acc.get()[1])\n",
    "        trainer.step(batch_size,ignore_stale_grad=True)\n",
    "        \n",
    "    for batch in tqdm(te_iter):\n",
    "        x,y = batch\n",
    "        x, y, last_targets = batch_for_few_shot(N, K ,int(batch_size / len(ctx)), x, y)\n",
    "        x = x.copyto(ctx[0])\n",
    "        y = y.copyto(ctx[0])\n",
    "        last_targets = last_targets.copyto(ctx[0])\n",
    "        model_output = model(x,y)\n",
    "        last_model = model_output[:,-1,:]\n",
    "        test_acc.update(preds=nd.argmax(last_model,1),labels=last_targets)\n",
    "        te_acc.append(test_acc.get()[1])\n",
    "    current_va_acc = np.mean(te_acc) \n",
    "    if global_va_acc < current_va_acc:\n",
    "        filename = '/home/skinet/work/research/SNAIL/omniglot_models/best_perf_epoch_'+str(epoch)+\"_tr_acc_\"+str(round(np.mean(tr_acc),2))+\"_te_acc_\"+str(round(np.mean(te_acc),2))\n",
    "        model.save_params(filename)\n",
    "        global_va_acc = current_va_acc\n",
    "    print(\"epoch {e}  train_acc:{ta} test_acc:{tea} \".format(e=epoch,ta=np.mean(tr_acc),tea=np.mean(te_acc)))\n",
    "    tr_acc_per_epoch.append(np.mean(tr_acc))\n",
    "    te_acc_per_epoch.append(np.mean(te_acc))"
   ]
  },
  {
   "cell_type": "code",
   "execution_count": 23,
   "metadata": {},
   "outputs": [
    {
     "data": {
      "image/png": "[encoded data removed]",
      "text/plain": [
       "<Figure size 1080x720 with 1 Axes>"
      ]
     },
     "metadata": {},
     "output_type": "display_data"
    }
   ],
   "source": [
    "import matplotlib as mpl\n",
    "import matplotlib.pyplot as plt\n",
    "plt.rcParams.update({'font.size': 12})\n",
    "plt.style.use('seaborn-darkgrid')\n",
    "palette = plt.get_cmap('Set1')\n",
    "plt.figure(figsize=(15,10))\n",
    "plt.xlabel(\"Epoch\")\n",
    "plt.ylabel(\"accuracy\")\n",
    "\n",
    "plt.plot(np.arange(epoches)+1,  np.array(tr_acc_per_epoch),label=\"train_acc\")\n",
    "plt.plot(np.arange(epoches)+1, np.array(te_acc_per_epoch),label=\"test_acc\")\n",
    "plt.legend(bbox_to_anchor=(1, 1), loc=2,)\n",
    "plt.show()"
   ]
  },
  {
   "cell_type": "code",
   "execution_count": 21,
   "metadata": {},
   "outputs": [
    {
     "data": {
      "text/plain": [
       "[0.11409599502267509,\n",
       " 0.12537227530297732,\n",
       " 0.14278709262853476,\n",
       " 0.2205000108813875,\n",
       " 0.3442454116193531,\n",
       " 0.44467886009684243,\n",
       " 0.5189661661308266,\n",
       " 0.5750618391920281,\n",
       " 0.619064242362278,\n",
       " 0.6545858242135286,\n",
       " 0.6835529820474588,\n",
       " 0.7077258855971779,\n",
       " 0.7283426192057908,\n",
       " 0.7459987040633465,\n",
       " 0.7613960392512129,\n",
       " 0.774837285182223,\n",
       " 0.786840283382588,\n",
       " 0.7975639297252929,\n",
       " 0.8071819727616564,\n",
       " 0.815791615574817,\n",
       " 0.8236933990853896,\n",
       " 0.8308623377374128,\n",
       " 0.8374363910727518,\n",
       " 0.8435016540473494,\n",
       " 0.8490864616399406,\n",
       " 0.8542830713619926,\n",
       " 0.8590857764813585,\n",
       " 0.8635588260452827,\n",
       " 0.8676969255127178,\n",
       " 0.8715774729912977,\n",
       " 0.8752444944633584,\n",
       " 0.8786555546237936,\n",
       " 0.8819072654213905,\n",
       " 0.8849653276576513,\n",
       " 0.8878449391217161,\n",
       " 0.890594919019139,\n",
       " 0.8931723574049075,\n",
       " 0.8956516041028163,\n",
       " 0.8979849752144545,\n",
       " 0.9002273690515331,\n",
       " 0.9023457307096007,\n",
       " 0.9043750369726891,\n",
       " 0.9063192198196603,\n",
       " 0.9081820076756645,\n",
       " 0.9099537523382344,\n",
       " 0.9116128569862617,\n",
       " 0.9132486962818692,\n",
       " 0.9148049629761147,\n",
       " 0.9163331829583036,\n",
       " 0.9177444829823723,\n",
       " 0.9191313632443139,\n",
       " 0.920466811372839,\n",
       " 0.92175228042116,\n",
       " 0.9230083873732946,\n",
       " 0.9242257356288938,\n",
       " 0.9253922711392109,\n",
       " 0.9265199997378142,\n",
       " 0.9276019092470814,\n",
       " 0.9286473829702375,\n",
       " 0.9296593780135157,\n",
       " 0.9306472572932312,\n",
       " 0.9316113577062959,\n",
       " 0.9325454859642006,\n",
       " 0.9334333529308085,\n",
       " 0.9343141142072131,\n",
       " 0.9351672949980953,\n",
       " 0.9359919879162044,\n",
       " 0.9367908697964357,\n",
       " 0.9375709421898124,\n",
       " 0.9383340658176262,\n",
       " 0.9390762457485973,\n",
       " 0.9397999220670615,\n",
       " 0.9405102873054608,\n",
       " 0.9411836203309472,\n",
       " 0.9418384519038878,\n",
       " 0.9424823547136729,\n",
       " 0.9431036955938465,\n",
       " 0.9437267895828835,\n",
       " 0.9443340800511266,\n",
       " 0.9449180606686752,\n",
       " 0.9454823384829145,\n",
       " 0.9460328220595577,\n",
       " 0.9465754148372022,\n",
       " 0.9471010424687283,\n",
       " 0.9476173680391536,\n",
       " 0.9481233108011307,\n",
       " 0.9486260498963222,\n",
       " 0.949119225634697,\n",
       " 0.949586964482492,\n",
       " 0.9500515863880331,\n",
       " 0.9505164472024409,\n",
       " 0.9509660804365595,\n",
       " 0.9514013564379974,\n",
       " 0.9518153912537084,\n",
       " 0.9522319245760167,\n",
       " 0.9526475718152326,\n",
       " 0.9530481036519776,\n",
       " 0.9534447553396916,\n",
       " 0.9538326797817624,\n",
       " 0.9542061015828585,\n",
       " 0.954585326851472,\n",
       " 0.9549615589996207,\n",
       " 0.9553357186542778,\n",
       " 0.9556951729320741,\n",
       " 0.9560341968923523,\n",
       " 0.9563778531020579,\n",
       " 0.9567209970665025,\n",
       " 0.957049571038087,\n",
       " 0.9573648107819793,\n",
       " 0.957685647177544,\n",
       " 0.9579920357131401,\n",
       " 0.9583052906600933,\n",
       " 0.9586070761664368,\n",
       " 0.958909614316563,\n",
       " 0.9592025921517857,\n",
       " 0.9594855404574748,\n",
       " 0.9597668024185007,\n",
       " 0.9600457307669096,\n",
       " 0.9603217620659643,\n",
       " 0.960593094426447,\n",
       " 0.9608568863387132,\n",
       " 0.9611151712507835,\n",
       " 0.9613759600463024,\n",
       " 0.9616280545828719,\n",
       " 0.9618818949037033,\n",
       " 0.9621242120989297,\n",
       " 0.9623663268912488,\n",
       " 0.9626035041999623,\n",
       " 0.9628352513492533,\n",
       " 0.96306184229109,\n",
       " 0.9632887660243087,\n",
       " 0.9635102481217586,\n",
       " 0.9637269833288129,\n",
       " 0.963937950451101,\n",
       " 0.9641568325610745,\n",
       " 0.9643717603926354,\n",
       " 0.9645849227249703,\n",
       " 0.9647935088251184,\n",
       " 0.9649997252727052,\n",
       " 0.9652018286013031,\n",
       " 0.965399921223479,\n",
       " 0.9655985800097248,\n",
       " 0.96579391769776,\n",
       " 0.9659785322821698,\n",
       " 0.9661677549877539,\n",
       " 0.9663525159858835,\n",
       " 0.9665326981581431,\n",
       " 0.9667125211333895,\n",
       " 0.9668925784112092,\n",
       " 0.9670719740249993,\n",
       " 0.9672478177120477,\n",
       " 0.9674206751092983,\n",
       " 0.9675893092591514,\n",
       " 0.9677514714213817,\n",
       " 0.9679121318155436,\n",
       " 0.9680746598597368,\n",
       " 0.9682334323513376,\n",
       " 0.968390083153715,\n",
       " 0.9685485222364613,\n",
       " 0.9687078911674906,\n",
       " 0.9688656869070077,\n",
       " 0.9690205286021397,\n",
       " 0.9691690989393157,\n",
       " 0.9693211044855856,\n",
       " 0.9694708942548569,\n",
       " 0.9696196688064567,\n",
       " 0.9697684245081272,\n",
       " 0.969914132367042,\n",
       " 0.9700575811055833,\n",
       " 0.9701975795370115,\n",
       " 0.9703368950220004,\n",
       " 0.970469409579491,\n",
       " 0.9706045355566436,\n",
       " 0.9707318025045167,\n",
       " 0.9708591025938358,\n",
       " 0.9709878419775118,\n",
       " 0.9711151048536336,\n",
       " 0.9712437740226264,\n",
       " 0.9713734319109476,\n",
       " 0.9715003370446902,\n",
       " 0.9716256148617837,\n",
       " 0.9717463926450496,\n",
       " 0.9718607376502267,\n",
       " 0.9719748530757134,\n",
       " 0.9720933610296023,\n",
       " 0.9722091804952996,\n",
       " 0.9723306955943207,\n",
       " 0.9724474016869734,\n",
       " 0.9725621049639802,\n",
       " 0.9726718607877999,\n",
       " 0.9727827896676244,\n",
       " 0.9728954388406789,\n",
       " 0.9730090887058958,\n",
       " 0.9731170147334179,\n",
       " 0.973221634583525,\n",
       " 0.9733298722598847,\n",
       " 0.973437333459627,\n",
       " 0.9735458747568783,\n",
       " 0.9736492026496575,\n",
       " 0.9737510651333224]"
      ]
     },
     "execution_count": 21,
     "metadata": {},
     "output_type": "execute_result"
    }
   ],
   "source": [
    "tr_acc_per_epoch"
   ]
  },
  {
   "cell_type": "code",
   "execution_count": 24,
   "metadata": {},
   "outputs": [
    {
     "data": {
      "text/plain": [
       "(24, 51, 10)"
      ]
     },
     "execution_count": 24,
     "metadata": {},
     "output_type": "execute_result"
    }
   ],
   "source": [
    "model_output.shape"
   ]
  },
  {
   "cell_type": "code",
   "execution_count": 27,
   "metadata": {},
   "outputs": [
    {
     "data": {
      "text/plain": [
       "(1224, 10)"
      ]
     },
     "execution_count": 27,
     "metadata": {},
     "output_type": "execute_result"
    }
   ],
   "source": [
    "y.shape"
   ]
  },
  {
   "cell_type": "code",
   "execution_count": 29,
   "metadata": {},
   "outputs": [
    {
     "data": {
      "text/plain": [
       "(24, 10)"
      ]
     },
     "execution_count": 29,
     "metadata": {},
     "output_type": "execute_result"
    }
   ],
   "source": [
    "last_model.shape"
   ]
  },
  {
   "cell_type": "code",
   "execution_count": null,
   "metadata": {},
   "outputs": [],
   "source": []
  }
 ],
 "metadata": {
  "kernelspec": {
   "display_name": "Python 3",
   "language": "python",
   "name": "python3"
  },
  "language_info": {
   "codemirror_mode": {
    "name": "ipython",
    "version": 3
   },
   "file_extension": ".py",
   "mimetype": "text/x-python",
   "name": "python",
   "nbconvert_exporter": "python",
   "pygments_lexer": "ipython3",
   "version": "3.6.5"
  }
 },
 "nbformat": 4,
 "nbformat_minor": 2
}
