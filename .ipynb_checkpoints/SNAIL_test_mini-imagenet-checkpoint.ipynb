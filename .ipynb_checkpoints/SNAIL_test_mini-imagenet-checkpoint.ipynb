{
 "cells": [
  {
   "cell_type": "code",
   "execution_count": 1,
   "metadata": {
    "ExecuteTime": {
     "end_time": "2018-06-29T05:01:50.667558Z",
     "start_time": "2018-06-29T05:01:50.412714Z"
    }
   },
   "outputs": [],
   "source": [
    "# -*- coding: utf-8 -*-\n",
    "import math\n",
    "import numpy as np\n",
    "import pandas as pd"
   ]
  },
  {
   "cell_type": "code",
   "execution_count": 2,
   "metadata": {
    "ExecuteTime": {
     "end_time": "2018-06-29T05:01:53.638481Z",
     "start_time": "2018-06-29T05:01:50.669021Z"
    }
   },
   "outputs": [
    {
     "name": "stderr",
     "output_type": "stream",
     "text": [
      "/home/skinet/py_libs/lib/python3.6/site-packages/h5py/__init__.py:36: FutureWarning: Conversion of the second argument of issubdtype from `float` to `np.floating` is deprecated. In future, it will be treated as `np.float64 == np.dtype(float).type`.\n",
      "  from ._conv import register_converters as _register_converters\n"
     ]
    }
   ],
   "source": [
    "import mxnet as mx\n",
    "from mxnet import gluon, autograd, nd\n",
    "from mxnet.gluon import nn,utils\n",
    "from mxnet.gluon.data.vision import transforms\n",
    "import mxnet.ndarray as F\n",
    "import numpy as np\n",
    "import os, sys\n",
    "import os\n",
    "import numpy as np\n",
    "import collections\n",
    "from PIL import Image\n",
    "import csv\n",
    "import random\n",
    "from mxnet.gluon.data import Dataset, DataLoader"
   ]
  },
  {
   "cell_type": "code",
   "execution_count": 3,
   "metadata": {
    "ExecuteTime": {
     "end_time": "2018-06-29T05:01:53.648233Z",
     "start_time": "2018-06-29T05:01:53.639943Z"
    }
   },
   "outputs": [
    {
     "data": {
      "text/plain": [
       "'1.2.0'"
      ]
     },
     "execution_count": 3,
     "metadata": {},
     "output_type": "execute_result"
    }
   ],
   "source": [
    "mx.__version__"
   ]
  },
  {
   "cell_type": "code",
   "execution_count": 4,
   "metadata": {
    "ExecuteTime": {
     "end_time": "2018-06-29T05:01:54.207598Z",
     "start_time": "2018-06-29T05:01:53.649750Z"
    }
   },
   "outputs": [],
   "source": [
    "class MiniImagenet(Dataset):\n",
    "\t\"\"\"\n",
    "\tput mini-imagenet files as :\n",
    "\troot :\n",
    "\t\t|- images/*.jpg includes all imgeas\n",
    "\t\t|- train.csv\n",
    "\t\t|- test.csv\n",
    "\t\t|- val.csv\n",
    "\tNOTICE: meta-learning is different from general supervised learning, especially the concept of batch and set.\n",
    "\tbatch: contains several sets\n",
    "\tsets: conains n_way * k_shot for meta-train set, n_way * n_query for meta-test set.\n",
    "\t\"\"\"\n",
    "\n",
    "\tdef __init__(self, root, mode, batchsz, n_way, k_shot, k_query, resize, ctx=mx.cpu(), startidx=0):\n",
    "\t\t\"\"\"\n",
    "\n",
    "\t\t:param root: root path of mini-imagenet\n",
    "\t\t:param mode: train, val or test\n",
    "\t\t:param batchsz: batch size of sets, not batch of imgs\n",
    "\t\t:param n_way:\n",
    "\t\t:param k_shot:\n",
    "\t\t:param k_query: num of qeruy imgs per class\n",
    "\t\t:param resize: resize to\n",
    "        :param ctx: context\n",
    "\t\t:param startidx: start to index label from startidx\n",
    "\t\t\"\"\"\n",
    "\n",
    "\t\tself.batchsz = batchsz  # batch of set, not batch of imgs\n",
    "\t\tself.n_way = n_way  # n-way\n",
    "\t\tself.k_shot = k_shot  # k-shot\n",
    "\t\tself.k_query = k_query  # for evaluation\n",
    "\t\tself.setsz = self.n_way * self.k_shot  # num of samples per set\n",
    "\t\tself.querysz = self.n_way * self.k_query  # number of samples per set for evaluation\n",
    "\t\tself.resize = resize  # resize to\n",
    "\t\tself.ctx = ctx\n",
    "\t\tself.startidx = startidx  # index label not from 0, but from startidx\n",
    "\t\tprint('shuffle DB :%s, b:%d, %d-way, %d-shot, %d-query, resize:%d' % (mode, batchsz, n_way, k_shot, k_query, resize))\n",
    "\n",
    "\t\tif mode == 'train':\n",
    "\t\t\tself.transform = transforms.Compose([lambda x: nd.array(np.array(Image.open(x).convert('RGB')),ctx=self.ctx),\n",
    "\t\t\t                                     transforms.Resize((self.resize, self.resize)),\n",
    "\t\t                                         # transforms.RandomHorizontalFlip(),\n",
    "\t\t                                         # transforms.RandomRotation(5),\n",
    "\t\t\t                                     transforms.ToTensor(),\n",
    "\t\t\t                                     transforms.Normalize((0.485, 0.456, 0.406), (0.229, 0.224, 0.225))\n",
    "\t\t\t                                     ])\n",
    "\t\telse:\n",
    "\t\t\tself.transform = transforms.Compose([lambda x: nd.array(np.array(Image.open(x).convert('RGB')),ctx=self.ctx),\n",
    "\t\t\t                                     transforms.Resize((self.resize, self.resize)),\n",
    "\t\t\t                                     transforms.ToTensor(),\n",
    "\t\t\t                                     transforms.Normalize((0.485, 0.456, 0.406), (0.229, 0.224, 0.225))\n",
    "\t\t\t                                     ])\n",
    "\n",
    "\t\tself.path = os.path.join(root, 'images')  # image path\n",
    "\t\tcsvdata = self.loadCSV(os.path.join(root, mode + '.csv'))  # csv path\n",
    "\t\tself.data = []\n",
    "\t\tself.img2label = {}\n",
    "\t\tfor i, (k, v) in enumerate(csvdata.items()):\n",
    "\t\t\tself.data.append(v)  # [[img1, img2, ...], [img111, ...]]\n",
    "\t\t\tself.img2label[k] = i + self.startidx  # {\"img_name[:9]\":label}\n",
    "\t\tself.cls_num = len(self.data)\n",
    "\n",
    "\t\tself.create_batch(self.batchsz)\n",
    "\n",
    "\tdef loadCSV(self, csvf):\n",
    "\t\t\"\"\"\n",
    "\t\treturn a dict saving the information of csv\n",
    "\t\t:param splitFile: csv file name\n",
    "\t\t:return: {label:[file1, file2 ...]}\n",
    "\t\t\"\"\"\n",
    "\t\tdictLabels = {}\n",
    "\t\twith open(csvf) as csvfile:\n",
    "\t\t\tcsvreader = csv.reader(csvfile, delimiter=',')\n",
    "\t\t\tnext(csvreader, None)  # skip (filename, label)\n",
    "\t\t\tfor i, row in enumerate(csvreader):\n",
    "\t\t\t\tfilename = row[0]\n",
    "\t\t\t\tlabel = row[1]\n",
    "\t\t\t\t# append filename to current label\n",
    "\t\t\t\tif label in dictLabels.keys():\n",
    "\t\t\t\t\tdictLabels[label].append(filename)\n",
    "\t\t\t\telse:\n",
    "\t\t\t\t\tdictLabels[label] = [filename]\n",
    "\t\treturn dictLabels\n",
    "\n",
    "\tdef create_batch(self, batchsz):\n",
    "\t\t\"\"\"\n",
    "\t\tcreate batch for meta-learning.\n",
    "\t\t×episode× here means batch, and it means how many sets we want to retain.\n",
    "\t\t:param episodes: batch size\n",
    "\t\t:return:\n",
    "\t\t\"\"\"\n",
    "\t\tself.support_x_batch = []  # support set batch\n",
    "\t\tself.query_x_batch = []  # query set batch\n",
    "\t\tfor b in range(batchsz):  # for each batch\n",
    "\t\t\t# 1.select n_way classes randomly\n",
    "\t\t\tselected_cls = np.random.choice(self.cls_num, self.n_way, False)  # no duplicate\n",
    "\t\t\tnp.random.shuffle(selected_cls)\n",
    "\t\t\tsupport_x = []\n",
    "\t\t\tquery_x = []\n",
    "\t\t\tfor cls in selected_cls:\n",
    "\t\t\t\t# 2. select k_shot + k_query for each class\n",
    "\t\t\t\tselected_imgs_idx = np.random.choice(len(self.data[cls]), self.k_shot + self.k_query, False)\n",
    "\t\t\t\tnp.random.shuffle(selected_imgs_idx)\n",
    "\t\t\t\tindexDtrain = np.array(selected_imgs_idx[:self.k_shot])  # idx for Dtrain\n",
    "\t\t\t\tindexDtest = np.array(selected_imgs_idx[self.k_shot:])  # idx for Dtest\n",
    "\t\t\t\tsupport_x.append(\n",
    "\t\t\t\t\tnp.array(self.data[cls])[indexDtrain].tolist())  # get all images filename for current Dtrain\n",
    "\t\t\t\tquery_x.append(np.array(self.data[cls])[indexDtest].tolist())\n",
    "\n",
    "\t\t\t# shuffle the correponding relation between support set and query set\n",
    "\t\t\trandom.shuffle(support_x)\n",
    "\t\t\trandom.shuffle(query_x)\n",
    "\n",
    "\t\t\tself.support_x_batch.append(support_x)  # append set to current sets\n",
    "\t\t\tself.query_x_batch.append(query_x)  # append sets to current sets\n",
    "\n",
    "\tdef __getitem__(self, index):\n",
    "\t\t\"\"\"\n",
    "\t\tindex means index of sets, 0<= index <= batchsz-1\n",
    "\t\t:param index:\n",
    "\t\t:return:\n",
    "\t\t\"\"\"\n",
    "\t\t# [setsz, 3, resize, resize]\n",
    "\t\t#support_x = torch.FloatTensor(self.setsz, 3, self.resize, self.resize)\n",
    "\t\tsupport_x = nd.empty(shape=(self.setsz, 3, self.resize, self.resize))\n",
    "\t\t# [setsz]\n",
    "\t\tsupport_y = np.zeros((self.setsz), dtype=np.int)\n",
    "\t\t# [querysz, 3, resize, resize]\n",
    "\t\t#query_x = torch.FloatTensor(self.querysz, 3, self.resize, self.resize)\n",
    "\t\tquery_x = nd.empty(shape=(self.querysz, 3, self.resize, self.resize))\n",
    "\t\t# [querysz]\n",
    "\t\tquery_y = np.zeros((self.querysz), dtype=np.int)\n",
    "\n",
    "\t\tflatten_support_x = [os.path.join(self.path, item)\n",
    "\t\t                     for sublist in self.support_x_batch[index] for item in sublist]\n",
    "\t\tsupport_y = np.array(\n",
    "\t\t\t[self.img2label[item[:9]]  # filename:n0153282900000005.jpg, the first 9 characters treated as label\n",
    "\t\t\t for sublist in self.support_x_batch[index] for item in sublist]).astype(np.int32)\n",
    "\n",
    "\t\tflatten_query_x = [os.path.join(self.path, item)\n",
    "\t\t                   for sublist in self.query_x_batch[index] for item in sublist]\n",
    "\t\tquery_y = np.array([self.img2label[item[:9]]\n",
    "\t\t                    for sublist in self.query_x_batch[index] for item in sublist]).astype(np.int32)\n",
    "\n",
    "\n",
    "\t\t# print('global:', support_y, query_y)\n",
    "\t\t# support_y: [setsz]\n",
    "\t\t# query_y: [querysz]\n",
    "\t\t# unique: [n-way], sorted\n",
    "\t\tunique = np.unique(support_y)\n",
    "\t\t# relative means the label ranges from 0 to n-way\n",
    "\t\tsupport_y_relative = np.zeros(self.setsz)\n",
    "\t\tquery_y_relative = np.zeros(self.querysz)\n",
    "\t\tfor idx, l in enumerate(unique):\n",
    "\t\t\tsupport_y_relative[support_y==l] = idx\n",
    "\t\t\tquery_y_relative[query_y==l] = idx\n",
    "\n",
    "\t\t# print('relative:', support_y_relative, query_y_relative)\n",
    "\n",
    "\n",
    "\t\tfor i, path in enumerate(flatten_support_x):\n",
    "\t\t\t#print(path)\n",
    "\t\t\tsupport_x[i] = self.transform(path)\n",
    "\n",
    "\t\tfor i, path in enumerate(flatten_query_x):\n",
    "\t\t\tquery_x[i] = self.transform(path)\n",
    "\t\t# print(support_set_y)\n",
    "\t\t# return support_x, torch.LongTensor(support_y), query_x, torch.LongTensor(query_y)\n",
    "\n",
    "\t\t#return support_x, torch.LongTensor(support_y_relative), query_x, torch.LongTensor(query_y_relative)\n",
    "\t\treturn support_x, nd.array(support_y_relative,ctx=self.ctx), query_x, nd.array(query_y_relative,ctx=self.ctx)\n",
    "\tdef __len__(self):\n",
    "\t\t# as we have built up to batchsz of sets, you can sample some small batch size of sets.\n",
    "\t\treturn self.batchsz"
   ]
  },
  {
   "cell_type": "code",
   "execution_count": 5,
   "metadata": {
    "ExecuteTime": {
     "end_time": "2018-06-29T05:01:54.210992Z",
     "start_time": "2018-06-29T05:01:54.209137Z"
    }
   },
   "outputs": [],
   "source": [
    "os.chdir('/home/skinet/work/datasets/')"
   ]
  },
  {
   "cell_type": "code",
   "execution_count": 6,
   "metadata": {
    "ExecuteTime": {
     "end_time": "2018-06-29T05:01:54.214910Z",
     "start_time": "2018-06-29T05:01:54.212334Z"
    }
   },
   "outputs": [],
   "source": [
    "##setting hyperparameters\n",
    "n_way = 5\n",
    "k_shot = 5\n",
    "k_query = 2\n",
    "batch_size = 10"
   ]
  },
  {
   "cell_type": "code",
   "execution_count": 7,
   "metadata": {
    "ExecuteTime": {
     "end_time": "2018-06-29T05:01:57.334849Z",
     "start_time": "2018-06-29T05:01:54.216346Z"
    }
   },
   "outputs": [
    {
     "name": "stdout",
     "output_type": "stream",
     "text": [
      "shuffle DB :train, b:5000, 5-way, 5-shot, 2-query, resize:84\n"
     ]
    }
   ],
   "source": [
    "mini = MiniImagenet('mini-imagenet/', mode='train', n_way=n_way, k_shot=k_shot, k_query=k_query, batchsz=5000, resize=84)"
   ]
  },
  {
   "cell_type": "code",
   "execution_count": 8,
   "metadata": {
    "ExecuteTime": {
     "end_time": "2018-06-29T05:01:57.338971Z",
     "start_time": "2018-06-29T05:01:57.336454Z"
    }
   },
   "outputs": [],
   "source": [
    "db = DataLoader(mini, batch_size=batch_size, shuffle=True, num_workers=1)"
   ]
  },
  {
   "cell_type": "code",
   "execution_count": 9,
   "metadata": {
    "ExecuteTime": {
     "end_time": "2018-06-29T05:01:57.349276Z",
     "start_time": "2018-06-29T05:01:57.340527Z"
    }
   },
   "outputs": [],
   "source": [
    "class CasualConv1d(nn.Block):\n",
    "    \n",
    "    def __init__(self,in_channels,out_channels, dilation=1,**kwargs):\n",
    "        super(CasualConv1d,self).__init__(**kwargs)\n",
    "        self.padding = dilation\n",
    "        \n",
    "        with self.name_scope():\n",
    "            self.casual_conv = nn.Conv1D(in_channels=in_channels,channels=out_channels,kernel_size=2,padding = self.padding, dilation = dilation)\n",
    "            \n",
    "    def forward(self,x):\n",
    "        return self.casual_conv(x)[:,:,:-self.padding]\n",
    "         "
   ]
  },
  {
   "cell_type": "code",
   "execution_count": 10,
   "metadata": {
    "ExecuteTime": {
     "end_time": "2018-06-29T05:01:57.362850Z",
     "start_time": "2018-06-29T05:01:57.350760Z"
    }
   },
   "outputs": [],
   "source": [
    "class DenseBlock(nn.Block):\n",
    "    def __init__(self, in_channels, filters, dilation=1, **kwargs):\n",
    "        super(DenseBlock,self).__init__(**kwargs)\n",
    "        \n",
    "        with self.name_scope():\n",
    "            self.casual_conv1 = CasualConv1d(in_channels, filters,dilation = dilation)\n",
    "            self.casual_conv2 = CasualConv1d(in_channels, filters,dilation = dilation)\n",
    "            \n",
    "    def forward(self, x):\n",
    "        #print(x.shape)\n",
    "        tanh = F.tanh(self.casual_conv1(x))\n",
    "        sigmoid = F.sigmoid(self.casual_conv1(x))\n",
    "        out =  F.concat(x,tanh*sigmoid, dim=1)\n",
    "        #print(\"Dense success\")\n",
    "        return out   "
   ]
  },
  {
   "cell_type": "code",
   "execution_count": 11,
   "metadata": {
    "ExecuteTime": {
     "end_time": "2018-06-29T05:01:57.375460Z",
     "start_time": "2018-06-29T05:01:57.364266Z"
    }
   },
   "outputs": [],
   "source": [
    "class TCBlock(nn.Block):\n",
    "    def __init__(self, in_channels,seq_len, filters, **kwargs):\n",
    "        super(TCBlock,self).__init__(**kwargs)\n",
    "        layer_count = math.ceil(math.log(seq_len)/math.log(2))\n",
    "        channel_count = in_channels\n",
    "        with self.name_scope():\n",
    "            self.blocks = nn.Sequential()\n",
    "            for layer in range(layer_count):\n",
    "                self.blocks.add(DenseBlock(channel_count, filters, dilation = 2**layer))\n",
    "                channel_count += filters\n",
    "                \n",
    "    def forward(self, x):\n",
    "        return self.blocks(x)"
   ]
  },
  {
   "cell_type": "code",
   "execution_count": 12,
   "metadata": {
    "ExecuteTime": {
     "end_time": "2018-06-29T05:01:57.427474Z",
     "start_time": "2018-06-29T05:01:57.376867Z"
    }
   },
   "outputs": [],
   "source": [
    "class AttentionBlock(nn.Block):\n",
    "    def __init__(self, k_size, v_size, **kwargs):\n",
    "        super(AttentionBlock,self).__init__(**kwargs)\n",
    "        \n",
    "        with self.name_scope():\n",
    "            self.key_layer = nn.Dense(k_size,flatten=False)\n",
    "            self.query_layer = nn.Dense(k_size,flatten=False)\n",
    "            self.value_layer = nn.Dense(v_size,flatten=False)\n",
    "            self.sqrt_k = math.sqrt(k_size)\n",
    "    \n",
    "    def forward(self, x):\n",
    "        x = x.swapaxes(1,2)\n",
    "        keys = self.key_layer(x)       \n",
    "        queries = self.query_layer(x)\n",
    "        values = self.value_layer(x)\n",
    "        #print(keys.shape)\n",
    "        #print(queries.shape)\n",
    "        logits = nd.linalg_gemm2(queries,keys.swapaxes(2,1))\n",
    "        #print(logits.shape)\n",
    "        mask = np.full(shape=(logits.shape[1],logits.shape[2]),fill_value=1).astype('float')\n",
    "        mask = np.triu(mask,1)\n",
    "        mask = np.expand_dims(mask,0)\n",
    "        mask = np.repeat(mask,logits.shape[0],0)\n",
    "        np.place(mask,mask==1,0.0)\n",
    "        np.place(mask,mask==0,1.0)\n",
    "        #np.place(mask,mask==0,0.0)\n",
    "        #np.place(mask,mask==1,1.0)\n",
    "        mask = nd.array(mask,ctx=mx.gpu())\n",
    "        logits =  F.elemwise_mul(logits,mask)\n",
    "        probs = F.softmax(logits / self.sqrt_k, axis=2)\n",
    "        #print(probs.shape)\n",
    "        #print(values.shape)\n",
    "        read = nd.linalg_gemm2(probs,values)\n",
    "        concat_data = F.concat(x,read,dim=2)\n",
    "        return concat_data.swapaxes(2,1)\n",
    "        #return queries,probs\n"
   ]
  },
  {
   "cell_type": "code",
   "execution_count": 13,
   "metadata": {
    "ExecuteTime": {
     "end_time": "2018-06-29T05:01:57.443391Z",
     "start_time": "2018-06-29T05:01:57.428960Z"
    }
   },
   "outputs": [],
   "source": [
    "class CnnEmbedding(nn.Block):\n",
    "    \n",
    "    def __init__(self,**kwargs):\n",
    "        super(CnnEmbedding,self).__init__(**kwargs)\n",
    "        with self.name_scope():\n",
    "            self.cnn1 = nn.Conv2D(64,3)\n",
    "            self.max1 = nn.MaxPool2D(ceil_mode=True)\n",
    "            self.cnn2 = nn.Conv2D(64,3)\n",
    "            self.max2 = nn.MaxPool2D(ceil_mode=True)\n",
    "            self.fc = nn.Dense(64)\n",
    "    \n",
    "    def forward(self,x):\n",
    "        out = self.cnn1(x)\n",
    "        out = self.max1(out)\n",
    "        out = self.cnn2(out)\n",
    "        out = self.max2(out)\n",
    "        out = self.fc(out)\n",
    "        return out.expand_dims(1)"
   ]
  },
  {
   "cell_type": "code",
   "execution_count": 14,
   "metadata": {
    "ExecuteTime": {
     "end_time": "2018-06-29T05:01:57.483175Z",
     "start_time": "2018-06-29T05:01:57.444714Z"
    }
   },
   "outputs": [],
   "source": [
    "class SNAIL(nn.Block):\n",
    "    def __init__(self,N,K,**kwargs):\n",
    "        super(SNAIL,self).__init__(**kwargs)\n",
    "        T = N * K + 1\n",
    "        layer_count = math.ceil(math.log(T)/math.log(2))\n",
    "        with self.name_scope():\n",
    "            self.cnn_emb =  CnnEmbedding()\n",
    "            self.mod0 = AttentionBlock(64,32)\n",
    "            self.mod1 = TCBlock(1+32,T,128)\n",
    "            self.mod2 = AttentionBlock(256,128)\n",
    "            self.mod3 = TCBlock(801,T,128)\n",
    "            self.mod4 = AttentionBlock(512,256)\n",
    "            self.conv1d = nn.Conv1D(N,1)\n",
    "    \n",
    "    def forward(self,x):\n",
    "        out = self.cnn_emb(x)\n",
    "        #print(\"cnn_emb output size {}\".format(out.shape))\n",
    "        out = self.mod0(out)\n",
    "        #print(\"mod0 output size {}\".format(out.shape))\n",
    "        out = self.mod1(out)\n",
    "        #print(\"mod1 output size {}\".format(out.shape))\n",
    "        out = self.mod2(out)\n",
    "        #print(\"mod2 output size {}\".format(out.shape))\n",
    "        out = self.mod3(out)\n",
    "        #print(\"mod3 output size {}\".format(out.shape))\n",
    "        out = self.mod4(out)\n",
    "        #print(\"mod4 output size {}\".format(out.shape))\n",
    "        out = self.conv1d(out)\n",
    "        #print(out.shape)\n",
    "        out = out.sum(2)\n",
    "        #print(\"output size {}\".format(out.shape))\n",
    "        return out"
   ]
  },
  {
   "cell_type": "code",
   "execution_count": 15,
   "metadata": {
    "ExecuteTime": {
     "end_time": "2018-06-29T05:01:57.486325Z",
     "start_time": "2018-06-29T05:01:57.484491Z"
    }
   },
   "outputs": [],
   "source": [
    "ctx = mx.gpu()"
   ]
  },
  {
   "cell_type": "code",
   "execution_count": 16,
   "metadata": {
    "ExecuteTime": {
     "end_time": "2018-06-29T05:01:57.489726Z",
     "start_time": "2018-06-29T05:01:57.487700Z"
    }
   },
   "outputs": [],
   "source": [
    "N = 5\n",
    "K = 5\n",
    "max_grad_norm = 10"
   ]
  },
  {
   "cell_type": "code",
   "execution_count": 17,
   "metadata": {
    "ExecuteTime": {
     "end_time": "2018-06-29T05:01:57.492853Z",
     "start_time": "2018-06-29T05:01:57.491035Z"
    }
   },
   "outputs": [],
   "source": [
    "T = N * K + 1"
   ]
  },
  {
   "cell_type": "code",
   "execution_count": 18,
   "metadata": {
    "ExecuteTime": {
     "end_time": "2018-06-29T05:01:57.497003Z",
     "start_time": "2018-06-29T05:01:57.494135Z"
    }
   },
   "outputs": [
    {
     "data": {
      "text/plain": [
       "26"
      ]
     },
     "execution_count": 18,
     "metadata": {},
     "output_type": "execute_result"
    }
   ],
   "source": [
    "T"
   ]
  },
  {
   "cell_type": "code",
   "execution_count": 19,
   "metadata": {
    "ExecuteTime": {
     "end_time": "2018-06-29T05:02:02.720702Z",
     "start_time": "2018-06-29T05:01:58.580937Z"
    }
   },
   "outputs": [],
   "source": [
    "model = SNAIL(N, K)\n",
    "model.collect_params().initialize(ctx=ctx)\n",
    "loss = gluon.loss.SoftmaxCrossEntropyLoss()\n",
    "trainer = gluon.Trainer(model.collect_params(),optimizer='Adam',optimizer_params={'learning_rate':0.0001})"
   ]
  },
  {
   "cell_type": "code",
   "execution_count": 27,
   "metadata": {
    "ExecuteTime": {
     "end_time": "2018-06-29T05:03:54.081543Z",
     "start_time": "2018-06-29T05:03:54.076937Z"
    }
   },
   "outputs": [],
   "source": [
    "perf_dis = dict()\n",
    "perf_dis['train_loss'] = list()\n",
    "perf_dis['val_loss'] = list()\n",
    "perf_dis['train_acc'] = list()\n",
    "perf_dis['val_acc'] = list()"
   ]
  },
  {
   "cell_type": "code",
   "execution_count": 27,
   "metadata": {
    "ExecuteTime": {
     "end_time": "2018-06-29T04:58:50.478955Z",
     "start_time": "2018-06-29T04:58:47.843580Z"
    }
   },
   "outputs": [
    {
     "name": "stderr",
     "output_type": "stream",
     "text": [
      "Process Process-14:\n",
      "  File \"<ipython-input-4-1175bd14f7c6>\", line 166, in __getitem__\n",
      "    query_x[i] = self.transform(path)\n",
      "Traceback (most recent call last):\n",
      "  File \"/usr/lib/python3.6/multiprocessing/process.py\", line 258, in _bootstrap\n",
      "    self.run()\n"
     ]
    },
    {
     "ename": "KeyboardInterrupt",
     "evalue": "",
     "output_type": "error",
     "traceback": [
      "\u001b[0;31m---------------------------------------------------------------------------\u001b[0m",
      "\u001b[0;31mKeyboardInterrupt\u001b[0m                         Traceback (most recent call last)",
      "\u001b[0;32m<ipython-input-27-f857109b69ee>\u001b[0m in \u001b[0;36m<module>\u001b[0;34m()\u001b[0m\n\u001b[1;32m      8\u001b[0m     \u001b[0mval_acc\u001b[0m \u001b[0;34m=\u001b[0m \u001b[0mmx\u001b[0m\u001b[0;34m.\u001b[0m\u001b[0mmetric\u001b[0m\u001b[0;34m.\u001b[0m\u001b[0mAccuracy\u001b[0m\u001b[0;34m(\u001b[0m\u001b[0;34m)\u001b[0m\u001b[0;34m\u001b[0m\u001b[0m\n\u001b[1;32m      9\u001b[0m     \u001b[0mcnt\u001b[0m \u001b[0;34m=\u001b[0m \u001b[0;36m0\u001b[0m\u001b[0;34m\u001b[0m\u001b[0m\n\u001b[0;32m---> 10\u001b[0;31m     \u001b[0;32mfor\u001b[0m \u001b[0mstep\u001b[0m\u001b[0;34m,\u001b[0m \u001b[0mbatch\u001b[0m \u001b[0;32min\u001b[0m \u001b[0menumerate\u001b[0m\u001b[0;34m(\u001b[0m\u001b[0mdb\u001b[0m\u001b[0;34m)\u001b[0m\u001b[0;34m:\u001b[0m\u001b[0;34m\u001b[0m\u001b[0m\n\u001b[0m\u001b[1;32m     11\u001b[0m         \u001b[0;32mfor\u001b[0m \u001b[0mi\u001b[0m \u001b[0;32min\u001b[0m \u001b[0mrange\u001b[0m\u001b[0;34m(\u001b[0m\u001b[0mbatch_size\u001b[0m\u001b[0;34m)\u001b[0m\u001b[0;34m:\u001b[0m\u001b[0;34m\u001b[0m\u001b[0m\n\u001b[1;32m     12\u001b[0m             \u001b[0msupport_x\u001b[0m \u001b[0;34m=\u001b[0m \u001b[0mbatch\u001b[0m\u001b[0;34m[\u001b[0m\u001b[0;36m0\u001b[0m\u001b[0;34m]\u001b[0m\u001b[0;34m[\u001b[0m\u001b[0mi\u001b[0m\u001b[0;34m]\u001b[0m\u001b[0;34m\u001b[0m\u001b[0m\n",
      "\u001b[0;32m/opt/venv/lib/python3.6/site-packages/mxnet/gluon/data/dataloader.py\u001b[0m in \u001b[0;36m__next__\u001b[0;34m(self)\u001b[0m\n\u001b[1;32m    176\u001b[0m                 \u001b[0mself\u001b[0m\u001b[0;34m.\u001b[0m\u001b[0m_push_next\u001b[0m\u001b[0;34m(\u001b[0m\u001b[0;34m)\u001b[0m\u001b[0;34m\u001b[0m\u001b[0m\n\u001b[1;32m    177\u001b[0m                 \u001b[0;32mreturn\u001b[0m \u001b[0mbatch\u001b[0m\u001b[0;34m\u001b[0m\u001b[0m\n\u001b[0;32m--> 178\u001b[0;31m             \u001b[0midx\u001b[0m\u001b[0;34m,\u001b[0m \u001b[0mbatch\u001b[0m \u001b[0;34m=\u001b[0m \u001b[0mself\u001b[0m\u001b[0;34m.\u001b[0m\u001b[0m_data_queue\u001b[0m\u001b[0;34m.\u001b[0m\u001b[0mget\u001b[0m\u001b[0;34m(\u001b[0m\u001b[0;34m)\u001b[0m\u001b[0;34m\u001b[0m\u001b[0m\n\u001b[0m\u001b[1;32m    179\u001b[0m             \u001b[0mself\u001b[0m\u001b[0;34m.\u001b[0m\u001b[0m_data_buffer\u001b[0m\u001b[0;34m[\u001b[0m\u001b[0midx\u001b[0m\u001b[0;34m]\u001b[0m \u001b[0;34m=\u001b[0m \u001b[0mbatch\u001b[0m\u001b[0;34m\u001b[0m\u001b[0m\n\u001b[1;32m    180\u001b[0m \u001b[0;34m\u001b[0m\u001b[0m\n",
      "\u001b[0;32m/usr/lib/python3.6/multiprocessing/queues.py\u001b[0m in \u001b[0;36mget\u001b[0;34m(self, block, timeout)\u001b[0m\n\u001b[1;32m     92\u001b[0m         \u001b[0;32mif\u001b[0m \u001b[0mblock\u001b[0m \u001b[0;32mand\u001b[0m \u001b[0mtimeout\u001b[0m \u001b[0;32mis\u001b[0m \u001b[0;32mNone\u001b[0m\u001b[0;34m:\u001b[0m\u001b[0;34m\u001b[0m\u001b[0m\n\u001b[1;32m     93\u001b[0m             \u001b[0;32mwith\u001b[0m \u001b[0mself\u001b[0m\u001b[0;34m.\u001b[0m\u001b[0m_rlock\u001b[0m\u001b[0;34m:\u001b[0m\u001b[0;34m\u001b[0m\u001b[0m\n\u001b[0;32m---> 94\u001b[0;31m                 \u001b[0mres\u001b[0m \u001b[0;34m=\u001b[0m \u001b[0mself\u001b[0m\u001b[0;34m.\u001b[0m\u001b[0m_recv_bytes\u001b[0m\u001b[0;34m(\u001b[0m\u001b[0;34m)\u001b[0m\u001b[0;34m\u001b[0m\u001b[0m\n\u001b[0m\u001b[1;32m     95\u001b[0m             \u001b[0mself\u001b[0m\u001b[0;34m.\u001b[0m\u001b[0m_sem\u001b[0m\u001b[0;34m.\u001b[0m\u001b[0mrelease\u001b[0m\u001b[0;34m(\u001b[0m\u001b[0;34m)\u001b[0m\u001b[0;34m\u001b[0m\u001b[0m\n\u001b[1;32m     96\u001b[0m         \u001b[0;32melse\u001b[0m\u001b[0;34m:\u001b[0m\u001b[0;34m\u001b[0m\u001b[0m\n",
      "\u001b[0;32m/usr/lib/python3.6/multiprocessing/connection.py\u001b[0m in \u001b[0;36mrecv_bytes\u001b[0;34m(self, maxlength)\u001b[0m\n\u001b[1;32m    214\u001b[0m         \u001b[0;32mif\u001b[0m \u001b[0mmaxlength\u001b[0m \u001b[0;32mis\u001b[0m \u001b[0;32mnot\u001b[0m \u001b[0;32mNone\u001b[0m \u001b[0;32mand\u001b[0m \u001b[0mmaxlength\u001b[0m \u001b[0;34m<\u001b[0m \u001b[0;36m0\u001b[0m\u001b[0;34m:\u001b[0m\u001b[0;34m\u001b[0m\u001b[0m\n\u001b[1;32m    215\u001b[0m             \u001b[0;32mraise\u001b[0m \u001b[0mValueError\u001b[0m\u001b[0;34m(\u001b[0m\u001b[0;34m\"negative maxlength\"\u001b[0m\u001b[0;34m)\u001b[0m\u001b[0;34m\u001b[0m\u001b[0m\n\u001b[0;32m--> 216\u001b[0;31m         \u001b[0mbuf\u001b[0m \u001b[0;34m=\u001b[0m \u001b[0mself\u001b[0m\u001b[0;34m.\u001b[0m\u001b[0m_recv_bytes\u001b[0m\u001b[0;34m(\u001b[0m\u001b[0mmaxlength\u001b[0m\u001b[0;34m)\u001b[0m\u001b[0;34m\u001b[0m\u001b[0m\n\u001b[0m\u001b[1;32m    217\u001b[0m         \u001b[0;32mif\u001b[0m \u001b[0mbuf\u001b[0m \u001b[0;32mis\u001b[0m \u001b[0;32mNone\u001b[0m\u001b[0;34m:\u001b[0m\u001b[0;34m\u001b[0m\u001b[0m\n\u001b[1;32m    218\u001b[0m             \u001b[0mself\u001b[0m\u001b[0;34m.\u001b[0m\u001b[0m_bad_message_length\u001b[0m\u001b[0;34m(\u001b[0m\u001b[0;34m)\u001b[0m\u001b[0;34m\u001b[0m\u001b[0m\n",
      "\u001b[0;32m/usr/lib/python3.6/multiprocessing/connection.py\u001b[0m in \u001b[0;36m_recv_bytes\u001b[0;34m(self, maxsize)\u001b[0m\n\u001b[1;32m    405\u001b[0m \u001b[0;34m\u001b[0m\u001b[0m\n\u001b[1;32m    406\u001b[0m     \u001b[0;32mdef\u001b[0m \u001b[0m_recv_bytes\u001b[0m\u001b[0;34m(\u001b[0m\u001b[0mself\u001b[0m\u001b[0;34m,\u001b[0m \u001b[0mmaxsize\u001b[0m\u001b[0;34m=\u001b[0m\u001b[0;32mNone\u001b[0m\u001b[0;34m)\u001b[0m\u001b[0;34m:\u001b[0m\u001b[0;34m\u001b[0m\u001b[0m\n\u001b[0;32m--> 407\u001b[0;31m         \u001b[0mbuf\u001b[0m \u001b[0;34m=\u001b[0m \u001b[0mself\u001b[0m\u001b[0;34m.\u001b[0m\u001b[0m_recv\u001b[0m\u001b[0;34m(\u001b[0m\u001b[0;36m4\u001b[0m\u001b[0;34m)\u001b[0m\u001b[0;34m\u001b[0m\u001b[0m\n\u001b[0m\u001b[1;32m    408\u001b[0m         \u001b[0msize\u001b[0m\u001b[0;34m,\u001b[0m \u001b[0;34m=\u001b[0m \u001b[0mstruct\u001b[0m\u001b[0;34m.\u001b[0m\u001b[0munpack\u001b[0m\u001b[0;34m(\u001b[0m\u001b[0;34m\"!i\"\u001b[0m\u001b[0;34m,\u001b[0m \u001b[0mbuf\u001b[0m\u001b[0;34m.\u001b[0m\u001b[0mgetvalue\u001b[0m\u001b[0;34m(\u001b[0m\u001b[0;34m)\u001b[0m\u001b[0;34m)\u001b[0m\u001b[0;34m\u001b[0m\u001b[0m\n\u001b[1;32m    409\u001b[0m         \u001b[0;32mif\u001b[0m \u001b[0mmaxsize\u001b[0m \u001b[0;32mis\u001b[0m \u001b[0;32mnot\u001b[0m \u001b[0;32mNone\u001b[0m \u001b[0;32mand\u001b[0m \u001b[0msize\u001b[0m \u001b[0;34m>\u001b[0m \u001b[0mmaxsize\u001b[0m\u001b[0;34m:\u001b[0m\u001b[0;34m\u001b[0m\u001b[0m\n",
      "\u001b[0;32m/usr/lib/python3.6/multiprocessing/connection.py\u001b[0m in \u001b[0;36m_recv\u001b[0;34m(self, size, read)\u001b[0m\n\u001b[1;32m    377\u001b[0m         \u001b[0mremaining\u001b[0m \u001b[0;34m=\u001b[0m \u001b[0msize\u001b[0m\u001b[0;34m\u001b[0m\u001b[0m\n\u001b[1;32m    378\u001b[0m         \u001b[0;32mwhile\u001b[0m \u001b[0mremaining\u001b[0m \u001b[0;34m>\u001b[0m \u001b[0;36m0\u001b[0m\u001b[0;34m:\u001b[0m\u001b[0;34m\u001b[0m\u001b[0m\n\u001b[0;32m--> 379\u001b[0;31m             \u001b[0mchunk\u001b[0m \u001b[0;34m=\u001b[0m \u001b[0mread\u001b[0m\u001b[0;34m(\u001b[0m\u001b[0mhandle\u001b[0m\u001b[0;34m,\u001b[0m \u001b[0mremaining\u001b[0m\u001b[0;34m)\u001b[0m\u001b[0;34m\u001b[0m\u001b[0m\n\u001b[0m\u001b[1;32m    380\u001b[0m             \u001b[0mn\u001b[0m \u001b[0;34m=\u001b[0m \u001b[0mlen\u001b[0m\u001b[0;34m(\u001b[0m\u001b[0mchunk\u001b[0m\u001b[0;34m)\u001b[0m\u001b[0;34m\u001b[0m\u001b[0m\n\u001b[1;32m    381\u001b[0m             \u001b[0;32mif\u001b[0m \u001b[0mn\u001b[0m \u001b[0;34m==\u001b[0m \u001b[0;36m0\u001b[0m\u001b[0;34m:\u001b[0m\u001b[0;34m\u001b[0m\u001b[0m\n",
      "\u001b[0;31mKeyboardInterrupt\u001b[0m: "
     ]
    },
    {
     "name": "stderr",
     "output_type": "stream",
     "text": [
      "  File \"/usr/lib/python3.6/multiprocessing/process.py\", line 93, in run\n",
      "    self._target(*self._args, **self._kwargs)\n",
      "  File \"/opt/venv/lib/python3.6/site-packages/mxnet/gluon/data/dataloader.py\", line 119, in worker_loop\n",
      "    batch = batchify_fn([dataset[i] for i in samples])\n",
      "  File \"/opt/venv/lib/python3.6/site-packages/mxnet/gluon/data/dataloader.py\", line 119, in <listcomp>\n",
      "    batch = batchify_fn([dataset[i] for i in samples])\n",
      "  File \"/opt/venv/lib/python3.6/site-packages/mxnet/gluon/block.py\", line 413, in __call__\n",
      "    return self.forward(*args)\n",
      "  File \"/opt/venv/lib/python3.6/site-packages/mxnet/gluon/nn/basic_layers.py\", line 53, in forward\n",
      "    x = block(x)\n",
      "  File \"<ipython-input-4-1175bd14f7c6>\", line 40, in <lambda>\n",
      "    self.transform = transforms.Compose([lambda x: nd.array(np.array(Image.open(x).convert('RGB')),ctx=self.ctx),\n",
      "  File \"/opt/venv/lib/python3.6/site-packages/mxnet/ndarray/utils.py\", line 146, in array\n",
      "    return _array(source_array, ctx=ctx, dtype=dtype)\n",
      "  File \"/opt/venv/lib/python3.6/site-packages/mxnet/ndarray/ndarray.py\", line 2339, in array\n",
      "    arr[:] = source_array\n",
      "  File \"/opt/venv/lib/python3.6/site-packages/mxnet/ndarray/ndarray.py\", line 444, in __setitem__\n",
      "    self._set_nd_basic_indexing(key, value)\n",
      "  File \"/opt/venv/lib/python3.6/site-packages/mxnet/ndarray/ndarray.py\", line 707, in _set_nd_basic_indexing\n",
      "    self._sync_copyfrom(value)\n",
      "  File \"/opt/venv/lib/python3.6/site-packages/mxnet/ndarray/ndarray.py\", line 865, in _sync_copyfrom\n",
      "    source_array = np.ascontiguousarray(source_array, dtype=self.dtype)\n",
      "  File \"/home/skinet/py_libs/lib/python3.6/site-packages/numpy/core/numeric.py\", line 581, in ascontiguousarray\n",
      "    return array(a, dtype, copy=False, order='C', ndmin=1)\n",
      "TypeError: float() argument must be a string or a number, not 'Image'\n"
     ]
    }
   ],
   "source": [
    "global_va_acc = 0.0\n",
    "\n",
    "for epoch in range(100):\n",
    "    loss_mean = list()\n",
    "    va_loss_mean = list()\n",
    "    tr_acc = list()\n",
    "    va_acc = list()\n",
    "    train_acc = mx.metric.Accuracy()\n",
    "    val_acc = mx.metric.Accuracy()\n",
    "    cnt = 0\n",
    "    for step, batch in enumerate(db):\n",
    "        for i in range(batch_size):\n",
    "            support_x = batch[0][i]\n",
    "            support_y = batch[1][i]\n",
    "            #query_x = batch[2][i]\n",
    "            #query_y = batch[3][i]\n",
    "            with autograd.record():\n",
    "                data = support_x.copyto(ctx)\n",
    "                label = support_y.copyto(ctx)\n",
    "                output = model(data)\n",
    "                loss_val = loss(output,label)\n",
    "            train_acc.update(preds=nd.argmax(output,1),labels=label)\n",
    "            tr_acc.append(train_acc.get()[1])\n",
    "            loss_mean.append(nd.mean(loss_val).asscalar())\n",
    "            \n",
    "        grads = [i.grad() for i in model.collect_params().values()]\n",
    "        gluon.utils.clip_global_norm(grads, max_grad_norm)\n",
    "        loss_val.backward()\n",
    "        trainer.step(batch_size,ignore_stale_grad=True) \n",
    "        \n",
    "        for i in range(batch_size):\n",
    "            #support_x = batch[0][i]\n",
    "            #support_y = batch[1][i]\n",
    "            query_x = batch[2][i]\n",
    "            query_y = batch[3][i]\n",
    "            va_data = query_x.copyto(ctx)\n",
    "            va_label = query_y.copyto(ctx)\n",
    "            va_output = model(va_data)\n",
    "            va_loss_val = loss(va_output,va_label)\n",
    "            va_loss_mean.append(nd.mean(va_loss_val).asscalar())\n",
    "            val_acc.update(preds=nd.argmax(va_output,1),labels=va_label)\n",
    "            va_acc.append(val_acc.get()[1])       \n",
    "        current_va_acc = round(np.mean(va_acc),2)\n",
    "        if global_va_acc < current_va_acc:\n",
    "            filename = '/home/skinet/work/Research/SNAIL/models/best_perf_epoch_'+str(epoch)+\"_iter_\"+str(cnt)+\"_val_acc_\"+str(current_va_acc)\n",
    "            model.save_params(filename)\n",
    "            global_va_acc = current_va_acc\n",
    "        if(cnt %100 == 0):\n",
    "            print(\"epoch {e} iter {it} train loss :{l} train_acc:{ta} val loss : {vl} val_acc :{va}\".format(e=epoch,it=cnt,l=np.mean(loss_mean),vl=np.mean(va_loss_mean),ta=np.mean(tr_acc),va=np.mean(va_acc)))\n",
    "            \n",
    "        if(cnt %20 == 0):\n",
    "            perf_dis['train_loss'].append(np.mean(loss_mean))\n",
    "            perf_dis['val_loss'].append(np.mean(va_loss_mean))\n",
    "            perf_dis['train_acc'].append(np.mean(tr_acc))\n",
    "            perf_dis['val_acc'].append(np.mean(va_acc))\n",
    "        cnt = cnt+1"
   ]
  },
  {
   "cell_type": "code",
   "execution_count": 30,
   "metadata": {
    "ExecuteTime": {
     "end_time": "2018-06-29T05:00:48.890882Z",
     "start_time": "2018-06-29T05:00:21.725582Z"
    }
   },
   "outputs": [
    {
     "ename": "KeyboardInterrupt",
     "evalue": "",
     "output_type": "error",
     "traceback": [
      "\u001b[0;31m---------------------------------------------------------------------------\u001b[0m",
      "\u001b[0;31mKeyboardInterrupt\u001b[0m                         Traceback (most recent call last)",
      "\u001b[0;32m<ipython-input-30-325b47ff1529>\u001b[0m in \u001b[0;36m<module>\u001b[0;34m()\u001b[0m\n\u001b[0;32m----> 1\u001b[0;31m \u001b[0;32mfor\u001b[0m \u001b[0mstep\u001b[0m\u001b[0;34m,\u001b[0m \u001b[0mbatch\u001b[0m \u001b[0;32min\u001b[0m \u001b[0menumerate\u001b[0m\u001b[0;34m(\u001b[0m\u001b[0mdb\u001b[0m\u001b[0;34m)\u001b[0m\u001b[0;34m:\u001b[0m\u001b[0;34m\u001b[0m\u001b[0m\n\u001b[0m\u001b[1;32m      2\u001b[0m        \u001b[0;32mfor\u001b[0m \u001b[0mi\u001b[0m \u001b[0;32min\u001b[0m \u001b[0mrange\u001b[0m\u001b[0;34m(\u001b[0m\u001b[0mbatch_size\u001b[0m\u001b[0;34m)\u001b[0m\u001b[0;34m:\u001b[0m\u001b[0;34m\u001b[0m\u001b[0m\n\u001b[1;32m      3\u001b[0m            \u001b[0msupport_x\u001b[0m \u001b[0;34m=\u001b[0m \u001b[0mbatch\u001b[0m\u001b[0;34m[\u001b[0m\u001b[0;36m0\u001b[0m\u001b[0;34m]\u001b[0m\u001b[0;34m[\u001b[0m\u001b[0mi\u001b[0m\u001b[0;34m]\u001b[0m\u001b[0;34m\u001b[0m\u001b[0m\n\u001b[1;32m      4\u001b[0m            \u001b[0msupport_y\u001b[0m \u001b[0;34m=\u001b[0m \u001b[0mbatch\u001b[0m\u001b[0;34m[\u001b[0m\u001b[0;36m1\u001b[0m\u001b[0;34m]\u001b[0m\u001b[0;34m[\u001b[0m\u001b[0mi\u001b[0m\u001b[0;34m]\u001b[0m\u001b[0;34m\u001b[0m\u001b[0m\n\u001b[1;32m      5\u001b[0m            \u001b[0mquery_x\u001b[0m \u001b[0;34m=\u001b[0m \u001b[0mbatch\u001b[0m\u001b[0;34m[\u001b[0m\u001b[0;36m2\u001b[0m\u001b[0;34m]\u001b[0m\u001b[0;34m[\u001b[0m\u001b[0mi\u001b[0m\u001b[0;34m]\u001b[0m\u001b[0;34m\u001b[0m\u001b[0m\n",
      "\u001b[0;32m/opt/venv/lib/python3.6/site-packages/mxnet/gluon/data/dataloader.py\u001b[0m in \u001b[0;36m__next__\u001b[0;34m(self)\u001b[0m\n\u001b[1;32m    176\u001b[0m                 \u001b[0mself\u001b[0m\u001b[0;34m.\u001b[0m\u001b[0m_push_next\u001b[0m\u001b[0;34m(\u001b[0m\u001b[0;34m)\u001b[0m\u001b[0;34m\u001b[0m\u001b[0m\n\u001b[1;32m    177\u001b[0m                 \u001b[0;32mreturn\u001b[0m \u001b[0mbatch\u001b[0m\u001b[0;34m\u001b[0m\u001b[0m\n\u001b[0;32m--> 178\u001b[0;31m             \u001b[0midx\u001b[0m\u001b[0;34m,\u001b[0m \u001b[0mbatch\u001b[0m \u001b[0;34m=\u001b[0m \u001b[0mself\u001b[0m\u001b[0;34m.\u001b[0m\u001b[0m_data_queue\u001b[0m\u001b[0;34m.\u001b[0m\u001b[0mget\u001b[0m\u001b[0;34m(\u001b[0m\u001b[0;34m)\u001b[0m\u001b[0;34m\u001b[0m\u001b[0m\n\u001b[0m\u001b[1;32m    179\u001b[0m             \u001b[0mself\u001b[0m\u001b[0;34m.\u001b[0m\u001b[0m_data_buffer\u001b[0m\u001b[0;34m[\u001b[0m\u001b[0midx\u001b[0m\u001b[0;34m]\u001b[0m \u001b[0;34m=\u001b[0m \u001b[0mbatch\u001b[0m\u001b[0;34m\u001b[0m\u001b[0m\n\u001b[1;32m    180\u001b[0m \u001b[0;34m\u001b[0m\u001b[0m\n",
      "\u001b[0;32m/usr/lib/python3.6/multiprocessing/queues.py\u001b[0m in \u001b[0;36mget\u001b[0;34m(self, block, timeout)\u001b[0m\n\u001b[1;32m     92\u001b[0m         \u001b[0;32mif\u001b[0m \u001b[0mblock\u001b[0m \u001b[0;32mand\u001b[0m \u001b[0mtimeout\u001b[0m \u001b[0;32mis\u001b[0m \u001b[0;32mNone\u001b[0m\u001b[0;34m:\u001b[0m\u001b[0;34m\u001b[0m\u001b[0m\n\u001b[1;32m     93\u001b[0m             \u001b[0;32mwith\u001b[0m \u001b[0mself\u001b[0m\u001b[0;34m.\u001b[0m\u001b[0m_rlock\u001b[0m\u001b[0;34m:\u001b[0m\u001b[0;34m\u001b[0m\u001b[0m\n\u001b[0;32m---> 94\u001b[0;31m                 \u001b[0mres\u001b[0m \u001b[0;34m=\u001b[0m \u001b[0mself\u001b[0m\u001b[0;34m.\u001b[0m\u001b[0m_recv_bytes\u001b[0m\u001b[0;34m(\u001b[0m\u001b[0;34m)\u001b[0m\u001b[0;34m\u001b[0m\u001b[0m\n\u001b[0m\u001b[1;32m     95\u001b[0m             \u001b[0mself\u001b[0m\u001b[0;34m.\u001b[0m\u001b[0m_sem\u001b[0m\u001b[0;34m.\u001b[0m\u001b[0mrelease\u001b[0m\u001b[0;34m(\u001b[0m\u001b[0;34m)\u001b[0m\u001b[0;34m\u001b[0m\u001b[0m\n\u001b[1;32m     96\u001b[0m         \u001b[0;32melse\u001b[0m\u001b[0;34m:\u001b[0m\u001b[0;34m\u001b[0m\u001b[0m\n",
      "\u001b[0;32m/usr/lib/python3.6/multiprocessing/connection.py\u001b[0m in \u001b[0;36mrecv_bytes\u001b[0;34m(self, maxlength)\u001b[0m\n\u001b[1;32m    214\u001b[0m         \u001b[0;32mif\u001b[0m \u001b[0mmaxlength\u001b[0m \u001b[0;32mis\u001b[0m \u001b[0;32mnot\u001b[0m \u001b[0;32mNone\u001b[0m \u001b[0;32mand\u001b[0m \u001b[0mmaxlength\u001b[0m \u001b[0;34m<\u001b[0m \u001b[0;36m0\u001b[0m\u001b[0;34m:\u001b[0m\u001b[0;34m\u001b[0m\u001b[0m\n\u001b[1;32m    215\u001b[0m             \u001b[0;32mraise\u001b[0m \u001b[0mValueError\u001b[0m\u001b[0;34m(\u001b[0m\u001b[0;34m\"negative maxlength\"\u001b[0m\u001b[0;34m)\u001b[0m\u001b[0;34m\u001b[0m\u001b[0m\n\u001b[0;32m--> 216\u001b[0;31m         \u001b[0mbuf\u001b[0m \u001b[0;34m=\u001b[0m \u001b[0mself\u001b[0m\u001b[0;34m.\u001b[0m\u001b[0m_recv_bytes\u001b[0m\u001b[0;34m(\u001b[0m\u001b[0mmaxlength\u001b[0m\u001b[0;34m)\u001b[0m\u001b[0;34m\u001b[0m\u001b[0m\n\u001b[0m\u001b[1;32m    217\u001b[0m         \u001b[0;32mif\u001b[0m \u001b[0mbuf\u001b[0m \u001b[0;32mis\u001b[0m \u001b[0;32mNone\u001b[0m\u001b[0;34m:\u001b[0m\u001b[0;34m\u001b[0m\u001b[0m\n\u001b[1;32m    218\u001b[0m             \u001b[0mself\u001b[0m\u001b[0;34m.\u001b[0m\u001b[0m_bad_message_length\u001b[0m\u001b[0;34m(\u001b[0m\u001b[0;34m)\u001b[0m\u001b[0;34m\u001b[0m\u001b[0m\n",
      "\u001b[0;32m/usr/lib/python3.6/multiprocessing/connection.py\u001b[0m in \u001b[0;36m_recv_bytes\u001b[0;34m(self, maxsize)\u001b[0m\n\u001b[1;32m    405\u001b[0m \u001b[0;34m\u001b[0m\u001b[0m\n\u001b[1;32m    406\u001b[0m     \u001b[0;32mdef\u001b[0m \u001b[0m_recv_bytes\u001b[0m\u001b[0;34m(\u001b[0m\u001b[0mself\u001b[0m\u001b[0;34m,\u001b[0m \u001b[0mmaxsize\u001b[0m\u001b[0;34m=\u001b[0m\u001b[0;32mNone\u001b[0m\u001b[0;34m)\u001b[0m\u001b[0;34m:\u001b[0m\u001b[0;34m\u001b[0m\u001b[0m\n\u001b[0;32m--> 407\u001b[0;31m         \u001b[0mbuf\u001b[0m \u001b[0;34m=\u001b[0m \u001b[0mself\u001b[0m\u001b[0;34m.\u001b[0m\u001b[0m_recv\u001b[0m\u001b[0;34m(\u001b[0m\u001b[0;36m4\u001b[0m\u001b[0;34m)\u001b[0m\u001b[0;34m\u001b[0m\u001b[0m\n\u001b[0m\u001b[1;32m    408\u001b[0m         \u001b[0msize\u001b[0m\u001b[0;34m,\u001b[0m \u001b[0;34m=\u001b[0m \u001b[0mstruct\u001b[0m\u001b[0;34m.\u001b[0m\u001b[0munpack\u001b[0m\u001b[0;34m(\u001b[0m\u001b[0;34m\"!i\"\u001b[0m\u001b[0;34m,\u001b[0m \u001b[0mbuf\u001b[0m\u001b[0;34m.\u001b[0m\u001b[0mgetvalue\u001b[0m\u001b[0;34m(\u001b[0m\u001b[0;34m)\u001b[0m\u001b[0;34m)\u001b[0m\u001b[0;34m\u001b[0m\u001b[0m\n\u001b[1;32m    409\u001b[0m         \u001b[0;32mif\u001b[0m \u001b[0mmaxsize\u001b[0m \u001b[0;32mis\u001b[0m \u001b[0;32mnot\u001b[0m \u001b[0;32mNone\u001b[0m \u001b[0;32mand\u001b[0m \u001b[0msize\u001b[0m \u001b[0;34m>\u001b[0m \u001b[0mmaxsize\u001b[0m\u001b[0;34m:\u001b[0m\u001b[0;34m\u001b[0m\u001b[0m\n",
      "\u001b[0;32m/usr/lib/python3.6/multiprocessing/connection.py\u001b[0m in \u001b[0;36m_recv\u001b[0;34m(self, size, read)\u001b[0m\n\u001b[1;32m    377\u001b[0m         \u001b[0mremaining\u001b[0m \u001b[0;34m=\u001b[0m \u001b[0msize\u001b[0m\u001b[0;34m\u001b[0m\u001b[0m\n\u001b[1;32m    378\u001b[0m         \u001b[0;32mwhile\u001b[0m \u001b[0mremaining\u001b[0m \u001b[0;34m>\u001b[0m \u001b[0;36m0\u001b[0m\u001b[0;34m:\u001b[0m\u001b[0;34m\u001b[0m\u001b[0m\n\u001b[0;32m--> 379\u001b[0;31m             \u001b[0mchunk\u001b[0m \u001b[0;34m=\u001b[0m \u001b[0mread\u001b[0m\u001b[0;34m(\u001b[0m\u001b[0mhandle\u001b[0m\u001b[0;34m,\u001b[0m \u001b[0mremaining\u001b[0m\u001b[0;34m)\u001b[0m\u001b[0;34m\u001b[0m\u001b[0m\n\u001b[0m\u001b[1;32m    380\u001b[0m             \u001b[0mn\u001b[0m \u001b[0;34m=\u001b[0m \u001b[0mlen\u001b[0m\u001b[0;34m(\u001b[0m\u001b[0mchunk\u001b[0m\u001b[0;34m)\u001b[0m\u001b[0;34m\u001b[0m\u001b[0m\n\u001b[1;32m    381\u001b[0m             \u001b[0;32mif\u001b[0m \u001b[0mn\u001b[0m \u001b[0;34m==\u001b[0m \u001b[0;36m0\u001b[0m\u001b[0;34m:\u001b[0m\u001b[0;34m\u001b[0m\u001b[0m\n",
      "\u001b[0;31mKeyboardInterrupt\u001b[0m: "
     ]
    },
    {
     "name": "stderr",
     "output_type": "stream",
     "text": [
      "Process Process-15:\n",
      "Traceback (most recent call last):\n",
      "  File \"/usr/lib/python3.6/multiprocessing/process.py\", line 258, in _bootstrap\n",
      "    self.run()\n",
      "  File \"/usr/lib/python3.6/multiprocessing/process.py\", line 93, in run\n",
      "    self._target(*self._args, **self._kwargs)\n",
      "  File \"/opt/venv/lib/python3.6/site-packages/mxnet/gluon/data/dataloader.py\", line 119, in worker_loop\n",
      "    batch = batchify_fn([dataset[i] for i in samples])\n",
      "  File \"/opt/venv/lib/python3.6/site-packages/mxnet/gluon/data/dataloader.py\", line 119, in <listcomp>\n",
      "    batch = batchify_fn([dataset[i] for i in samples])\n",
      "  File \"<ipython-input-4-1175bd14f7c6>\", line 163, in __getitem__\n",
      "    support_x[i] = self.transform(path)\n",
      "  File \"/opt/venv/lib/python3.6/site-packages/mxnet/gluon/block.py\", line 413, in __call__\n",
      "    return self.forward(*args)\n",
      "  File \"/opt/venv/lib/python3.6/site-packages/mxnet/gluon/nn/basic_layers.py\", line 53, in forward\n",
      "    x = block(x)\n",
      "  File \"<ipython-input-4-1175bd14f7c6>\", line 40, in <lambda>\n",
      "    self.transform = transforms.Compose([lambda x: nd.array(np.array(Image.open(x).convert('RGB')),ctx=self.ctx),\n",
      "  File \"/opt/venv/lib/python3.6/site-packages/mxnet/ndarray/utils.py\", line 146, in array\n",
      "    return _array(source_array, ctx=ctx, dtype=dtype)\n",
      "  File \"/opt/venv/lib/python3.6/site-packages/mxnet/ndarray/ndarray.py\", line 2339, in array\n",
      "    arr[:] = source_array\n",
      "  File \"/opt/venv/lib/python3.6/site-packages/mxnet/ndarray/ndarray.py\", line 444, in __setitem__\n",
      "    self._set_nd_basic_indexing(key, value)\n",
      "  File \"/opt/venv/lib/python3.6/site-packages/mxnet/ndarray/ndarray.py\", line 707, in _set_nd_basic_indexing\n",
      "    self._sync_copyfrom(value)\n",
      "  File \"/opt/venv/lib/python3.6/site-packages/mxnet/ndarray/ndarray.py\", line 872, in _sync_copyfrom\n",
      "    ctypes.c_size_t(source_array.size)))\n",
      "KeyboardInterrupt\n"
     ]
    }
   ],
   "source": [
    " for step, batch in enumerate(db):\n",
    "        for i in range(batch_size):\n",
    "            support_x = batch[0][i]\n",
    "            support_y = batch[1][i]\n",
    "            query_x = batch[2][i]\n",
    "            query_y = batch[3][i]\n",
    "            break"
   ]
  },
  {
   "cell_type": "code",
   "execution_count": 31,
   "metadata": {
    "ExecuteTime": {
     "end_time": "2018-06-29T05:00:54.407333Z",
     "start_time": "2018-06-29T05:00:54.402153Z"
    }
   },
   "outputs": [
    {
     "data": {
      "text/plain": [
       "\n",
       "[2. 2. 3. 3. 0. 0. 1. 1. 4. 4.]\n",
       "<NDArray 10 @cpu_shared(0)>"
      ]
     },
     "execution_count": 31,
     "metadata": {},
     "output_type": "execute_result"
    }
   ],
   "source": [
    "query_y"
   ]
  },
  {
   "cell_type": "code",
   "execution_count": 57,
   "metadata": {
    "ExecuteTime": {
     "end_time": "2018-06-29T00:56:57.338661Z",
     "start_time": "2018-06-29T00:56:57.335314Z"
    }
   },
   "outputs": [
    {
     "data": {
      "text/plain": [
       "[]"
      ]
     },
     "execution_count": 57,
     "metadata": {},
     "output_type": "execute_result"
    }
   ],
   "source": [
    "va_acc"
   ]
  },
  {
   "cell_type": "code",
   "execution_count": 55,
   "metadata": {
    "ExecuteTime": {
     "end_time": "2018-06-29T00:56:20.071584Z",
     "start_time": "2018-06-29T00:56:20.068308Z"
    }
   },
   "outputs": [
    {
     "data": {
      "text/plain": [
       "0.26"
      ]
     },
     "execution_count": 55,
     "metadata": {},
     "output_type": "execute_result"
    }
   ],
   "source": [
    "val_acc.get()[1]"
   ]
  },
  {
   "cell_type": "code",
   "execution_count": 51,
   "metadata": {
    "ExecuteTime": {
     "end_time": "2018-06-29T00:55:25.794299Z",
     "start_time": "2018-06-29T00:55:25.789772Z"
    }
   },
   "outputs": [
    {
     "data": {
      "text/plain": [
       "('accuracy', 0.2)"
      ]
     },
     "execution_count": 51,
     "metadata": {},
     "output_type": "execute_result"
    }
   ],
   "source": [
    "train_acc.get()"
   ]
  },
  {
   "cell_type": "code",
   "execution_count": 29,
   "metadata": {
    "ExecuteTime": {
     "end_time": "2018-06-29T00:04:07.058609Z",
     "start_time": "2018-06-29T00:04:07.054628Z"
    }
   },
   "outputs": [
    {
     "data": {
      "text/plain": [
       "(25, 3, 84, 84)"
      ]
     },
     "execution_count": 29,
     "metadata": {},
     "output_type": "execute_result"
    }
   ],
   "source": [
    "data.shape"
   ]
  },
  {
   "cell_type": "code",
   "execution_count": 38,
   "metadata": {
    "ExecuteTime": {
     "end_time": "2018-06-25T06:55:30.434010Z",
     "start_time": "2018-06-25T06:55:30.398155Z"
    }
   },
   "outputs": [
    {
     "data": {
      "text/plain": [
       "\n",
       "[4.5847210e-09 1.9899325e-08 5.3198522e-01 1.0563797e-04 3.7190720e-01\n",
       " 1.1855067e-03 8.3273480e-04 8.4661752e-02 1.4400263e-13 9.3218870e-03]\n",
       "<NDArray 10 @gpu(0)>"
      ]
     },
     "execution_count": 38,
     "metadata": {},
     "output_type": "execute_result"
    }
   ],
   "source": [
    "nd.softmax(va_output)[3]"
   ]
  },
  {
   "cell_type": "code",
   "execution_count": 39,
   "metadata": {
    "ExecuteTime": {
     "end_time": "2018-06-25T06:55:34.762797Z",
     "start_time": "2018-06-25T06:55:34.758854Z"
    }
   },
   "outputs": [
    {
     "data": {
      "text/plain": [
       "\n",
       "[7. 7. 2. 2. 2. 2. 4. 7. 4. 2.]\n",
       "<NDArray 10 @gpu(0)>"
      ]
     },
     "execution_count": 39,
     "metadata": {},
     "output_type": "execute_result"
    }
   ],
   "source": [
    "nd.argmax(va_output,1)"
   ]
  },
  {
   "cell_type": "code",
   "execution_count": null,
   "metadata": {
    "ExecuteTime": {
     "end_time": "2018-06-25T06:55:19.671101Z",
     "start_time": "2018-06-25T04:17:46.270Z"
    }
   },
   "outputs": [],
   "source": [
    "support_x.shape[0]"
   ]
  },
  {
   "cell_type": "code",
   "execution_count": 42,
   "metadata": {
    "ExecuteTime": {
     "end_time": "2018-06-25T07:07:56.069196Z",
     "start_time": "2018-06-25T07:07:56.065151Z"
    }
   },
   "outputs": [
    {
     "data": {
      "text/plain": [
       "\n",
       "[3.1161484e+01 4.7606003e+01 3.2631065e+01 2.7621670e+01 2.8246191e+01\n",
       " 5.5496621e-01 3.1153409e+00 1.7690205e+01 1.0726947e+00 1.7560464e+00\n",
       " 2.9597314e-02 3.6860043e-01 1.8370737e+00 2.5596783e+00 2.7099288e+00\n",
       " 1.2178973e+01 1.6275099e+01 1.0593153e+01 1.3429583e+01 2.0996267e+01\n",
       " 8.1341248e+00 2.8600287e+00 2.2412050e-01 6.0982933e+00 3.4674497e+00\n",
       " 9.2115488e+00 9.8984728e+00 1.1255022e+01 9.4889727e+00 5.8908181e+00\n",
       " 1.1569217e+01 1.1682887e+01 1.1630000e+01 1.1166780e+01 1.1765790e+01\n",
       " 1.1544019e+01 5.6001492e+00 1.0123260e+01 1.5429238e+01 2.8409996e+01\n",
       " 3.0453697e+01 1.7150373e+01 1.9238771e+01 1.7895241e+01 1.9916370e+01\n",
       " 1.9897079e+01 1.9414797e+01 1.3818964e+01 1.9827072e+01 2.6191713e+01]\n",
       "<NDArray 50 @gpu(0)>"
      ]
     },
     "execution_count": 42,
     "metadata": {},
     "output_type": "execute_result"
    }
   ],
   "source": [
    "loss_val"
   ]
  },
  {
   "cell_type": "code",
   "execution_count": null,
   "metadata": {
    "ExecuteTime": {
     "end_time": "2018-06-25T06:55:19.672593Z",
     "start_time": "2018-06-25T04:17:47.731Z"
    }
   },
   "outputs": [],
   "source": [
    "nd.argmax(output,axis=1)"
   ]
  },
  {
   "cell_type": "code",
   "execution_count": 41,
   "metadata": {
    "ExecuteTime": {
     "end_time": "2018-06-25T07:07:36.948286Z",
     "start_time": "2018-06-25T07:07:36.945237Z"
    }
   },
   "outputs": [
    {
     "data": {
      "text/plain": [
       "(50, 3, 84, 84)"
      ]
     },
     "execution_count": 41,
     "metadata": {},
     "output_type": "execute_result"
    }
   ],
   "source": [
    "data.shape"
   ]
  },
  {
   "cell_type": "code",
   "execution_count": 21,
   "metadata": {},
   "outputs": [],
   "source": [
    "acc = mx.metric.Accuracy()"
   ]
  },
  {
   "cell_type": "code",
   "execution_count": 22,
   "metadata": {},
   "outputs": [],
   "source": [
    "acc.update(preds=nd.argmax(output,axis=1),labels=label)"
   ]
  },
  {
   "cell_type": "code",
   "execution_count": 25,
   "metadata": {},
   "outputs": [
    {
     "name": "stdout",
     "output_type": "stream",
     "text": [
      "('accuracy', 0.9375)\n"
     ]
    }
   ],
   "source": [
    "print(\"{}\".format(acc.get()))"
   ]
  },
  {
   "cell_type": "code",
   "execution_count": 29,
   "metadata": {},
   "outputs": [
    {
     "data": {
      "text/plain": [
       "(128, 28, 1, 28)"
      ]
     },
     "execution_count": 29,
     "metadata": {},
     "output_type": "execute_result"
    }
   ],
   "source": [
    "data.swapaxes(1,2).shape"
   ]
  },
  {
   "cell_type": "code",
   "execution_count": 31,
   "metadata": {},
   "outputs": [],
   "source": [
    "output = model(data)"
   ]
  },
  {
   "cell_type": "code",
   "execution_count": 32,
   "metadata": {},
   "outputs": [
    {
     "data": {
      "text/plain": [
       "\n",
       "[[ -4.70972    -1.0343139  -5.9070234 ...  10.077577    3.4620867\n",
       "    6.4959126]\n",
       " [ -5.9397173  -1.4487193  -5.829402  ...  11.126983    2.5540066\n",
       "    8.838758 ]\n",
       " [ 10.021524   31.977276   -2.28505   ... -20.696571   -4.942632\n",
       "  -32.530014 ]\n",
       " ...\n",
       " [  7.2817163   4.4386163   1.8730931 ... -10.065019   -0.6611936\n",
       "  -14.264185 ]\n",
       " [  2.403361    3.1729379   2.2249227 ...  -9.469499   -1.2017921\n",
       "   -7.741617 ]\n",
       " [ -8.38825    -1.443956   -0.8961567 ...   2.689477    0.8111732\n",
       "   11.417488 ]]\n",
       "<NDArray 128x10 @gpu(0)>"
      ]
     },
     "execution_count": 32,
     "metadata": {},
     "output_type": "execute_result"
    }
   ],
   "source": [
    "output"
   ]
  },
  {
   "cell_type": "code",
   "execution_count": 42,
   "metadata": {},
   "outputs": [
    {
     "data": {
      "text/plain": [
       "\n",
       "[7. 7. 1. 9. 4. 1. 9. 9. 1. 8. 1. 2. 3. 6. 5. 3. 5. 4. 6. 6.]\n",
       "<NDArray 20 @gpu(0)>"
      ]
     },
     "execution_count": 42,
     "metadata": {},
     "output_type": "execute_result"
    }
   ],
   "source": [
    "label[0:20]"
   ]
  },
  {
   "cell_type": "code",
   "execution_count": 34,
   "metadata": {},
   "outputs": [],
   "source": [
    "soft = nd.softmax(output)"
   ]
  },
  {
   "cell_type": "code",
   "execution_count": 43,
   "metadata": {},
   "outputs": [
    {
     "data": {
      "text/plain": [
       "\n",
       "[7. 7. 1. 9. 2. 1. 9. 9. 1. 8. 1. 2. 3. 6. 5. 3. 5. 4. 6. 6.]\n",
       "<NDArray 20 @gpu(0)>"
      ]
     },
     "execution_count": 43,
     "metadata": {},
     "output_type": "execute_result"
    }
   ],
   "source": [
    "nd.argmax(soft[0:20],axis=1)"
   ]
  },
  {
   "cell_type": "code",
   "execution_count": 37,
   "metadata": {},
   "outputs": [
    {
     "data": {
      "text/plain": [
       "\n",
       "[1.2977268e-08 3.4302653e-07 1.9245779e-06 1.4412031e-08 1.9874494e-06\n",
       " 4.5362492e-03 1.3529815e-08 2.5637108e-03 2.0838407e-04 9.9268734e-01]\n",
       "<NDArray 10 @gpu(0)>"
      ]
     },
     "execution_count": 37,
     "metadata": {},
     "output_type": "execute_result"
    }
   ],
   "source": [
    "soft[3]"
   ]
  },
  {
   "cell_type": "markdown",
   "metadata": {},
   "source": [
    "### "
   ]
  },
  {
   "cell_type": "code",
   "execution_count": 10,
   "metadata": {},
   "outputs": [],
   "source": [
    "test = nd.random_normal(shape=(128, 64, 1),ctx=mx.gpu())"
   ]
  },
  {
   "cell_type": "code",
   "execution_count": 11,
   "metadata": {},
   "outputs": [
    {
     "data": {
      "text/plain": [
       "(128, 64, 1)"
      ]
     },
     "execution_count": 11,
     "metadata": {},
     "output_type": "execute_result"
    }
   ],
   "source": [
    "test.shape"
   ]
  },
  {
   "cell_type": "code",
   "execution_count": 12,
   "metadata": {},
   "outputs": [],
   "source": [
    "attn =AttentionBlock(64,32)\n",
    "attn.collect_params().initialize(ctx=mx.gpu())"
   ]
  },
  {
   "cell_type": "code",
   "execution_count": 13,
   "metadata": {},
   "outputs": [],
   "source": [
    "a = attn(test)"
   ]
  },
  {
   "cell_type": "code",
   "execution_count": 14,
   "metadata": {},
   "outputs": [
    {
     "data": {
      "text/plain": [
       "(128, 33, 64)"
      ]
     },
     "execution_count": 14,
     "metadata": {},
     "output_type": "execute_result"
    }
   ],
   "source": [
    "a.shape"
   ]
  },
  {
   "cell_type": "code",
   "execution_count": 19,
   "metadata": {},
   "outputs": [],
   "source": [
    "mod1 = TCBlock(33,T,128)\n",
    "mod1.collect_params().initialize(ctx=mx.gpu())"
   ]
  },
  {
   "cell_type": "code",
   "execution_count": 20,
   "metadata": {},
   "outputs": [
    {
     "name": "stdout",
     "output_type": "stream",
     "text": [
      "(128, 33, 64)\n",
      "Dense success\n",
      "(128, 161, 64)\n",
      "Dense success\n",
      "(128, 289, 64)\n",
      "Dense success\n",
      "(128, 417, 64)\n",
      "Dense success\n",
      "(128, 545, 64)\n",
      "Dense success\n",
      "(128, 673, 64)\n",
      "Dense success\n",
      "(128, 801, 64)\n",
      "Dense success\n"
     ]
    }
   ],
   "source": [
    "out = mod1(a)"
   ]
  },
  {
   "cell_type": "code",
   "execution_count": 21,
   "metadata": {},
   "outputs": [
    {
     "data": {
      "text/plain": [
       "(128, 929, 64)"
      ]
     },
     "execution_count": 21,
     "metadata": {},
     "output_type": "execute_result"
    }
   ],
   "source": [
    "out.shape"
   ]
  },
  {
   "cell_type": "code",
   "execution_count": 56,
   "metadata": {},
   "outputs": [],
   "source": [
    "casual_conv = nn.Conv1D(65,kernel_size=2,padding = 3, dilation = 1)\n",
    "casual_conv.collect_params().initialize()"
   ]
  },
  {
   "cell_type": "code",
   "execution_count": 57,
   "metadata": {},
   "outputs": [
    {
     "data": {
      "text/plain": [
       "odict_keys(['conv4_weight', 'conv4_bias'])"
      ]
     },
     "execution_count": 57,
     "metadata": {},
     "output_type": "execute_result"
    }
   ],
   "source": [
    "casual_conv.collect_params().keys()"
   ]
  },
  {
   "cell_type": "code",
   "execution_count": 60,
   "metadata": {},
   "outputs": [
    {
     "ename": "DeferredInitializationError",
     "evalue": "Parameter 'conv4_weight' has not been initialized yet because initialization was deferred. Actual initialization happens during the first forward pass. Please pass one batch of data through the network before accessing Parameters. You can also avoid deferred initialization by specifying in_units, num_features, etc., for network layers.",
     "output_type": "error",
     "traceback": [
      "\u001b[0;31m---------------------------------------------------------------------------\u001b[0m",
      "\u001b[0;31mDeferredInitializationError\u001b[0m               Traceback (most recent call last)",
      "\u001b[0;32m<ipython-input-60-0753453baa39>\u001b[0m in \u001b[0;36m<module>\u001b[0;34m()\u001b[0m\n\u001b[0;32m----> 1\u001b[0;31m \u001b[0mcasual_conv\u001b[0m\u001b[0;34m.\u001b[0m\u001b[0mcollect_params\u001b[0m\u001b[0;34m(\u001b[0m\u001b[0;34m)\u001b[0m\u001b[0;34m[\u001b[0m\u001b[0;34m'conv4_weight'\u001b[0m\u001b[0;34m]\u001b[0m\u001b[0;34m.\u001b[0m\u001b[0mdata\u001b[0m\u001b[0;34m(\u001b[0m\u001b[0;34m)\u001b[0m\u001b[0;34m\u001b[0m\u001b[0m\n\u001b[0m",
      "\u001b[0;32m/opt/venv/lib/python3.6/site-packages/mxnet/gluon/parameter.py\u001b[0m in \u001b[0;36mdata\u001b[0;34m(self, ctx)\u001b[0m\n\u001b[1;32m    389\u001b[0m         \u001b[0mNDArray\u001b[0m \u001b[0mon\u001b[0m \u001b[0mctx\u001b[0m\u001b[0;34m\u001b[0m\u001b[0m\n\u001b[1;32m    390\u001b[0m         \"\"\"\n\u001b[0;32m--> 391\u001b[0;31m         \u001b[0;32mreturn\u001b[0m \u001b[0mself\u001b[0m\u001b[0;34m.\u001b[0m\u001b[0m_check_and_get\u001b[0m\u001b[0;34m(\u001b[0m\u001b[0mself\u001b[0m\u001b[0;34m.\u001b[0m\u001b[0m_data\u001b[0m\u001b[0;34m,\u001b[0m \u001b[0mctx\u001b[0m\u001b[0;34m)\u001b[0m\u001b[0;34m\u001b[0m\u001b[0m\n\u001b[0m\u001b[1;32m    392\u001b[0m \u001b[0;34m\u001b[0m\u001b[0m\n\u001b[1;32m    393\u001b[0m     \u001b[0;32mdef\u001b[0m \u001b[0mlist_data\u001b[0m\u001b[0;34m(\u001b[0m\u001b[0mself\u001b[0m\u001b[0;34m)\u001b[0m\u001b[0;34m:\u001b[0m\u001b[0;34m\u001b[0m\u001b[0m\n",
      "\u001b[0;32m/opt/venv/lib/python3.6/site-packages/mxnet/gluon/parameter.py\u001b[0m in \u001b[0;36m_check_and_get\u001b[0;34m(self, arr_list, ctx)\u001b[0m\n\u001b[1;32m    181\u001b[0m                 \u001b[0;34m\"Please pass one batch of data through the network before accessing Parameters. \"\u001b[0m\u001b[0;31m \u001b[0m\u001b[0;31m\\\u001b[0m\u001b[0;34m\u001b[0m\u001b[0m\n\u001b[1;32m    182\u001b[0m                 \u001b[0;34m\"You can also avoid deferred initialization by specifying in_units, \"\u001b[0m\u001b[0;31m \u001b[0m\u001b[0;31m\\\u001b[0m\u001b[0;34m\u001b[0m\u001b[0m\n\u001b[0;32m--> 183\u001b[0;31m                 \"num_features, etc., for network layers.\"%(self.name))\n\u001b[0m\u001b[1;32m    184\u001b[0m         raise RuntimeError(\n\u001b[1;32m    185\u001b[0m             \u001b[0;34m\"Parameter '%s' has not been initialized. Note that \"\u001b[0m\u001b[0;31m \u001b[0m\u001b[0;31m\\\u001b[0m\u001b[0;34m\u001b[0m\u001b[0m\n",
      "\u001b[0;31mDeferredInitializationError\u001b[0m: Parameter 'conv4_weight' has not been initialized yet because initialization was deferred. Actual initialization happens during the first forward pass. Please pass one batch of data through the network before accessing Parameters. You can also avoid deferred initialization by specifying in_units, num_features, etc., for network layers."
     ]
    }
   ],
   "source": [
    "casual_conv.collect_params()['conv4_weight'].data()"
   ]
  },
  {
   "cell_type": "code",
   "execution_count": 59,
   "metadata": {},
   "outputs": [
    {
     "data": {
      "text/plain": [
       "\n",
       "[[40. 33. 15. ... 55. 51. 62.]\n",
       " [43. 39.  3. ... 53. 43. 15.]\n",
       " [ 3. 56. 49. ... 40. 29. 30.]\n",
       " ...\n",
       " [18. 27. 61. ... 12.  3. 16.]\n",
       " [55. 17. 36. ... 35. 51. 13.]\n",
       " [17. 57. 14. ... 32.  9. 46.]]\n",
       "<NDArray 128x65 @cpu(0)>"
      ]
     },
     "execution_count": 59,
     "metadata": {},
     "output_type": "execute_result"
    }
   ],
   "source": [
    "nd.argmax(out,1)"
   ]
  },
  {
   "cell_type": "code",
   "execution_count": 98,
   "metadata": {},
   "outputs": [],
   "source": [
    "loss = gluon.loss.SoftmaxCrossEntropyLoss()"
   ]
  },
  {
   "cell_type": "code",
   "execution_count": 100,
   "metadata": {},
   "outputs": [
    {
     "data": {
      "text/plain": [
       "\n",
       "[2.2953513 2.268253  2.2788887 2.2653809 2.2001681 2.3938656 2.352553\n",
       " 2.1504626 2.2000809 2.3043551 2.247101  2.2911987 2.3168476 2.3106627\n",
       " 2.316557  2.3206165 2.3051178 2.400387  2.2482119 2.3681443 2.2640896\n",
       " 2.3992994 2.21503   2.2837143 2.403338  2.2815537 2.2992458 2.3473132\n",
       " 2.2210064 2.3172932 2.4186    2.35235   2.3988147 2.1612604 2.4434488\n",
       " 2.2524354 2.3666632 2.381284  2.3241143 2.308886  2.3716798 2.3149261\n",
       " 2.3523326 2.2905169 2.3369887 2.2060206 2.3598323 2.41046   2.3438096\n",
       " 2.3870363 2.211364  2.322115  2.3808486 2.353376  2.1823812 2.2900634\n",
       " 2.2563624 2.3698769 2.3828924 2.3387487 2.3133004 2.2479045 2.26498\n",
       " 2.3250399 2.1810293 2.3330922 2.3212776 2.2873394 2.3081412 2.3115413\n",
       " 2.384853  2.3017528 2.26551   2.291781  2.3923473 2.2603652 2.1976027\n",
       " 2.3875916 2.2776318 2.291148  2.2299504 2.3043473 2.4108205 2.3028996\n",
       " 2.2174864 2.3599975 2.3221505 2.2949238 2.3127408 2.3572457 2.3136406\n",
       " 2.2745225 2.2646685 2.3358376 2.3021743 2.3337815]\n",
       "<NDArray 96 @cpu(0)>"
      ]
     },
     "execution_count": 100,
     "metadata": {},
     "output_type": "execute_result"
    }
   ],
   "source": [
    "loss(out,label)"
   ]
  },
  {
   "cell_type": "code",
   "execution_count": 76,
   "metadata": {},
   "outputs": [],
   "source": [
    "N = 10\n",
    "K = 4\n",
    "T = N * K + 1\n",
    "layer_count = math.ceil(math.log(T)/math.log(2))"
   ]
  },
  {
   "cell_type": "code",
   "execution_count": 48,
   "metadata": {},
   "outputs": [],
   "source": [
    "cnn_emb = CnnEmbedding()\n",
    "cnn_emb.collect_params().initialize()"
   ]
  },
  {
   "cell_type": "code",
   "execution_count": 49,
   "metadata": {},
   "outputs": [],
   "source": [
    "test1 = cnn_emb(data)"
   ]
  },
  {
   "cell_type": "code",
   "execution_count": 50,
   "metadata": {},
   "outputs": [
    {
     "data": {
      "text/plain": [
       "(96, 64)"
      ]
     },
     "execution_count": 50,
     "metadata": {},
     "output_type": "execute_result"
    }
   ],
   "source": [
    "test1.shape"
   ]
  },
  {
   "cell_type": "code",
   "execution_count": 52,
   "metadata": {},
   "outputs": [
    {
     "data": {
      "text/plain": [
       "(96, 64, 1)"
      ]
     },
     "execution_count": 52,
     "metadata": {},
     "output_type": "execute_result"
    }
   ],
   "source": [
    "test1.expand_dims(2).shape"
   ]
  },
  {
   "cell_type": "code",
   "execution_count": 77,
   "metadata": {},
   "outputs": [],
   "source": [
    "snail = SNAIL(N, K)\n",
    "snail.collect_params().initialize()"
   ]
  },
  {
   "cell_type": "code",
   "execution_count": 78,
   "metadata": {},
   "outputs": [],
   "source": [
    "out = snail(data)"
   ]
  },
  {
   "cell_type": "code",
   "execution_count": 79,
   "metadata": {},
   "outputs": [
    {
     "data": {
      "text/plain": [
       "(96, 1600, 2497)"
      ]
     },
     "execution_count": 79,
     "metadata": {},
     "output_type": "execute_result"
    }
   ],
   "source": [
    "out.shape"
   ]
  },
  {
   "cell_type": "code",
   "execution_count": 80,
   "metadata": {},
   "outputs": [],
   "source": [
    "conv1 = nn.Conv1D(N,1)\n",
    "conv1.collect_params().initialize()"
   ]
  },
  {
   "cell_type": "code",
   "execution_count": 81,
   "metadata": {},
   "outputs": [],
   "source": [
    "a = conv1(out)"
   ]
  },
  {
   "cell_type": "code",
   "execution_count": 82,
   "metadata": {},
   "outputs": [
    {
     "data": {
      "text/plain": [
       "(96, 10, 2497)"
      ]
     },
     "execution_count": 82,
     "metadata": {},
     "output_type": "execute_result"
    }
   ],
   "source": [
    "a.shape"
   ]
  },
  {
   "cell_type": "code",
   "execution_count": 83,
   "metadata": {},
   "outputs": [],
   "source": [
    "b = a.sum(2)"
   ]
  },
  {
   "cell_type": "code",
   "execution_count": null,
   "metadata": {},
   "outputs": [],
   "source": []
  },
  {
   "cell_type": "code",
   "execution_count": 85,
   "metadata": {},
   "outputs": [
    {
     "data": {
      "text/plain": [
       "(96, 10)"
      ]
     },
     "execution_count": 85,
     "metadata": {},
     "output_type": "execute_result"
    }
   ],
   "source": [
    "b.shape"
   ]
  },
  {
   "cell_type": "code",
   "execution_count": 89,
   "metadata": {},
   "outputs": [],
   "source": [
    "c = nd.softmax(b[0])"
   ]
  },
  {
   "cell_type": "code",
   "execution_count": 90,
   "metadata": {},
   "outputs": [
    {
     "data": {
      "text/plain": [
       "\n",
       "[1.0000001]\n",
       "<NDArray 1 @cpu(0)>"
      ]
     },
     "execution_count": 90,
     "metadata": {},
     "output_type": "execute_result"
    }
   ],
   "source": [
    "sum(c)"
   ]
  },
  {
   "cell_type": "code",
   "execution_count": 36,
   "metadata": {},
   "outputs": [
    {
     "data": {
      "text/plain": [
       "\n",
       "[nan]\n",
       "<NDArray 1 @cpu(0)>"
      ]
     },
     "execution_count": 36,
     "metadata": {},
     "output_type": "execute_result"
    }
   ],
   "source": [
    "a[0][0][100]"
   ]
  },
  {
   "cell_type": "code",
   "execution_count": 71,
   "metadata": {},
   "outputs": [],
   "source": [
    "mod0 = AttentionBlock(64, 32)\n",
    "mod0.collect_params().initialize()"
   ]
  },
  {
   "cell_type": "code",
   "execution_count": 72,
   "metadata": {},
   "outputs": [
    {
     "data": {
      "text/plain": [
       "(96, 64, 64)"
      ]
     },
     "execution_count": 72,
     "metadata": {},
     "output_type": "execute_result"
    }
   ],
   "source": [
    "emb_rst.shape"
   ]
  },
  {
   "cell_type": "code",
   "execution_count": 73,
   "metadata": {},
   "outputs": [],
   "source": [
    "mod0_rst=mod0(emb_rst)"
   ]
  },
  {
   "cell_type": "code",
   "execution_count": 74,
   "metadata": {},
   "outputs": [
    {
     "data": {
      "text/plain": [
       "(96, 64, 128)"
      ]
     },
     "execution_count": 74,
     "metadata": {},
     "output_type": "execute_result"
    }
   ],
   "source": [
    "mod0_rst.shape"
   ]
  },
  {
   "cell_type": "code",
   "execution_count": 66,
   "metadata": {},
   "outputs": [
    {
     "data": {
      "text/plain": [
       "(96, 64, 128)"
      ]
     },
     "execution_count": 66,
     "metadata": {},
     "output_type": "execute_result"
    }
   ],
   "source": [
    "mod0_rst.shape"
   ]
  },
  {
   "cell_type": "code",
   "execution_count": 76,
   "metadata": {},
   "outputs": [],
   "source": [
    "mod1 = TCBlock(65+32, T, 128)\n",
    "mod1.collect_params().initialize()"
   ]
  },
  {
   "cell_type": "code",
   "execution_count": 77,
   "metadata": {},
   "outputs": [],
   "source": [
    "mod1_rst=mod1(mod0_rst)"
   ]
  },
  {
   "cell_type": "code",
   "execution_count": 78,
   "metadata": {},
   "outputs": [
    {
     "data": {
      "text/plain": [
       "(96, 1472, 128)"
      ]
     },
     "execution_count": 78,
     "metadata": {},
     "output_type": "execute_result"
    }
   ],
   "source": [
    "mod1_rst.shape"
   ]
  },
  {
   "cell_type": "code",
   "execution_count": 117,
   "metadata": {},
   "outputs": [
    {
     "data": {
      "text/plain": [
       "(1, 2, 3)"
      ]
     },
     "execution_count": 117,
     "metadata": {},
     "output_type": "execute_result"
    }
   ],
   "source": [
    "F.broadcast_mul(x,y).shape"
   ]
  },
  {
   "cell_type": "code",
   "execution_count": 322,
   "metadata": {},
   "outputs": [],
   "source": [
    "mask = np.full(shape=(logits.shape[1],logits.shape[2]),fill_value=1).astype('float')\n",
    "mask = np.triu(mask,1)\n",
    "mask = np.expand_dims(mask,0)\n",
    "mask = np.repeat(mask,logits.shape[0],0)"
   ]
  },
  {
   "cell_type": "code",
   "execution_count": 324,
   "metadata": {},
   "outputs": [
    {
     "data": {
      "text/plain": [
       "array([[0., 1., 1., 1., 1., 1., 1., 1., 1., 1., 1., 1., 1., 1., 1., 1.],\n",
       "       [0., 0., 1., 1., 1., 1., 1., 1., 1., 1., 1., 1., 1., 1., 1., 1.],\n",
       "       [0., 0., 0., 1., 1., 1., 1., 1., 1., 1., 1., 1., 1., 1., 1., 1.],\n",
       "       [0., 0., 0., 0., 1., 1., 1., 1., 1., 1., 1., 1., 1., 1., 1., 1.],\n",
       "       [0., 0., 0., 0., 0., 1., 1., 1., 1., 1., 1., 1., 1., 1., 1., 1.],\n",
       "       [0., 0., 0., 0., 0., 0., 1., 1., 1., 1., 1., 1., 1., 1., 1., 1.],\n",
       "       [0., 0., 0., 0., 0., 0., 0., 1., 1., 1., 1., 1., 1., 1., 1., 1.],\n",
       "       [0., 0., 0., 0., 0., 0., 0., 0., 1., 1., 1., 1., 1., 1., 1., 1.],\n",
       "       [0., 0., 0., 0., 0., 0., 0., 0., 0., 1., 1., 1., 1., 1., 1., 1.],\n",
       "       [0., 0., 0., 0., 0., 0., 0., 0., 0., 0., 1., 1., 1., 1., 1., 1.],\n",
       "       [0., 0., 0., 0., 0., 0., 0., 0., 0., 0., 0., 1., 1., 1., 1., 1.],\n",
       "       [0., 0., 0., 0., 0., 0., 0., 0., 0., 0., 0., 0., 1., 1., 1., 1.],\n",
       "       [0., 0., 0., 0., 0., 0., 0., 0., 0., 0., 0., 0., 0., 1., 1., 1.],\n",
       "       [0., 0., 0., 0., 0., 0., 0., 0., 0., 0., 0., 0., 0., 0., 1., 1.],\n",
       "       [0., 0., 0., 0., 0., 0., 0., 0., 0., 0., 0., 0., 0., 0., 0., 1.],\n",
       "       [0., 0., 0., 0., 0., 0., 0., 0., 0., 0., 0., 0., 0., 0., 0., 0.]])"
      ]
     },
     "execution_count": 324,
     "metadata": {},
     "output_type": "execute_result"
    }
   ],
   "source": [
    "mask[0]"
   ]
  },
  {
   "cell_type": "code",
   "execution_count": 327,
   "metadata": {},
   "outputs": [],
   "source": [
    "def subsequent_mask(size):\n",
    "    \"Mask out subsequent positions.\"\n",
    "    attn_shape = (1, size, size)\n",
    "    subsequent_mask = np.triu(np.ones(attn_shape), k=1).astype('uint8')\n",
    "    return subsequent_mask"
   ]
  },
  {
   "cell_type": "code",
   "execution_count": 328,
   "metadata": {},
   "outputs": [],
   "source": [
    "msk = subsequent_mask(10)"
   ]
  },
  {
   "cell_type": "code",
   "execution_count": 329,
   "metadata": {},
   "outputs": [
    {
     "data": {
      "text/plain": [
       "array([[[0, 1, 1, 1, 1, 1, 1, 1, 1, 1],\n",
       "        [0, 0, 1, 1, 1, 1, 1, 1, 1, 1],\n",
       "        [0, 0, 0, 1, 1, 1, 1, 1, 1, 1],\n",
       "        [0, 0, 0, 0, 1, 1, 1, 1, 1, 1],\n",
       "        [0, 0, 0, 0, 0, 1, 1, 1, 1, 1],\n",
       "        [0, 0, 0, 0, 0, 0, 1, 1, 1, 1],\n",
       "        [0, 0, 0, 0, 0, 0, 0, 1, 1, 1],\n",
       "        [0, 0, 0, 0, 0, 0, 0, 0, 1, 1],\n",
       "        [0, 0, 0, 0, 0, 0, 0, 0, 0, 1],\n",
       "        [0, 0, 0, 0, 0, 0, 0, 0, 0, 0]]], dtype=uint8)"
      ]
     },
     "execution_count": 329,
     "metadata": {},
     "output_type": "execute_result"
    }
   ],
   "source": [
    "msk"
   ]
  },
  {
   "cell_type": "code",
   "execution_count": 71,
   "metadata": {},
   "outputs": [],
   "source": [
    "        mask = np.full(shape=(5,5),fill_value=1).astype('float')\n",
    "        mask = np.triu(mask,1)\n",
    "        #mask = np.expand_dims(mask,0)\n",
    "        #mask = np.repeat(mask,logits.shape[0],0)\n",
    "        #np.place(mask,mask==1,float('-inf'))"
   ]
  },
  {
   "cell_type": "code",
   "execution_count": 72,
   "metadata": {},
   "outputs": [
    {
     "data": {
      "text/plain": [
       "array([[0., 1., 1., 1., 1.],\n",
       "       [0., 0., 1., 1., 1.],\n",
       "       [0., 0., 0., 1., 1.],\n",
       "       [0., 0., 0., 0., 1.],\n",
       "       [0., 0., 0., 0., 0.]])"
      ]
     },
     "execution_count": 72,
     "metadata": {},
     "output_type": "execute_result"
    }
   ],
   "source": [
    "mask"
   ]
  },
  {
   "cell_type": "code",
   "execution_count": null,
   "metadata": {},
   "outputs": [],
   "source": []
  }
 ],
 "metadata": {
  "kernelspec": {
   "display_name": "Python 3",
   "language": "python",
   "name": "python3"
  },
  "language_info": {
   "codemirror_mode": {
    "name": "ipython",
    "version": 3
   },
   "file_extension": ".py",
   "mimetype": "text/x-python",
   "name": "python",
   "nbconvert_exporter": "python",
   "pygments_lexer": "ipython3",
   "version": "3.6.5"
  }
 },
 "nbformat": 4,
 "nbformat_minor": 2
}
