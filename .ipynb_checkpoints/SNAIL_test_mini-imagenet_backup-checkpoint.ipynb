{
 "cells": [
  {
   "cell_type": "code",
   "execution_count": 1,
   "metadata": {},
   "outputs": [],
   "source": [
    "# -*- coding: utf-8 -*-\n",
    "import math\n",
    "import numpy as np\n",
    "import pandas as pd"
   ]
  },
  {
   "cell_type": "code",
   "execution_count": 2,
   "metadata": {},
   "outputs": [
    {
     "name": "stderr",
     "output_type": "stream",
     "text": [
      "/home/skinet/py_libs/lib/python3.6/site-packages/h5py/__init__.py:36: FutureWarning: Conversion of the second argument of issubdtype from `float` to `np.floating` is deprecated. In future, it will be treated as `np.float64 == np.dtype(float).type`.\n",
      "  from ._conv import register_converters as _register_converters\n"
     ]
    }
   ],
   "source": [
    "import mxnet as mx\n",
    "from mxnet import gluon, autograd, nd\n",
    "from mxnet.gluon import nn,utils\n",
    "from mxnet.gluon.data.vision import transforms\n",
    "import mxnet.ndarray as F\n",
    "import numpy as np\n",
    "import os, sys\n",
    "import os\n",
    "import numpy as np\n",
    "import collections\n",
    "from PIL import Image\n",
    "import csv\n",
    "import random\n",
    "from mxnet.gluon.data import Dataset, DataLoader"
   ]
  },
  {
   "cell_type": "code",
   "execution_count": 3,
   "metadata": {},
   "outputs": [
    {
     "data": {
      "text/plain": [
       "'1.2.0'"
      ]
     },
     "execution_count": 3,
     "metadata": {},
     "output_type": "execute_result"
    }
   ],
   "source": [
    "mx.__version__"
   ]
  },
  {
   "cell_type": "code",
   "execution_count": 4,
   "metadata": {},
   "outputs": [],
   "source": [
    "import torch"
   ]
  },
  {
   "cell_type": "code",
   "execution_count": 5,
   "metadata": {},
   "outputs": [
    {
     "data": {
      "text/plain": [
       "\n",
       "[[5.9624882e-32 4.5633284e-41 1.3926494e-36]]\n",
       "<NDArray 1x3 @cpu(0)>"
      ]
     },
     "execution_count": 5,
     "metadata": {},
     "output_type": "execute_result"
    }
   ],
   "source": [
    "nd.empty(shape=(1,3))"
   ]
  },
  {
   "cell_type": "code",
   "execution_count": 6,
   "metadata": {},
   "outputs": [
    {
     "data": {
      "text/plain": [
       "torch.Size([1, 3, 10, 10])"
      ]
     },
     "execution_count": 6,
     "metadata": {},
     "output_type": "execute_result"
    }
   ],
   "source": [
    "torch.FloatTensor(1, 3, 10, 10).shape"
   ]
  },
  {
   "cell_type": "code",
   "execution_count": 7,
   "metadata": {},
   "outputs": [],
   "source": [
    "class MiniImagenet(Dataset):\n",
    "\t\"\"\"\n",
    "\tput mini-imagenet files as :\n",
    "\troot :\n",
    "\t\t|- images/*.jpg includes all imgeas\n",
    "\t\t|- train.csv\n",
    "\t\t|- test.csv\n",
    "\t\t|- val.csv\n",
    "\tNOTICE: meta-learning is different from general supervised learning, especially the concept of batch and set.\n",
    "\tbatch: contains several sets\n",
    "\tsets: conains n_way * k_shot for meta-train set, n_way * n_query for meta-test set.\n",
    "\t\"\"\"\n",
    "\n",
    "\tdef __init__(self, root, mode, batchsz, n_way, k_shot, k_query, resize, ctx=mx.cpu(), startidx=0):\n",
    "\t\t\"\"\"\n",
    "\n",
    "\t\t:param root: root path of mini-imagenet\n",
    "\t\t:param mode: train, val or test\n",
    "\t\t:param batchsz: batch size of sets, not batch of imgs\n",
    "\t\t:param n_way:\n",
    "\t\t:param k_shot:\n",
    "\t\t:param k_query: num of qeruy imgs per class\n",
    "\t\t:param resize: resize to\n",
    "        :param ctx: context\n",
    "\t\t:param startidx: start to index label from startidx\n",
    "\t\t\"\"\"\n",
    "\n",
    "\t\tself.batchsz = batchsz  # batch of set, not batch of imgs\n",
    "\t\tself.n_way = n_way  # n-way\n",
    "\t\tself.k_shot = k_shot  # k-shot\n",
    "\t\tself.k_query = k_query  # for evaluation\n",
    "\t\tself.setsz = self.n_way * self.k_shot  # num of samples per set\n",
    "\t\tself.querysz = self.n_way * self.k_query  # number of samples per set for evaluation\n",
    "\t\tself.resize = resize  # resize to\n",
    "\t\tself.ctx = ctx\n",
    "\t\tself.startidx = startidx  # index label not from 0, but from startidx\n",
    "\t\tprint('shuffle DB :%s, b:%d, %d-way, %d-shot, %d-query, resize:%d' % (mode, batchsz, n_way, k_shot, k_query, resize))\n",
    "\n",
    "\t\tif mode == 'train':\n",
    "\t\t\tself.transform = transforms.Compose([lambda x: nd.array(np.array(Image.open(x).convert('RGB')),ctx=self.ctx),\n",
    "\t\t\t                                     transforms.Resize((self.resize, self.resize)),\n",
    "\t\t                                         # transforms.RandomHorizontalFlip(),\n",
    "\t\t                                         # transforms.RandomRotation(5),\n",
    "\t\t\t                                     transforms.ToTensor(),\n",
    "\t\t\t                                     transforms.Normalize((0.485, 0.456, 0.406), (0.229, 0.224, 0.225))\n",
    "\t\t\t                                     ])\n",
    "\t\telse:\n",
    "\t\t\tself.transform = transforms.Compose([lambda x: nd.array(np.array(Image.open(x).convert('RGB')),ctx=self.ctx),\n",
    "\t\t\t                                     transforms.Resize((self.resize, self.resize)),\n",
    "\t\t\t                                     transforms.ToTensor(),\n",
    "\t\t\t                                     transforms.Normalize((0.485, 0.456, 0.406), (0.229, 0.224, 0.225))\n",
    "\t\t\t                                     ])\n",
    "\n",
    "\t\tself.path = os.path.join(root, 'images')  # image path\n",
    "\t\tcsvdata = self.loadCSV(os.path.join(root, mode + '.csv'))  # csv path\n",
    "\t\tself.data = []\n",
    "\t\tself.img2label = {}\n",
    "\t\tfor i, (k, v) in enumerate(csvdata.items()):\n",
    "\t\t\tself.data.append(v)  # [[img1, img2, ...], [img111, ...]]\n",
    "\t\t\tself.img2label[k] = i + self.startidx  # {\"img_name[:9]\":label}\n",
    "\t\tself.cls_num = len(self.data)\n",
    "\n",
    "\t\tself.create_batch(self.batchsz)\n",
    "\n",
    "\tdef loadCSV(self, csvf):\n",
    "\t\t\"\"\"\n",
    "\t\treturn a dict saving the information of csv\n",
    "\t\t:param splitFile: csv file name\n",
    "\t\t:return: {label:[file1, file2 ...]}\n",
    "\t\t\"\"\"\n",
    "\t\tdictLabels = {}\n",
    "\t\twith open(csvf) as csvfile:\n",
    "\t\t\tcsvreader = csv.reader(csvfile, delimiter=',')\n",
    "\t\t\tnext(csvreader, None)  # skip (filename, label)\n",
    "\t\t\tfor i, row in enumerate(csvreader):\n",
    "\t\t\t\tfilename = row[0]\n",
    "\t\t\t\tlabel = row[1]\n",
    "\t\t\t\t# append filename to current label\n",
    "\t\t\t\tif label in dictLabels.keys():\n",
    "\t\t\t\t\tdictLabels[label].append(filename)\n",
    "\t\t\t\telse:\n",
    "\t\t\t\t\tdictLabels[label] = [filename]\n",
    "\t\treturn dictLabels\n",
    "\n",
    "\tdef create_batch(self, batchsz):\n",
    "\t\t\"\"\"\n",
    "\t\tcreate batch for meta-learning.\n",
    "\t\t×episode× here means batch, and it means how many sets we want to retain.\n",
    "\t\t:param episodes: batch size\n",
    "\t\t:return:\n",
    "\t\t\"\"\"\n",
    "\t\tself.support_x_batch = []  # support set batch\n",
    "\t\tself.query_x_batch = []  # query set batch\n",
    "\t\tfor b in range(batchsz):  # for each batch\n",
    "\t\t\t# 1.select n_way classes randomly\n",
    "\t\t\tselected_cls = np.random.choice(self.cls_num, self.n_way, False)  # no duplicate\n",
    "\t\t\tnp.random.shuffle(selected_cls)\n",
    "\t\t\tsupport_x = []\n",
    "\t\t\tquery_x = []\n",
    "\t\t\tfor cls in selected_cls:\n",
    "\t\t\t\t# 2. select k_shot + k_query for each class\n",
    "\t\t\t\tselected_imgs_idx = np.random.choice(len(self.data[cls]), self.k_shot + self.k_query, False)\n",
    "\t\t\t\tnp.random.shuffle(selected_imgs_idx)\n",
    "\t\t\t\tindexDtrain = np.array(selected_imgs_idx[:self.k_shot])  # idx for Dtrain\n",
    "\t\t\t\tindexDtest = np.array(selected_imgs_idx[self.k_shot:])  # idx for Dtest\n",
    "\t\t\t\tsupport_x.append(\n",
    "\t\t\t\t\tnp.array(self.data[cls])[indexDtrain].tolist())  # get all images filename for current Dtrain\n",
    "\t\t\t\tquery_x.append(np.array(self.data[cls])[indexDtest].tolist())\n",
    "\n",
    "\t\t\t# shuffle the correponding relation between support set and query set\n",
    "\t\t\trandom.shuffle(support_x)\n",
    "\t\t\trandom.shuffle(query_x)\n",
    "\n",
    "\t\t\tself.support_x_batch.append(support_x)  # append set to current sets\n",
    "\t\t\tself.query_x_batch.append(query_x)  # append sets to current sets\n",
    "\n",
    "\tdef __getitem__(self, index):\n",
    "\t\t\"\"\"\n",
    "\t\tindex means index of sets, 0<= index <= batchsz-1\n",
    "\t\t:param index:\n",
    "\t\t:return:\n",
    "\t\t\"\"\"\n",
    "\t\t# [setsz, 3, resize, resize]\n",
    "\t\t#support_x = torch.FloatTensor(self.setsz, 3, self.resize, self.resize)\n",
    "\t\tsupport_x = nd.empty(shape=(self.setsz, 3, self.resize, self.resize))\n",
    "\t\t# [setsz]\n",
    "\t\tsupport_y = np.zeros((self.setsz), dtype=np.int)\n",
    "\t\t# [querysz, 3, resize, resize]\n",
    "\t\t#query_x = torch.FloatTensor(self.querysz, 3, self.resize, self.resize)\n",
    "\t\tquery_x = nd.empty(shape=(self.querysz, 3, self.resize, self.resize))\n",
    "\t\t# [querysz]\n",
    "\t\tquery_y = np.zeros((self.querysz), dtype=np.int)\n",
    "\n",
    "\t\tflatten_support_x = [os.path.join(self.path, item)\n",
    "\t\t                     for sublist in self.support_x_batch[index] for item in sublist]\n",
    "\t\tsupport_y = np.array(\n",
    "\t\t\t[self.img2label[item[:9]]  # filename:n0153282900000005.jpg, the first 9 characters treated as label\n",
    "\t\t\t for sublist in self.support_x_batch[index] for item in sublist]).astype(np.int32)\n",
    "\n",
    "\t\tflatten_query_x = [os.path.join(self.path, item)\n",
    "\t\t                   for sublist in self.query_x_batch[index] for item in sublist]\n",
    "\t\tquery_y = np.array([self.img2label[item[:9]]\n",
    "\t\t                    for sublist in self.query_x_batch[index] for item in sublist]).astype(np.int32)\n",
    "\n",
    "\n",
    "\t\t# print('global:', support_y, query_y)\n",
    "\t\t# support_y: [setsz]\n",
    "\t\t# query_y: [querysz]\n",
    "\t\t# unique: [n-way], sorted\n",
    "\t\tunique = np.unique(support_y)\n",
    "\t\t# relative means the label ranges from 0 to n-way\n",
    "\t\tsupport_y_relative = np.zeros(self.setsz)\n",
    "\t\tquery_y_relative = np.zeros(self.querysz)\n",
    "\t\tfor idx, l in enumerate(unique):\n",
    "\t\t\tsupport_y_relative[support_y==l] = idx\n",
    "\t\t\tquery_y_relative[query_y==l] = idx\n",
    "\n",
    "\t\t# print('relative:', support_y_relative, query_y_relative)\n",
    "\n",
    "\n",
    "\t\tfor i, path in enumerate(flatten_support_x):\n",
    "\t\t\t#print(path)\n",
    "\t\t\tsupport_x[i] = self.transform(path)\n",
    "\n",
    "\t\tfor i, path in enumerate(flatten_query_x):\n",
    "\t\t\tquery_x[i] = self.transform(path)\n",
    "\t\t# print(support_set_y)\n",
    "\t\t# return support_x, torch.LongTensor(support_y), query_x, torch.LongTensor(query_y)\n",
    "\n",
    "\t\t#return support_x, torch.LongTensor(support_y_relative), query_x, torch.LongTensor(query_y_relative)\n",
    "\t\treturn support_x, nd.array(support_y_relative,ctx=self.ctx), query_x, nd.array(query_y_relative,ctx=self.ctx)\n",
    "\tdef __len__(self):\n",
    "\t\t# as we have built up to batchsz of sets, you can sample some small batch size of sets.\n",
    "\t\treturn self.batchsz"
   ]
  },
  {
   "cell_type": "code",
   "execution_count": 8,
   "metadata": {},
   "outputs": [],
   "source": [
    "os.chdir('/home/skinet/work/datasets/')"
   ]
  },
  {
   "cell_type": "code",
   "execution_count": 9,
   "metadata": {},
   "outputs": [
    {
     "name": "stdout",
     "output_type": "stream",
     "text": [
      "shuffle DB :train, b:10, 3-way, 1-shot, 1-query, resize:84\n"
     ]
    }
   ],
   "source": [
    "mini = MiniImagenet('mini-imagenet/', mode='train', n_way=3, k_shot=1, k_query=1, batchsz=10, resize=84)"
   ]
  },
  {
   "cell_type": "code",
   "execution_count": 10,
   "metadata": {},
   "outputs": [],
   "source": [
    "db = DataLoader(mini, batch_size=1, shuffle=True, num_workers=1)"
   ]
  },
  {
   "cell_type": "code",
   "execution_count": 11,
   "metadata": {},
   "outputs": [],
   "source": [
    "cnt=0\n",
    "for step, batch in enumerate(db):\n",
    "    \n",
    "    cnt += 1\n",
    "\n",
    "    support_x = batch[0]\n",
    "    support_y = batch[1]\n",
    "    query_x = batch[2]\n",
    "    query_y = batch[3]\n",
    "    \n",
    "    #print (support_y)\n",
    "    #print (query_y)\n",
    "    \n",
    "    if cnt >= 3:\n",
    "        break"
   ]
  },
  {
   "cell_type": "code",
   "execution_count": 12,
   "metadata": {},
   "outputs": [
    {
     "data": {
      "text/plain": [
       "(1, 3, 3, 84, 84)"
      ]
     },
     "execution_count": 12,
     "metadata": {},
     "output_type": "execute_result"
    }
   ],
   "source": [
    "support_x.shape"
   ]
  },
  {
   "cell_type": "code",
   "execution_count": 13,
   "metadata": {},
   "outputs": [
    {
     "data": {
      "text/plain": [
       "(1, 3)"
      ]
     },
     "execution_count": 13,
     "metadata": {},
     "output_type": "execute_result"
    }
   ],
   "source": [
    "support_y.shape"
   ]
  },
  {
   "cell_type": "code",
   "execution_count": 16,
   "metadata": {},
   "outputs": [
    {
     "data": {
      "text/plain": [
       "(3,)"
      ]
     },
     "execution_count": 16,
     "metadata": {},
     "output_type": "execute_result"
    }
   ],
   "source": [
    "support_y[0]"
   ]
  },
  {
   "cell_type": "code",
   "execution_count": 25,
   "metadata": {},
   "outputs": [
    {
     "data": {
      "text/plain": [
       "\n",
       "[[0. 2. 1.]\n",
       " [2. 0. 1.]]\n",
       "<NDArray 2x3 @cpu_shared(0)>"
      ]
     },
     "execution_count": 25,
     "metadata": {},
     "output_type": "execute_result"
    }
   ],
   "source": [
    "support_y"
   ]
  },
  {
   "cell_type": "code",
   "execution_count": null,
   "metadata": {},
   "outputs": [],
   "source": [
    " transforms.Compose([lambda x: Image.open(x).convert('RGB'),\n",
    " transforms.Resize((84, 84)),transforms.ToTensor(), transforms.Normalize((0.485, 0.456, 0.406), (0.229, 0.224, 0.225)) ])"
   ]
  },
  {
   "cell_type": "code",
   "execution_count": null,
   "metadata": {},
   "outputs": [],
   "source": [
    "transforms.Compose()"
   ]
  },
  {
   "cell_type": "code",
   "execution_count": 23,
   "metadata": {},
   "outputs": [],
   "source": [
    "x = 'mini-imagenet/images/n0208986700000207.jpg'"
   ]
  },
  {
   "cell_type": "code",
   "execution_count": 27,
   "metadata": {},
   "outputs": [],
   "source": [
    "a = Image.open(x).convert('RGB')"
   ]
  },
  {
   "cell_type": "code",
   "execution_count": 42,
   "metadata": {},
   "outputs": [
    {
     "data": {
      "text/plain": [
       "\n",
       "[[[ 68.  63.  57.]\n",
       "  [ 97.  92.  86.]\n",
       "  [108. 103.  97.]\n",
       "  ...\n",
       "  [114. 111. 102.]\n",
       "  [106. 103.  94.]\n",
       "  [149. 147. 135.]]\n",
       "\n",
       " [[ 71.  66.  60.]\n",
       "  [100.  95.  89.]\n",
       "  [130. 125. 119.]\n",
       "  ...\n",
       "  [118. 115. 106.]\n",
       "  [ 99.  96.  87.]\n",
       "  [143. 140. 131.]]\n",
       "\n",
       " [[ 78.  73.  67.]\n",
       "  [106. 101.  95.]\n",
       "  [163. 159. 150.]\n",
       "  ...\n",
       "  [ 89.  86.  77.]\n",
       "  [ 69.  66.  57.]\n",
       "  [124. 121. 112.]]\n",
       "\n",
       " ...\n",
       "\n",
       " [[144. 150. 124.]\n",
       "  [110. 114.  89.]\n",
       "  [109. 113.  88.]\n",
       "  ...\n",
       "  [119. 126. 108.]\n",
       "  [153. 160. 142.]\n",
       "  [103. 110.  92.]]\n",
       "\n",
       " [[131. 137. 111.]\n",
       "  [ 97. 103.  77.]\n",
       "  [ 89.  95.  69.]\n",
       "  ...\n",
       "  [142. 149. 133.]\n",
       "  [169. 178. 161.]\n",
       "  [118. 127. 110.]]\n",
       "\n",
       " [[120. 129. 102.]\n",
       "  [112. 118.  92.]\n",
       "  [ 74.  80.  54.]\n",
       "  ...\n",
       "  [132. 141. 124.]\n",
       "  [171. 180. 163.]\n",
       "  [132. 141. 124.]]]\n",
       "<NDArray 204x300x3 @cpu(0)>"
      ]
     },
     "execution_count": 42,
     "metadata": {},
     "output_type": "execute_result"
    }
   ],
   "source": [
    "(lambda a: nd.array(np.array(Image.open(a).convert('RGB'))))(x)"
   ]
  },
  {
   "cell_type": "code",
   "execution_count": 36,
   "metadata": {},
   "outputs": [
    {
     "data": {
      "image/png": "[encoded data removed]",
      "text/plain": [
       "<PIL.Image.Image image mode=RGB size=300x204 at 0x7FBD22EF4668>"
      ]
     },
     "execution_count": 36,
     "metadata": {},
     "output_type": "execute_result"
    }
   ],
   "source": [
    "a"
   ]
  },
  {
   "cell_type": "code",
   "execution_count": 4,
   "metadata": {},
   "outputs": [],
   "source": [
    "class CasualConv1d(nn.Block):\n",
    "    \n",
    "    def __init__(self,in_channels,out_channels, dilation=1,**kwargs):\n",
    "        super(CasualConv1d,self).__init__(**kwargs)\n",
    "        self.padding = dilation\n",
    "        \n",
    "        with self.name_scope():\n",
    "            self.casual_conv = nn.Conv1D(in_channels=in_channels,channels=out_channels,kernel_size=2,padding = self.padding, dilation = dilation)\n",
    "            \n",
    "    def forward(self,x):\n",
    "        return self.casual_conv(x)[:,:,:-self.padding]\n",
    "         "
   ]
  },
  {
   "cell_type": "code",
   "execution_count": 5,
   "metadata": {},
   "outputs": [],
   "source": [
    "class DenseBlock(nn.Block):\n",
    "    def __init__(self, in_channels, filters, dilation=1, **kwargs):\n",
    "        super(DenseBlock,self).__init__(**kwargs)\n",
    "        \n",
    "        with self.name_scope():\n",
    "            self.casual_conv1 = CasualConv1d(in_channels, filters,dilation = dilation)\n",
    "            self.casual_conv2 = CasualConv1d(in_channels, filters,dilation = dilation)\n",
    "            \n",
    "    def forward(self, x):\n",
    "        #print(x.shape)\n",
    "        tanh = F.tanh(self.casual_conv1(x))\n",
    "        sigmoid = F.sigmoid(self.casual_conv1(x))\n",
    "        out =  F.concat(x,tanh*sigmoid, dim=1)\n",
    "        #print(\"Dense success\")\n",
    "        return out   "
   ]
  },
  {
   "cell_type": "code",
   "execution_count": 6,
   "metadata": {},
   "outputs": [],
   "source": [
    "class TCBlock(nn.Block):\n",
    "    def __init__(self, in_channels,seq_len, filters, **kwargs):\n",
    "        super(TCBlock,self).__init__(**kwargs)\n",
    "        layer_count = math.ceil(math.log(seq_len)/math.log(2))\n",
    "        channel_count = in_channels\n",
    "        with self.name_scope():\n",
    "            self.blocks = nn.Sequential()\n",
    "            for layer in range(layer_count):\n",
    "                self.blocks.add(DenseBlock(channel_count, filters, dilation = 2**layer))\n",
    "                channel_count += filters\n",
    "                \n",
    "    def forward(self, x):\n",
    "        return self.blocks(x)"
   ]
  },
  {
   "cell_type": "code",
   "execution_count": 7,
   "metadata": {},
   "outputs": [],
   "source": [
    "class AttentionBlock(nn.Block):\n",
    "    def __init__(self, k_size, v_size, **kwargs):\n",
    "        super(AttentionBlock,self).__init__(**kwargs)\n",
    "        \n",
    "        with self.name_scope():\n",
    "            self.key_layer = nn.Dense(k_size,flatten=False)\n",
    "            self.query_layer = nn.Dense(k_size,flatten=False)\n",
    "            self.value_layer = nn.Dense(v_size,flatten=False)\n",
    "            self.sqrt_k = math.sqrt(k_size)\n",
    "    \n",
    "    def forward(self, x):\n",
    "        x = x.swapaxes(1,2)\n",
    "        keys = self.key_layer(x)       \n",
    "        queries = self.query_layer(x)\n",
    "        values = self.value_layer(x)\n",
    "        #print(keys.shape)\n",
    "        #print(queries.shape)\n",
    "        logits = nd.linalg_gemm2(queries,keys.swapaxes(2,1))\n",
    "        #print(logits.shape)\n",
    "        mask = np.full(shape=(logits.shape[1],logits.shape[2]),fill_value=1).astype('float')\n",
    "        mask = np.triu(mask,1)\n",
    "        mask = np.expand_dims(mask,0)\n",
    "        mask = np.repeat(mask,logits.shape[0],0)\n",
    "        #np.place(mask,mask==1,float('-inf'))\n",
    "        np.place(mask,mask==1,0.0)\n",
    "        np.place(mask,mask==0,1.0)\n",
    "        mask = nd.array(mask,ctx=mx.gpu())\n",
    "        logits =  F.elemwise_mul(logits,mask)\n",
    "        probs = F.softmax(logits / self.sqrt_k, axis=2)\n",
    "        #print(probs.shape)\n",
    "        #print(values.shape)\n",
    "        read = nd.linalg_gemm2(probs,values)\n",
    "        concat_data = F.concat(x,read,dim=2)\n",
    "        return concat_data.swapaxes(2,1)\n",
    "        #return queries,probs\n"
   ]
  },
  {
   "cell_type": "code",
   "execution_count": 8,
   "metadata": {},
   "outputs": [],
   "source": [
    "class CnnEmbedding(nn.Block):\n",
    "    \n",
    "    def __init__(self,**kwargs):\n",
    "        super(CnnEmbedding,self).__init__(**kwargs)\n",
    "        with self.name_scope():\n",
    "            self.cnn1 = nn.Conv2D(64,3)\n",
    "            self.max1 = nn.MaxPool2D(ceil_mode=True)\n",
    "            self.cnn2 = nn.Conv2D(64,3)\n",
    "            self.max2 = nn.MaxPool2D(ceil_mode=True)\n",
    "            self.fc = nn.Dense(64)\n",
    "    \n",
    "    def forward(self,x):\n",
    "        out = self.cnn1(x)\n",
    "        out = self.max1(out)\n",
    "        out = self.cnn2(out)\n",
    "        out = self.max2(out)\n",
    "        out = self.fc(out)\n",
    "        return out.expand_dims(1)"
   ]
  },
  {
   "cell_type": "code",
   "execution_count": 9,
   "metadata": {},
   "outputs": [],
   "source": [
    "def transform(data, label):\n",
    "    return mx.nd.transpose(data.astype(np.float32), (2,0,1))/255, label.astype(np.float32)\n",
    "\n",
    "train_data = gluon.data.DataLoader(\n",
    "    gluon.data.vision.FashionMNIST(train=True, transform=transform), batch_size=128, shuffle=True)\n",
    "\n",
    "validation_data = gluon.data.DataLoader(\n",
    "    gluon.data.vision.FashionMNIST(train=False, transform=transform), batch_size=128, shuffle=False)\n"
   ]
  },
  {
   "cell_type": "code",
   "execution_count": 10,
   "metadata": {},
   "outputs": [],
   "source": [
    "class SNAIL(nn.Block):\n",
    "    def __init__(self,N,K,**kwargs):\n",
    "        super(SNAIL,self).__init__(**kwargs)\n",
    "        T = N * K + 1\n",
    "        layer_count = math.ceil(math.log(T)/math.log(2))\n",
    "        with self.name_scope():\n",
    "            self.cnn_emb =  CnnEmbedding()\n",
    "            self.mod0 = AttentionBlock(64,32)\n",
    "            self.mod1 = TCBlock(1+32,T,128)\n",
    "            self.mod2 = AttentionBlock(256,128)\n",
    "            self.mod3 = TCBlock(673,T,128)\n",
    "            self.mod4 = AttentionBlock(512,256)\n",
    "            self.conv1d = nn.Conv1D(N,1)\n",
    "    \n",
    "    def forward(self,x):\n",
    "        out = self.cnn_emb(x)\n",
    "        #print(\"cnn_emb output size {}\".format(out.shape))\n",
    "        out = self.mod0(out)\n",
    "        #print(\"mod0 output size {}\".format(out.shape))\n",
    "        out = self.mod1(out)\n",
    "        #print(\"mod1 output size {}\".format(out.shape))\n",
    "        out = self.mod2(out)\n",
    "        #print(\"mod2 output size {}\".format(out.shape))\n",
    "        out = self.mod3(out)\n",
    "        #print(\"mod3 output size {}\".format(out.shape))\n",
    "        out = self.mod4(out)\n",
    "        #print(\"mod4 output size {}\".format(out.shape))\n",
    "        out = self.conv1d(out)\n",
    "        print(out.shape)\n",
    "        out = out.sum(2)\n",
    "        #print(\"output size {}\".format(out.shape))\n",
    "        return out"
   ]
  },
  {
   "cell_type": "code",
   "execution_count": 11,
   "metadata": {},
   "outputs": [],
   "source": [
    "ctx = mx.gpu()"
   ]
  },
  {
   "cell_type": "code",
   "execution_count": 12,
   "metadata": {},
   "outputs": [],
   "source": [
    "N = 10\n",
    "K = 1"
   ]
  },
  {
   "cell_type": "code",
   "execution_count": 13,
   "metadata": {},
   "outputs": [],
   "source": [
    "T = N * K + 1"
   ]
  },
  {
   "cell_type": "code",
   "execution_count": 14,
   "metadata": {},
   "outputs": [
    {
     "data": {
      "text/plain": [
       "11"
      ]
     },
     "execution_count": 14,
     "metadata": {},
     "output_type": "execute_result"
    }
   ],
   "source": [
    "T"
   ]
  },
  {
   "cell_type": "code",
   "execution_count": 15,
   "metadata": {},
   "outputs": [],
   "source": [
    "model = SNAIL(N, K)\n",
    "model.collect_params().initialize(ctx=ctx)\n",
    "loss = gluon.loss.SoftmaxCrossEntropyLoss()\n",
    "trainer = gluon.Trainer(model.collect_params(),optimizer='Adam',optimizer_params={'learning_rate':0.001})"
   ]
  },
  {
   "cell_type": "code",
   "execution_count": 16,
   "metadata": {},
   "outputs": [
    {
     "name": "stdout",
     "output_type": "stream",
     "text": [
      "(102, 10, 64)\n",
      "(26, 10, 64)\n",
      "epoch 0 train loss :2.3050057888031006 train_acc:('accuracy', 0.049019607843137254) val loss : 4.596728324890137 val_acc :('accuracy', 0.0)\n",
      "(101, 10, 64)\n",
      "(27, 10, 64)\n",
      "epoch 0 train loss :2.9832019805908203 train_acc:('accuracy', 0.07389162561576355) val loss : 5.224342346191406 val_acc :('accuracy', 0.0)\n",
      "(107, 10, 64)\n",
      "(21, 10, 64)\n",
      "epoch 0 train loss :2.884230375289917 train_acc:('accuracy', 0.08709677419354839) val loss : 5.576279163360596 val_acc :('accuracy', 0.0)\n",
      "(107, 10, 64)\n",
      "(21, 10, 64)\n",
      "epoch 0 train loss :2.719435453414917 train_acc:('accuracy', 0.09832134292565947) val loss : 5.879311561584473 val_acc :('accuracy', 0.0)\n",
      "(105, 10, 64)\n",
      "(23, 10, 64)\n",
      "epoch 0 train loss :2.6496775150299072 train_acc:('accuracy', 0.12452107279693486) val loss : 6.025237083435059 val_acc :('accuracy', 0.0)\n",
      "(98, 10, 64)\n",
      "(30, 10, 64)\n",
      "epoch 0 train loss :2.583958148956299 train_acc:('accuracy', 0.13709677419354838) val loss : 6.096416473388672 val_acc :('accuracy', 0.0)\n"
     ]
    },
    {
     "ename": "KeyboardInterrupt",
     "evalue": "",
     "output_type": "error",
     "traceback": [
      "\u001b[0;31m---------------------------------------------------------------------------\u001b[0m",
      "\u001b[0;31mKeyboardInterrupt\u001b[0m                         Traceback (most recent call last)",
      "\u001b[0;32m<ipython-input-16-fbc8d4719cc6>\u001b[0m in \u001b[0;36m<module>\u001b[0;34m()\u001b[0m\n\u001b[1;32m     11\u001b[0m \u001b[0;34m\u001b[0m\u001b[0m\n\u001b[1;32m     12\u001b[0m         \u001b[0;32mfor\u001b[0m \u001b[0midx\u001b[0m \u001b[0;32min\u001b[0m \u001b[0mrange\u001b[0m\u001b[0;34m(\u001b[0m\u001b[0mdata\u001b[0m\u001b[0;34m.\u001b[0m\u001b[0mshape\u001b[0m\u001b[0;34m[\u001b[0m\u001b[0;36m0\u001b[0m\u001b[0;34m]\u001b[0m\u001b[0;34m)\u001b[0m\u001b[0;34m:\u001b[0m\u001b[0;34m\u001b[0m\u001b[0m\n\u001b[0;32m---> 13\u001b[0;31m             \u001b[0;32mif\u001b[0m \u001b[0mlabel\u001b[0m\u001b[0;34m[\u001b[0m\u001b[0midx\u001b[0m\u001b[0;34m]\u001b[0m \u001b[0;34m==\u001b[0m \u001b[0;36m1\u001b[0m\u001b[0;34m:\u001b[0m\u001b[0;34m\u001b[0m\u001b[0m\n\u001b[0m\u001b[1;32m     14\u001b[0m                 \u001b[0mdata_k\u001b[0m \u001b[0;34m=\u001b[0m \u001b[0mnd\u001b[0m\u001b[0;34m.\u001b[0m\u001b[0mconcat\u001b[0m\u001b[0;34m(\u001b[0m\u001b[0mdata_k\u001b[0m\u001b[0;34m,\u001b[0m\u001b[0mdata\u001b[0m\u001b[0;34m[\u001b[0m\u001b[0midx\u001b[0m\u001b[0;34m]\u001b[0m\u001b[0;34m,\u001b[0m\u001b[0mdim\u001b[0m\u001b[0;34m=\u001b[0m\u001b[0;36m0\u001b[0m\u001b[0;34m)\u001b[0m\u001b[0;34m\u001b[0m\u001b[0m\n\u001b[1;32m     15\u001b[0m                 \u001b[0mlabel_k\u001b[0m \u001b[0;34m=\u001b[0m \u001b[0mnd\u001b[0m\u001b[0;34m.\u001b[0m\u001b[0mconcat\u001b[0m\u001b[0;34m(\u001b[0m\u001b[0mlabel_k\u001b[0m\u001b[0;34m,\u001b[0m\u001b[0mlabel\u001b[0m\u001b[0;34m[\u001b[0m\u001b[0midx\u001b[0m\u001b[0;34m]\u001b[0m\u001b[0;34m,\u001b[0m\u001b[0mdim\u001b[0m\u001b[0;34m=\u001b[0m\u001b[0;36m0\u001b[0m\u001b[0;34m)\u001b[0m\u001b[0;34m\u001b[0m\u001b[0m\n",
      "\u001b[0;32m/opt/venv/lib/python3.6/site-packages/mxnet/ndarray/ndarray.py\u001b[0m in \u001b[0;36m__eq__\u001b[0;34m(self, other)\u001b[0m\n\u001b[1;32m    317\u001b[0m     \u001b[0;32mdef\u001b[0m \u001b[0m__eq__\u001b[0m\u001b[0;34m(\u001b[0m\u001b[0mself\u001b[0m\u001b[0;34m,\u001b[0m \u001b[0mother\u001b[0m\u001b[0;34m)\u001b[0m\u001b[0;34m:\u001b[0m\u001b[0;34m\u001b[0m\u001b[0m\n\u001b[1;32m    318\u001b[0m         \u001b[0;34m\"\"\"x.__eq__(y) <=> x==y <=> mx.nd.equal(x, y) \"\"\"\u001b[0m\u001b[0;34m\u001b[0m\u001b[0m\n\u001b[0;32m--> 319\u001b[0;31m         \u001b[0;32mreturn\u001b[0m \u001b[0mequal\u001b[0m\u001b[0;34m(\u001b[0m\u001b[0mself\u001b[0m\u001b[0;34m,\u001b[0m \u001b[0mother\u001b[0m\u001b[0;34m)\u001b[0m\u001b[0;34m\u001b[0m\u001b[0m\n\u001b[0m\u001b[1;32m    320\u001b[0m \u001b[0;34m\u001b[0m\u001b[0m\n\u001b[1;32m    321\u001b[0m     \u001b[0;32mdef\u001b[0m \u001b[0m__hash__\u001b[0m\u001b[0;34m(\u001b[0m\u001b[0mself\u001b[0m\u001b[0;34m)\u001b[0m\u001b[0;34m:\u001b[0m\u001b[0;34m\u001b[0m\u001b[0m\n",
      "\u001b[0;32m/opt/venv/lib/python3.6/site-packages/mxnet/ndarray/ndarray.py\u001b[0m in \u001b[0;36mequal\u001b[0;34m(lhs, rhs)\u001b[0m\n\u001b[1;32m   3012\u001b[0m         \u001b[0;32mlambda\u001b[0m \u001b[0mx\u001b[0m\u001b[0;34m,\u001b[0m \u001b[0my\u001b[0m\u001b[0;34m:\u001b[0m \u001b[0;36m1\u001b[0m \u001b[0;32mif\u001b[0m \u001b[0mx\u001b[0m \u001b[0;34m==\u001b[0m \u001b[0my\u001b[0m \u001b[0;32melse\u001b[0m \u001b[0;36m0\u001b[0m\u001b[0;34m,\u001b[0m\u001b[0;34m\u001b[0m\u001b[0m\n\u001b[1;32m   3013\u001b[0m         \u001b[0m_internal\u001b[0m\u001b[0;34m.\u001b[0m\u001b[0m_equal_scalar\u001b[0m\u001b[0;34m,\u001b[0m\u001b[0;34m\u001b[0m\u001b[0m\n\u001b[0;32m-> 3014\u001b[0;31m         None)\n\u001b[0m\u001b[1;32m   3015\u001b[0m     \u001b[0;31m# pylint: enable= no-member, protected-access\u001b[0m\u001b[0;34m\u001b[0m\u001b[0;34m\u001b[0m\u001b[0m\n\u001b[1;32m   3016\u001b[0m \u001b[0;34m\u001b[0m\u001b[0m\n",
      "\u001b[0;32m/opt/venv/lib/python3.6/site-packages/mxnet/ndarray/ndarray.py\u001b[0m in \u001b[0;36m_ufunc_helper\u001b[0;34m(lhs, rhs, fn_array, fn_scalar, lfn_scalar, rfn_scalar)\u001b[0m\n\u001b[1;32m   2469\u001b[0m                 \u001b[0;32mreturn\u001b[0m \u001b[0mrfn_scalar\u001b[0m\u001b[0;34m(\u001b[0m\u001b[0mrhs\u001b[0m\u001b[0;34m,\u001b[0m \u001b[0mfloat\u001b[0m\u001b[0;34m(\u001b[0m\u001b[0mlhs\u001b[0m\u001b[0;34m)\u001b[0m\u001b[0;34m)\u001b[0m\u001b[0;34m\u001b[0m\u001b[0m\n\u001b[1;32m   2470\u001b[0m     \u001b[0;32melif\u001b[0m \u001b[0misinstance\u001b[0m\u001b[0;34m(\u001b[0m\u001b[0mrhs\u001b[0m\u001b[0;34m,\u001b[0m \u001b[0mnumeric_types\u001b[0m\u001b[0;34m)\u001b[0m\u001b[0;34m:\u001b[0m\u001b[0;34m\u001b[0m\u001b[0m\n\u001b[0;32m-> 2471\u001b[0;31m         \u001b[0;32mreturn\u001b[0m \u001b[0mlfn_scalar\u001b[0m\u001b[0;34m(\u001b[0m\u001b[0mlhs\u001b[0m\u001b[0;34m,\u001b[0m \u001b[0mfloat\u001b[0m\u001b[0;34m(\u001b[0m\u001b[0mrhs\u001b[0m\u001b[0;34m)\u001b[0m\u001b[0;34m)\u001b[0m\u001b[0;34m\u001b[0m\u001b[0m\n\u001b[0m\u001b[1;32m   2472\u001b[0m     \u001b[0;32melif\u001b[0m \u001b[0misinstance\u001b[0m\u001b[0;34m(\u001b[0m\u001b[0mrhs\u001b[0m\u001b[0;34m,\u001b[0m \u001b[0mNDArray\u001b[0m\u001b[0;34m)\u001b[0m\u001b[0;34m:\u001b[0m\u001b[0;34m\u001b[0m\u001b[0m\n\u001b[1;32m   2473\u001b[0m         \u001b[0;32mreturn\u001b[0m \u001b[0mfn_array\u001b[0m\u001b[0;34m(\u001b[0m\u001b[0mlhs\u001b[0m\u001b[0;34m,\u001b[0m \u001b[0mrhs\u001b[0m\u001b[0;34m)\u001b[0m\u001b[0;34m\u001b[0m\u001b[0m\n",
      "\u001b[0;32m/opt/venv/lib/python3.6/site-packages/mxnet/ndarray/register.py\u001b[0m in \u001b[0;36m_equal_scalar\u001b[0;34m(data, scalar, out, name, **kwargs)\u001b[0m\n",
      "\u001b[0;32m/opt/venv/lib/python3.6/site-packages/mxnet/_ctypes/ndarray.py\u001b[0m in \u001b[0;36m_imperative_invoke\u001b[0;34m(handle, ndargs, keys, vals, out)\u001b[0m\n\u001b[1;32m     95\u001b[0m         \u001b[0;32mreturn\u001b[0m \u001b[0moriginal_output\u001b[0m\u001b[0;34m\u001b[0m\u001b[0m\n\u001b[1;32m     96\u001b[0m     \u001b[0;32mif\u001b[0m \u001b[0mnum_output\u001b[0m\u001b[0;34m.\u001b[0m\u001b[0mvalue\u001b[0m \u001b[0;34m==\u001b[0m \u001b[0;36m1\u001b[0m\u001b[0;34m:\u001b[0m\u001b[0;34m\u001b[0m\u001b[0m\n\u001b[0;32m---> 97\u001b[0;31m         return _ndarray_cls(ctypes.cast(output_vars[0], NDArrayHandle),\n\u001b[0m\u001b[1;32m     98\u001b[0m                             stype=out_stypes[0])\n\u001b[1;32m     99\u001b[0m     \u001b[0;32melse\u001b[0m\u001b[0;34m:\u001b[0m\u001b[0;34m\u001b[0m\u001b[0m\n",
      "\u001b[0;31mKeyboardInterrupt\u001b[0m: "
     ]
    }
   ],
   "source": [
    "for epoch in range(20):\n",
    "    loss_mean = list()\n",
    "    va_loss_mean = list()\n",
    "    train_acc = mx.metric.Accuracy()\n",
    "    va_acc = mx.metric.Accuracy()\n",
    "    for (data, label) in train_data:\n",
    "        data_n = nd.empty((1,28,28))\n",
    "        label_n = nd.empty(1)\n",
    "        data_k = nd.empty((1,28,28))\n",
    "        label_k = nd.empty(1)\n",
    "        \n",
    "        for idx in range(data.shape[0]):\n",
    "            if label[idx] == 1:\n",
    "                data_k = nd.concat(data_k,data[idx],dim=0)\n",
    "                label_k = nd.concat(label_k,label[idx],dim=0)\n",
    "            elif label[idx] == 2:\n",
    "                data_k = nd.concat(data_k,data[idx],dim=0)\n",
    "                label_k = nd.concat(label_k,label[idx],dim=0)\n",
    "            else :\n",
    "                data_n = nd.concat(data_n,data[idx],dim=0)\n",
    "                label_n = nd.concat(label_n,label[idx],dim=0)\n",
    "                \n",
    "        data_n = data_n[1:]\n",
    "        data_n = data_n.expand_dims(1)\n",
    "        label_n = label_n[1:]\n",
    "        data_k = data_k[1:]\n",
    "        data_k = data_k.expand_dims(1)\n",
    "        label_k = label_k[1:]\n",
    "        \n",
    "        with autograd.record():\n",
    "            data_n = data_n.copyto(ctx)\n",
    "            label_n = label_n.copyto(ctx)\n",
    "            output = model(data_n)\n",
    "            loss_val = loss(output,label_n)\n",
    "        loss_val.backward()\n",
    "        trainer.step(data_n.shape[0],ignore_stale_grad=True) \n",
    "        loss_mean.append(nd.mean(loss_val).asscalar())\n",
    "        train_acc.update(preds=nd.argmax(output,1),labels=label_n)\n",
    "        \n",
    "        data_k = data_k.copyto(ctx)\n",
    "        label_k = label_k.copyto(ctx)\n",
    "        output_k = model(data_k)\n",
    "        k_loss_val = loss(output_k,label_k)\n",
    "        va_loss_mean.append(nd.mean(k_loss_val).asscalar())\n",
    "        va_acc.update(preds=nd.argmax(output_k,1),labels=label_k)\n",
    "        \n",
    "                \n",
    "        print(\"epoch {e} train loss :{l} train_acc:{ta} val loss : {vl} val_acc :{va}\".format(e=epoch,l=np.mean(loss_mean),vl=np.mean(va_loss_mean),ta=train_acc.get(),va=va_acc.get()))"
   ]
  },
  {
   "cell_type": "code",
   "execution_count": 39,
   "metadata": {},
   "outputs": [],
   "source": [
    "data_k = data_k.copyto(ctx)\n",
    "label_k = label_k.copyto(ctx)\n",
    "output_k = model(data_k)"
   ]
  },
  {
   "cell_type": "code",
   "execution_count": 40,
   "metadata": {},
   "outputs": [
    {
     "data": {
      "text/plain": [
       "\n",
       "[2. 1. 2. 1. 2. 2. 2. 2. 1. 2. 1. 2.]\n",
       "<NDArray 12 @gpu(0)>"
      ]
     },
     "execution_count": 40,
     "metadata": {},
     "output_type": "execute_result"
    }
   ],
   "source": [
    "label_k"
   ]
  },
  {
   "cell_type": "code",
   "execution_count": 41,
   "metadata": {},
   "outputs": [
    {
     "data": {
      "text/plain": [
       "\n",
       "[ 3.0953608 -4.5401487 -4.250703   3.472124   3.6438777 -0.361097\n",
       "  3.761088  -7.164254   1.7979934 -4.4477024]\n",
       "<NDArray 10 @gpu(0)>"
      ]
     },
     "execution_count": 41,
     "metadata": {},
     "output_type": "execute_result"
    }
   ],
   "source": [
    "output_k[0]"
   ]
  },
  {
   "cell_type": "code",
   "execution_count": 42,
   "metadata": {},
   "outputs": [
    {
     "data": {
      "text/plain": [
       "\n",
       "[1.55264229e-01 7.49914252e-05 1.00165074e-04 2.26306826e-01\n",
       " 2.68713385e-01 4.89723496e-03 3.02129447e-01 5.43722172e-06\n",
       " 4.24259864e-02 8.22547372e-05]\n",
       "<NDArray 10 @gpu(0)>"
      ]
     },
     "execution_count": 42,
     "metadata": {},
     "output_type": "execute_result"
    }
   ],
   "source": [
    "nd.softmax(output_k[0])"
   ]
  },
  {
   "cell_type": "code",
   "execution_count": 29,
   "metadata": {},
   "outputs": [
    {
     "data": {
      "text/plain": [
       "\n",
       "[ 5.455228   -4.2829847  -3.9447446   2.2901065   6.0782547  -0.58163524\n",
       "  8.213447   -8.774708   -0.15494508 -9.043081  ]\n",
       "<NDArray 10 @gpu(0)>"
      ]
     },
     "execution_count": 29,
     "metadata": {},
     "output_type": "execute_result"
    }
   ],
   "source": [
    "output_k[0]"
   ]
  },
  {
   "cell_type": "code",
   "execution_count": 32,
   "metadata": {},
   "outputs": [
    {
     "data": {
      "text/plain": [
       "\n",
       "[1.]\n",
       "<NDArray 1 @cpu(0)>"
      ]
     },
     "execution_count": 32,
     "metadata": {},
     "output_type": "execute_result"
    }
   ],
   "source": [
    "label_k[0]"
   ]
  },
  {
   "cell_type": "code",
   "execution_count": 25,
   "metadata": {},
   "outputs": [
    {
     "data": {
      "text/plain": [
       "\n",
       "[6.]\n",
       "<NDArray 1 @cpu(0)>"
      ]
     },
     "execution_count": 25,
     "metadata": {},
     "output_type": "execute_result"
    }
   ],
   "source": [
    "label[0]"
   ]
  },
  {
   "cell_type": "code",
   "execution_count": 19,
   "metadata": {},
   "outputs": [
    {
     "data": {
      "text/plain": [
       "\n",
       "[2. 1. 1. 2. 1. 2. 2. 2. 1. 1. 2. 1. 1. 1. 1. 1. 2. 1. 1. 2. 2. 1. 1.]\n",
       "<NDArray 23 @cpu(0)>"
      ]
     },
     "execution_count": 19,
     "metadata": {},
     "output_type": "execute_result"
    }
   ],
   "source": [
    "label_k"
   ]
  },
  {
   "cell_type": "code",
   "execution_count": 21,
   "metadata": {},
   "outputs": [
    {
     "data": {
      "text/plain": [
       "\n",
       "[ 1.0310023  -3.9049335  -3.6464915   0.72873807 -0.02831003  1.1801752\n",
       "  0.6133418   0.7079958   1.2460763   1.5796878 ]\n",
       "<NDArray 10 @gpu(0)>"
      ]
     },
     "execution_count": 21,
     "metadata": {},
     "output_type": "execute_result"
    }
   ],
   "source": [
    "output[0]"
   ]
  },
  {
   "cell_type": "code",
   "execution_count": 20,
   "metadata": {},
   "outputs": [
    {
     "data": {
      "text/plain": [
       "\n",
       "[0.]\n",
       "<NDArray 1 @gpu(0)>"
      ]
     },
     "execution_count": 20,
     "metadata": {},
     "output_type": "execute_result"
    }
   ],
   "source": [
    "output_k[0].argmax(0)"
   ]
  },
  {
   "cell_type": "code",
   "execution_count": 35,
   "metadata": {},
   "outputs": [
    {
     "data": {
      "text/plain": [
       "\n",
       "[1. 2. 2. 2. 1. 2. 1. 2. 1. 2. 2. 2. 2. 1. 1. 2. 2. 1. 2. 1. 2. 2. 1. 1.\n",
       " 1. 2. 2. 2. 1. 1.]\n",
       "<NDArray 30 @cpu(0)>"
      ]
     },
     "execution_count": 35,
     "metadata": {},
     "output_type": "execute_result"
    }
   ],
   "source": [
    "label_k"
   ]
  },
  {
   "cell_type": "code",
   "execution_count": 33,
   "metadata": {},
   "outputs": [
    {
     "ename": "MXNetError",
     "evalue": "[16:52:07] src/imperative/./imperative_utils.h:55: Check failed: inputs[i]->ctx().dev_mask() == ctx.dev_mask() (1 vs. 2) Operator pick require all inputs live on the same context. But the first argument is on gpu(0) while the 2-th argument is on cpu(0)\n\nStack trace returned 10 entries:\n[bt] (0) /opt/venv/lib/python3.6/site-packages/mxnet/libmxnet.so(+0x31a9ea) [0x7ff5642419ea]\n[bt] (1) /opt/venv/lib/python3.6/site-packages/mxnet/libmxnet.so(+0x31b011) [0x7ff564242011]\n[bt] (2) /opt/venv/lib/python3.6/site-packages/mxnet/libmxnet.so(+0x24fb8fd) [0x7ff5664228fd]\n[bt] (3) /opt/venv/lib/python3.6/site-packages/mxnet/libmxnet.so(+0x2502539) [0x7ff566429539]\n[bt] (4) /opt/venv/lib/python3.6/site-packages/mxnet/libmxnet.so(+0x2433fd9) [0x7ff56635afd9]\n[bt] (5) /opt/venv/lib/python3.6/site-packages/mxnet/libmxnet.so(MXImperativeInvokeEx+0x6f) [0x7ff56635b5cf]\n[bt] (6) /opt/miniconda/lib/libffi.so.6(ffi_call_unix64+0x4c) [0x7ff633ca5ec0]\n[bt] (7) /opt/miniconda/lib/libffi.so.6(ffi_call+0x22d) [0x7ff633ca587d]\n[bt] (8) /usr/lib/python3.6/lib-dynload/_ctypes.cpython-36m-x86_64-linux-gnu.so(_ctypes_callproc+0x2fd) [0x7ff633eba19d]\n[bt] (9) /usr/lib/python3.6/lib-dynload/_ctypes.cpython-36m-x86_64-linux-gnu.so(+0xfdf4) [0x7ff633eb8df4]\n\n",
     "output_type": "error",
     "traceback": [
      "\u001b[0;31m---------------------------------------------------------------------------\u001b[0m",
      "\u001b[0;31mMXNetError\u001b[0m                                Traceback (most recent call last)",
      "\u001b[0;32m<ipython-input-33-49ee2cb62295>\u001b[0m in \u001b[0;36m<module>\u001b[0;34m()\u001b[0m\n\u001b[0;32m----> 1\u001b[0;31m \u001b[0mloss\u001b[0m\u001b[0;34m(\u001b[0m\u001b[0moutput_k\u001b[0m\u001b[0;34m,\u001b[0m\u001b[0mlabel_k\u001b[0m\u001b[0;34m)\u001b[0m\u001b[0;34m\u001b[0m\u001b[0m\n\u001b[0m",
      "\u001b[0;32m/opt/venv/lib/python3.6/site-packages/mxnet/gluon/block.py\u001b[0m in \u001b[0;36m__call__\u001b[0;34m(self, *args)\u001b[0m\n\u001b[1;32m    411\u001b[0m     \u001b[0;32mdef\u001b[0m \u001b[0m__call__\u001b[0m\u001b[0;34m(\u001b[0m\u001b[0mself\u001b[0m\u001b[0;34m,\u001b[0m \u001b[0;34m*\u001b[0m\u001b[0margs\u001b[0m\u001b[0;34m)\u001b[0m\u001b[0;34m:\u001b[0m\u001b[0;34m\u001b[0m\u001b[0m\n\u001b[1;32m    412\u001b[0m         \u001b[0;34m\"\"\"Calls forward. Only accepts positional arguments.\"\"\"\u001b[0m\u001b[0;34m\u001b[0m\u001b[0m\n\u001b[0;32m--> 413\u001b[0;31m         \u001b[0;32mreturn\u001b[0m \u001b[0mself\u001b[0m\u001b[0;34m.\u001b[0m\u001b[0mforward\u001b[0m\u001b[0;34m(\u001b[0m\u001b[0;34m*\u001b[0m\u001b[0margs\u001b[0m\u001b[0;34m)\u001b[0m\u001b[0;34m\u001b[0m\u001b[0m\n\u001b[0m\u001b[1;32m    414\u001b[0m \u001b[0;34m\u001b[0m\u001b[0m\n\u001b[1;32m    415\u001b[0m     \u001b[0;32mdef\u001b[0m \u001b[0mforward\u001b[0m\u001b[0;34m(\u001b[0m\u001b[0mself\u001b[0m\u001b[0;34m,\u001b[0m \u001b[0;34m*\u001b[0m\u001b[0margs\u001b[0m\u001b[0;34m)\u001b[0m\u001b[0;34m:\u001b[0m\u001b[0;34m\u001b[0m\u001b[0m\n",
      "\u001b[0;32m/opt/venv/lib/python3.6/site-packages/mxnet/gluon/block.py\u001b[0m in \u001b[0;36mforward\u001b[0;34m(self, x, *args)\u001b[0m\n\u001b[1;32m    627\u001b[0m                     \u001b[0;32mreturn\u001b[0m \u001b[0mself\u001b[0m\u001b[0;34m.\u001b[0m\u001b[0m_call_cached_op\u001b[0m\u001b[0;34m(\u001b[0m\u001b[0mx\u001b[0m\u001b[0;34m,\u001b[0m \u001b[0;34m*\u001b[0m\u001b[0margs\u001b[0m\u001b[0;34m)\u001b[0m\u001b[0;34m\u001b[0m\u001b[0m\n\u001b[1;32m    628\u001b[0m                 \u001b[0mparams\u001b[0m \u001b[0;34m=\u001b[0m \u001b[0;34m{\u001b[0m\u001b[0mi\u001b[0m\u001b[0;34m:\u001b[0m \u001b[0mj\u001b[0m\u001b[0;34m.\u001b[0m\u001b[0mdata\u001b[0m\u001b[0;34m(\u001b[0m\u001b[0mctx\u001b[0m\u001b[0;34m)\u001b[0m \u001b[0;32mfor\u001b[0m \u001b[0mi\u001b[0m\u001b[0;34m,\u001b[0m \u001b[0mj\u001b[0m \u001b[0;32min\u001b[0m \u001b[0mself\u001b[0m\u001b[0;34m.\u001b[0m\u001b[0m_reg_params\u001b[0m\u001b[0;34m.\u001b[0m\u001b[0mitems\u001b[0m\u001b[0;34m(\u001b[0m\u001b[0;34m)\u001b[0m\u001b[0;34m}\u001b[0m\u001b[0;34m\u001b[0m\u001b[0m\n\u001b[0;32m--> 629\u001b[0;31m                 \u001b[0;32mreturn\u001b[0m \u001b[0mself\u001b[0m\u001b[0;34m.\u001b[0m\u001b[0mhybrid_forward\u001b[0m\u001b[0;34m(\u001b[0m\u001b[0mndarray\u001b[0m\u001b[0;34m,\u001b[0m \u001b[0mx\u001b[0m\u001b[0;34m,\u001b[0m \u001b[0;34m*\u001b[0m\u001b[0margs\u001b[0m\u001b[0;34m,\u001b[0m \u001b[0;34m**\u001b[0m\u001b[0mparams\u001b[0m\u001b[0;34m)\u001b[0m\u001b[0;34m\u001b[0m\u001b[0m\n\u001b[0m\u001b[1;32m    630\u001b[0m \u001b[0;34m\u001b[0m\u001b[0m\n\u001b[1;32m    631\u001b[0m         \u001b[0;32massert\u001b[0m \u001b[0misinstance\u001b[0m\u001b[0;34m(\u001b[0m\u001b[0mx\u001b[0m\u001b[0;34m,\u001b[0m \u001b[0mSymbol\u001b[0m\u001b[0;34m)\u001b[0m\u001b[0;34m,\u001b[0m\u001b[0;31m \u001b[0m\u001b[0;31m\\\u001b[0m\u001b[0;34m\u001b[0m\u001b[0m\n",
      "\u001b[0;32m/opt/venv/lib/python3.6/site-packages/mxnet/gluon/loss.py\u001b[0m in \u001b[0;36mhybrid_forward\u001b[0;34m(self, F, pred, label, sample_weight)\u001b[0m\n\u001b[1;32m    312\u001b[0m             \u001b[0mpred\u001b[0m \u001b[0;34m=\u001b[0m \u001b[0mF\u001b[0m\u001b[0;34m.\u001b[0m\u001b[0mlog_softmax\u001b[0m\u001b[0;34m(\u001b[0m\u001b[0mpred\u001b[0m\u001b[0;34m,\u001b[0m \u001b[0mself\u001b[0m\u001b[0;34m.\u001b[0m\u001b[0m_axis\u001b[0m\u001b[0;34m)\u001b[0m\u001b[0;34m\u001b[0m\u001b[0m\n\u001b[1;32m    313\u001b[0m         \u001b[0;32mif\u001b[0m \u001b[0mself\u001b[0m\u001b[0;34m.\u001b[0m\u001b[0m_sparse_label\u001b[0m\u001b[0;34m:\u001b[0m\u001b[0;34m\u001b[0m\u001b[0m\n\u001b[0;32m--> 314\u001b[0;31m             \u001b[0mloss\u001b[0m \u001b[0;34m=\u001b[0m \u001b[0;34m-\u001b[0m\u001b[0mF\u001b[0m\u001b[0;34m.\u001b[0m\u001b[0mpick\u001b[0m\u001b[0;34m(\u001b[0m\u001b[0mpred\u001b[0m\u001b[0;34m,\u001b[0m \u001b[0mlabel\u001b[0m\u001b[0;34m,\u001b[0m \u001b[0maxis\u001b[0m\u001b[0;34m=\u001b[0m\u001b[0mself\u001b[0m\u001b[0;34m.\u001b[0m\u001b[0m_axis\u001b[0m\u001b[0;34m,\u001b[0m \u001b[0mkeepdims\u001b[0m\u001b[0;34m=\u001b[0m\u001b[0;32mTrue\u001b[0m\u001b[0;34m)\u001b[0m\u001b[0;34m\u001b[0m\u001b[0m\n\u001b[0m\u001b[1;32m    315\u001b[0m         \u001b[0;32melse\u001b[0m\u001b[0;34m:\u001b[0m\u001b[0;34m\u001b[0m\u001b[0m\n\u001b[1;32m    316\u001b[0m             \u001b[0mlabel\u001b[0m \u001b[0;34m=\u001b[0m \u001b[0m_reshape_like\u001b[0m\u001b[0;34m(\u001b[0m\u001b[0mF\u001b[0m\u001b[0;34m,\u001b[0m \u001b[0mlabel\u001b[0m\u001b[0;34m,\u001b[0m \u001b[0mpred\u001b[0m\u001b[0;34m)\u001b[0m\u001b[0;34m\u001b[0m\u001b[0m\n",
      "\u001b[0;32m/opt/venv/lib/python3.6/site-packages/mxnet/ndarray/register.py\u001b[0m in \u001b[0;36mpick\u001b[0;34m(data, index, axis, keepdims, out, name, **kwargs)\u001b[0m\n",
      "\u001b[0;32m/opt/venv/lib/python3.6/site-packages/mxnet/_ctypes/ndarray.py\u001b[0m in \u001b[0;36m_imperative_invoke\u001b[0;34m(handle, ndargs, keys, vals, out)\u001b[0m\n\u001b[1;32m     90\u001b[0m         \u001b[0mc_str_array\u001b[0m\u001b[0;34m(\u001b[0m\u001b[0mkeys\u001b[0m\u001b[0;34m)\u001b[0m\u001b[0;34m,\u001b[0m\u001b[0;34m\u001b[0m\u001b[0m\n\u001b[1;32m     91\u001b[0m         \u001b[0mc_str_array\u001b[0m\u001b[0;34m(\u001b[0m\u001b[0;34m[\u001b[0m\u001b[0mstr\u001b[0m\u001b[0;34m(\u001b[0m\u001b[0ms\u001b[0m\u001b[0;34m)\u001b[0m \u001b[0;32mfor\u001b[0m \u001b[0ms\u001b[0m \u001b[0;32min\u001b[0m \u001b[0mvals\u001b[0m\u001b[0;34m]\u001b[0m\u001b[0;34m)\u001b[0m\u001b[0;34m,\u001b[0m\u001b[0;34m\u001b[0m\u001b[0m\n\u001b[0;32m---> 92\u001b[0;31m         ctypes.byref(out_stypes)))\n\u001b[0m\u001b[1;32m     93\u001b[0m \u001b[0;34m\u001b[0m\u001b[0m\n\u001b[1;32m     94\u001b[0m     \u001b[0;32mif\u001b[0m \u001b[0moriginal_output\u001b[0m \u001b[0;32mis\u001b[0m \u001b[0;32mnot\u001b[0m \u001b[0;32mNone\u001b[0m\u001b[0;34m:\u001b[0m\u001b[0;34m\u001b[0m\u001b[0m\n",
      "\u001b[0;32m/opt/venv/lib/python3.6/site-packages/mxnet/base.py\u001b[0m in \u001b[0;36mcheck_call\u001b[0;34m(ret)\u001b[0m\n\u001b[1;32m    147\u001b[0m     \"\"\"\n\u001b[1;32m    148\u001b[0m     \u001b[0;32mif\u001b[0m \u001b[0mret\u001b[0m \u001b[0;34m!=\u001b[0m \u001b[0;36m0\u001b[0m\u001b[0;34m:\u001b[0m\u001b[0;34m\u001b[0m\u001b[0m\n\u001b[0;32m--> 149\u001b[0;31m         \u001b[0;32mraise\u001b[0m \u001b[0mMXNetError\u001b[0m\u001b[0;34m(\u001b[0m\u001b[0mpy_str\u001b[0m\u001b[0;34m(\u001b[0m\u001b[0m_LIB\u001b[0m\u001b[0;34m.\u001b[0m\u001b[0mMXGetLastError\u001b[0m\u001b[0;34m(\u001b[0m\u001b[0;34m)\u001b[0m\u001b[0;34m)\u001b[0m\u001b[0;34m)\u001b[0m\u001b[0;34m\u001b[0m\u001b[0m\n\u001b[0m\u001b[1;32m    150\u001b[0m \u001b[0;34m\u001b[0m\u001b[0m\n\u001b[1;32m    151\u001b[0m \u001b[0;34m\u001b[0m\u001b[0m\n",
      "\u001b[0;31mMXNetError\u001b[0m: [16:52:07] src/imperative/./imperative_utils.h:55: Check failed: inputs[i]->ctx().dev_mask() == ctx.dev_mask() (1 vs. 2) Operator pick require all inputs live on the same context. But the first argument is on gpu(0) while the 2-th argument is on cpu(0)\n\nStack trace returned 10 entries:\n[bt] (0) /opt/venv/lib/python3.6/site-packages/mxnet/libmxnet.so(+0x31a9ea) [0x7ff5642419ea]\n[bt] (1) /opt/venv/lib/python3.6/site-packages/mxnet/libmxnet.so(+0x31b011) [0x7ff564242011]\n[bt] (2) /opt/venv/lib/python3.6/site-packages/mxnet/libmxnet.so(+0x24fb8fd) [0x7ff5664228fd]\n[bt] (3) /opt/venv/lib/python3.6/site-packages/mxnet/libmxnet.so(+0x2502539) [0x7ff566429539]\n[bt] (4) /opt/venv/lib/python3.6/site-packages/mxnet/libmxnet.so(+0x2433fd9) [0x7ff56635afd9]\n[bt] (5) /opt/venv/lib/python3.6/site-packages/mxnet/libmxnet.so(MXImperativeInvokeEx+0x6f) [0x7ff56635b5cf]\n[bt] (6) /opt/miniconda/lib/libffi.so.6(ffi_call_unix64+0x4c) [0x7ff633ca5ec0]\n[bt] (7) /opt/miniconda/lib/libffi.so.6(ffi_call+0x22d) [0x7ff633ca587d]\n[bt] (8) /usr/lib/python3.6/lib-dynload/_ctypes.cpython-36m-x86_64-linux-gnu.so(_ctypes_callproc+0x2fd) [0x7ff633eba19d]\n[bt] (9) /usr/lib/python3.6/lib-dynload/_ctypes.cpython-36m-x86_64-linux-gnu.so(+0xfdf4) [0x7ff633eb8df4]\n\n"
     ]
    }
   ],
   "source": [
    "loss(output_k,label_k)"
   ]
  },
  {
   "cell_type": "code",
   "execution_count": 18,
   "metadata": {},
   "outputs": [
    {
     "ename": "KeyboardInterrupt",
     "evalue": "",
     "output_type": "error",
     "traceback": [
      "\u001b[0;31m---------------------------------------------------------------------------\u001b[0m",
      "\u001b[0;31mKeyboardInterrupt\u001b[0m                         Traceback (most recent call last)",
      "\u001b[0;32m<ipython-input-18-67b83d6d3340>\u001b[0m in \u001b[0;36m<module>\u001b[0;34m()\u001b[0m\n\u001b[1;32m     12\u001b[0m         \u001b[0mloss_val\u001b[0m\u001b[0;34m.\u001b[0m\u001b[0mbackward\u001b[0m\u001b[0;34m(\u001b[0m\u001b[0;34m)\u001b[0m\u001b[0;34m\u001b[0m\u001b[0m\n\u001b[1;32m     13\u001b[0m         \u001b[0mtrainer\u001b[0m\u001b[0;34m.\u001b[0m\u001b[0mstep\u001b[0m\u001b[0;34m(\u001b[0m\u001b[0mdata\u001b[0m\u001b[0;34m.\u001b[0m\u001b[0mshape\u001b[0m\u001b[0;34m[\u001b[0m\u001b[0;36m0\u001b[0m\u001b[0;34m]\u001b[0m\u001b[0;34m,\u001b[0m\u001b[0mignore_stale_grad\u001b[0m\u001b[0;34m=\u001b[0m\u001b[0;32mTrue\u001b[0m\u001b[0;34m)\u001b[0m\u001b[0;34m\u001b[0m\u001b[0m\n\u001b[0;32m---> 14\u001b[0;31m         \u001b[0mloss_mean\u001b[0m\u001b[0;34m.\u001b[0m\u001b[0mappend\u001b[0m\u001b[0;34m(\u001b[0m\u001b[0mnd\u001b[0m\u001b[0;34m.\u001b[0m\u001b[0mmean\u001b[0m\u001b[0;34m(\u001b[0m\u001b[0mloss_val\u001b[0m\u001b[0;34m)\u001b[0m\u001b[0;34m.\u001b[0m\u001b[0masscalar\u001b[0m\u001b[0;34m(\u001b[0m\u001b[0;34m)\u001b[0m\u001b[0;34m)\u001b[0m\u001b[0;34m\u001b[0m\u001b[0m\n\u001b[0m\u001b[1;32m     15\u001b[0m         \u001b[0mtrain_acc\u001b[0m\u001b[0;34m.\u001b[0m\u001b[0mupdate\u001b[0m\u001b[0;34m(\u001b[0m\u001b[0mpreds\u001b[0m\u001b[0;34m=\u001b[0m\u001b[0mnd\u001b[0m\u001b[0;34m.\u001b[0m\u001b[0margmax\u001b[0m\u001b[0;34m(\u001b[0m\u001b[0moutput\u001b[0m\u001b[0;34m,\u001b[0m\u001b[0;36m1\u001b[0m\u001b[0;34m)\u001b[0m\u001b[0;34m,\u001b[0m\u001b[0mlabels\u001b[0m\u001b[0;34m=\u001b[0m\u001b[0mlabel\u001b[0m\u001b[0;34m)\u001b[0m\u001b[0;34m\u001b[0m\u001b[0m\n\u001b[1;32m     16\u001b[0m \u001b[0;34m\u001b[0m\u001b[0m\n",
      "\u001b[0;32m/opt/venv/lib/python3.6/site-packages/mxnet/ndarray/ndarray.py\u001b[0m in \u001b[0;36masscalar\u001b[0;34m(self)\u001b[0m\n\u001b[1;32m   1892\u001b[0m         \u001b[0;32mif\u001b[0m \u001b[0mself\u001b[0m\u001b[0;34m.\u001b[0m\u001b[0mshape\u001b[0m \u001b[0;34m!=\u001b[0m \u001b[0;34m(\u001b[0m\u001b[0;36m1\u001b[0m\u001b[0;34m,\u001b[0m\u001b[0;34m)\u001b[0m\u001b[0;34m:\u001b[0m\u001b[0;34m\u001b[0m\u001b[0m\n\u001b[1;32m   1893\u001b[0m             \u001b[0;32mraise\u001b[0m \u001b[0mValueError\u001b[0m\u001b[0;34m(\u001b[0m\u001b[0;34m\"The current array is not a scalar\"\u001b[0m\u001b[0;34m)\u001b[0m\u001b[0;34m\u001b[0m\u001b[0m\n\u001b[0;32m-> 1894\u001b[0;31m         \u001b[0;32mreturn\u001b[0m \u001b[0mself\u001b[0m\u001b[0;34m.\u001b[0m\u001b[0masnumpy\u001b[0m\u001b[0;34m(\u001b[0m\u001b[0;34m)\u001b[0m\u001b[0;34m[\u001b[0m\u001b[0;36m0\u001b[0m\u001b[0;34m]\u001b[0m\u001b[0;34m\u001b[0m\u001b[0m\n\u001b[0m\u001b[1;32m   1895\u001b[0m \u001b[0;34m\u001b[0m\u001b[0m\n\u001b[1;32m   1896\u001b[0m     \u001b[0;32mdef\u001b[0m \u001b[0mastype\u001b[0m\u001b[0;34m(\u001b[0m\u001b[0mself\u001b[0m\u001b[0;34m,\u001b[0m \u001b[0mdtype\u001b[0m\u001b[0;34m,\u001b[0m \u001b[0mcopy\u001b[0m\u001b[0;34m=\u001b[0m\u001b[0;32mTrue\u001b[0m\u001b[0;34m)\u001b[0m\u001b[0;34m:\u001b[0m\u001b[0;34m\u001b[0m\u001b[0m\n",
      "\u001b[0;32m/opt/venv/lib/python3.6/site-packages/mxnet/ndarray/ndarray.py\u001b[0m in \u001b[0;36masnumpy\u001b[0;34m(self)\u001b[0m\n\u001b[1;32m   1874\u001b[0m             \u001b[0mself\u001b[0m\u001b[0;34m.\u001b[0m\u001b[0mhandle\u001b[0m\u001b[0;34m,\u001b[0m\u001b[0;34m\u001b[0m\u001b[0m\n\u001b[1;32m   1875\u001b[0m             \u001b[0mdata\u001b[0m\u001b[0;34m.\u001b[0m\u001b[0mctypes\u001b[0m\u001b[0;34m.\u001b[0m\u001b[0mdata_as\u001b[0m\u001b[0;34m(\u001b[0m\u001b[0mctypes\u001b[0m\u001b[0;34m.\u001b[0m\u001b[0mc_void_p\u001b[0m\u001b[0;34m)\u001b[0m\u001b[0;34m,\u001b[0m\u001b[0;34m\u001b[0m\u001b[0m\n\u001b[0;32m-> 1876\u001b[0;31m             ctypes.c_size_t(data.size)))\n\u001b[0m\u001b[1;32m   1877\u001b[0m         \u001b[0;32mreturn\u001b[0m \u001b[0mdata\u001b[0m\u001b[0;34m\u001b[0m\u001b[0m\n\u001b[1;32m   1878\u001b[0m \u001b[0;34m\u001b[0m\u001b[0m\n",
      "\u001b[0;31mKeyboardInterrupt\u001b[0m: "
     ]
    }
   ],
   "source": [
    "for epoch in range(20):\n",
    "    loss_mean = list()\n",
    "    va_loss_mean = list()\n",
    "    train_acc = mx.metric.Accuracy()\n",
    "    va_acc = mx.metric.Accuracy()\n",
    "    for (data, label) in train_data:\n",
    "        with autograd.record():\n",
    "            data = data.copyto(ctx)\n",
    "            label = label.copyto(ctx)\n",
    "            output = model(data)\n",
    "            loss_val = loss(output,label)\n",
    "        loss_val.backward()\n",
    "        trainer.step(data.shape[0],ignore_stale_grad=True) \n",
    "        loss_mean.append(nd.mean(loss_val).asscalar())\n",
    "        train_acc.update(preds=nd.argmax(output,1),labels=label)\n",
    "        \n",
    "    for (va_data, va_label) in validation_data:\n",
    "        with autograd.record():\n",
    "            va_data = va_data.copyto(ctx)\n",
    "            va_label = va_label.copyto(ctx)\n",
    "            va_output = model(va_data)\n",
    "            va_loss_val = loss(output,label)\n",
    "        va_loss_mean.append(nd.mean(va_loss_val).asscalar())\n",
    "        va_acc.update(preds=nd.argmax(va_output,1),labels=va_label)\n",
    "        \n",
    "    print(\"epoch {e} train loss :{l} train_acc:{ta} val loss : {vl} val_acc :{va}\".format(e=epoch,l=np.mean(loss_mean),vl=np.mean(va_loss_mean),ta=train_acc.get(),va=va_acc.get()))"
   ]
  },
  {
   "cell_type": "code",
   "execution_count": null,
   "metadata": {},
   "outputs": [],
   "source": []
  },
  {
   "cell_type": "code",
   "execution_count": null,
   "metadata": {},
   "outputs": [],
   "source": []
  },
  {
   "cell_type": "code",
   "execution_count": 18,
   "metadata": {},
   "outputs": [
    {
     "data": {
      "text/plain": [
       "\n",
       "[4. 9. 6. 9. 5. 3. 5. 4. 3. 2. 0. 5. 7. 6. 6. 0. 1. 2. 8. 1. 5. 1. 0. 1.\n",
       " 6. 8. 1. 8. 0. 6. 8. 7. 4. 2. 7. 6. 3. 3. 1. 7. 6. 6. 2. 8. 8. 3. 1. 6.\n",
       " 3. 3. 2. 9. 7. 7. 7. 1. 1. 0. 3. 2. 9. 9. 0. 3. 0. 0. 5. 2. 6. 1. 6. 5.\n",
       " 1. 7. 9. 9. 9. 5. 1. 4. 2. 6. 0. 2. 8. 5. 4. 2. 9. 6. 9. 6. 9. 2. 2. 6.\n",
       " 0. 8. 1. 6. 0. 9. 5. 4. 9. 9. 4. 8. 4. 4. 7. 8. 3. 0. 5. 6. 1. 5. 5. 1.\n",
       " 2. 2. 1. 3. 3. 8. 4. 2.]\n",
       "<NDArray 128 @gpu(0)>"
      ]
     },
     "execution_count": 18,
     "metadata": {},
     "output_type": "execute_result"
    }
   ],
   "source": [
    "nd.argmax(output,axis=1)"
   ]
  },
  {
   "cell_type": "code",
   "execution_count": 19,
   "metadata": {},
   "outputs": [
    {
     "data": {
      "text/plain": [
       "\n",
       "[4. 9. 6. 9. 5. 3. 5. 4. 6. 2. 0. 5. 7. 6. 6. 0. 1. 0. 8. 1. 5. 1. 0. 1.\n",
       " 6. 8. 1. 8. 0. 0. 8. 7. 4. 2. 7. 6. 3. 3. 1. 7. 6. 6. 2. 8. 8. 3. 1. 6.\n",
       " 3. 3. 2. 9. 9. 7. 7. 1. 1. 0. 3. 4. 9. 9. 0. 3. 0. 0. 5. 2. 6. 1. 6. 5.\n",
       " 1. 7. 7. 9. 9. 5. 1. 4. 2. 6. 0. 2. 8. 5. 4. 2. 9. 6. 9. 2. 9. 2. 2. 6.\n",
       " 6. 8. 1. 6. 0. 9. 5. 4. 9. 9. 4. 8. 4. 4. 7. 8. 3. 0. 5. 6. 1. 5. 5. 1.\n",
       " 2. 2. 1. 3. 3. 8. 4. 2.]\n",
       "<NDArray 128 @gpu(0)>"
      ]
     },
     "execution_count": 19,
     "metadata": {},
     "output_type": "execute_result"
    }
   ],
   "source": [
    "label"
   ]
  },
  {
   "cell_type": "code",
   "execution_count": 21,
   "metadata": {},
   "outputs": [],
   "source": [
    "acc = mx.metric.Accuracy()"
   ]
  },
  {
   "cell_type": "code",
   "execution_count": 22,
   "metadata": {},
   "outputs": [],
   "source": [
    "acc.update(preds=nd.argmax(output,axis=1),labels=label)"
   ]
  },
  {
   "cell_type": "code",
   "execution_count": 25,
   "metadata": {},
   "outputs": [
    {
     "name": "stdout",
     "output_type": "stream",
     "text": [
      "('accuracy', 0.9375)\n"
     ]
    }
   ],
   "source": [
    "print(\"{}\".format(acc.get()))"
   ]
  },
  {
   "cell_type": "code",
   "execution_count": 29,
   "metadata": {},
   "outputs": [
    {
     "data": {
      "text/plain": [
       "(128, 28, 1, 28)"
      ]
     },
     "execution_count": 29,
     "metadata": {},
     "output_type": "execute_result"
    }
   ],
   "source": [
    "data.swapaxes(1,2).shape"
   ]
  },
  {
   "cell_type": "code",
   "execution_count": 31,
   "metadata": {},
   "outputs": [],
   "source": [
    "output = model(data)"
   ]
  },
  {
   "cell_type": "code",
   "execution_count": 32,
   "metadata": {},
   "outputs": [
    {
     "data": {
      "text/plain": [
       "\n",
       "[[ -4.70972    -1.0343139  -5.9070234 ...  10.077577    3.4620867\n",
       "    6.4959126]\n",
       " [ -5.9397173  -1.4487193  -5.829402  ...  11.126983    2.5540066\n",
       "    8.838758 ]\n",
       " [ 10.021524   31.977276   -2.28505   ... -20.696571   -4.942632\n",
       "  -32.530014 ]\n",
       " ...\n",
       " [  7.2817163   4.4386163   1.8730931 ... -10.065019   -0.6611936\n",
       "  -14.264185 ]\n",
       " [  2.403361    3.1729379   2.2249227 ...  -9.469499   -1.2017921\n",
       "   -7.741617 ]\n",
       " [ -8.38825    -1.443956   -0.8961567 ...   2.689477    0.8111732\n",
       "   11.417488 ]]\n",
       "<NDArray 128x10 @gpu(0)>"
      ]
     },
     "execution_count": 32,
     "metadata": {},
     "output_type": "execute_result"
    }
   ],
   "source": [
    "output"
   ]
  },
  {
   "cell_type": "code",
   "execution_count": 42,
   "metadata": {},
   "outputs": [
    {
     "data": {
      "text/plain": [
       "\n",
       "[7. 7. 1. 9. 4. 1. 9. 9. 1. 8. 1. 2. 3. 6. 5. 3. 5. 4. 6. 6.]\n",
       "<NDArray 20 @gpu(0)>"
      ]
     },
     "execution_count": 42,
     "metadata": {},
     "output_type": "execute_result"
    }
   ],
   "source": [
    "label[0:20]"
   ]
  },
  {
   "cell_type": "code",
   "execution_count": 34,
   "metadata": {},
   "outputs": [],
   "source": [
    "soft = nd.softmax(output)"
   ]
  },
  {
   "cell_type": "code",
   "execution_count": 43,
   "metadata": {},
   "outputs": [
    {
     "data": {
      "text/plain": [
       "\n",
       "[7. 7. 1. 9. 2. 1. 9. 9. 1. 8. 1. 2. 3. 6. 5. 3. 5. 4. 6. 6.]\n",
       "<NDArray 20 @gpu(0)>"
      ]
     },
     "execution_count": 43,
     "metadata": {},
     "output_type": "execute_result"
    }
   ],
   "source": [
    "nd.argmax(soft[0:20],axis=1)"
   ]
  },
  {
   "cell_type": "code",
   "execution_count": 37,
   "metadata": {},
   "outputs": [
    {
     "data": {
      "text/plain": [
       "\n",
       "[1.2977268e-08 3.4302653e-07 1.9245779e-06 1.4412031e-08 1.9874494e-06\n",
       " 4.5362492e-03 1.3529815e-08 2.5637108e-03 2.0838407e-04 9.9268734e-01]\n",
       "<NDArray 10 @gpu(0)>"
      ]
     },
     "execution_count": 37,
     "metadata": {},
     "output_type": "execute_result"
    }
   ],
   "source": [
    "soft[3]"
   ]
  },
  {
   "cell_type": "markdown",
   "metadata": {},
   "source": [
    "### "
   ]
  },
  {
   "cell_type": "code",
   "execution_count": 10,
   "metadata": {},
   "outputs": [],
   "source": [
    "test = nd.random_normal(shape=(128, 64, 1),ctx=mx.gpu())"
   ]
  },
  {
   "cell_type": "code",
   "execution_count": 11,
   "metadata": {},
   "outputs": [
    {
     "data": {
      "text/plain": [
       "(128, 64, 1)"
      ]
     },
     "execution_count": 11,
     "metadata": {},
     "output_type": "execute_result"
    }
   ],
   "source": [
    "test.shape"
   ]
  },
  {
   "cell_type": "code",
   "execution_count": 12,
   "metadata": {},
   "outputs": [],
   "source": [
    "attn =AttentionBlock(64,32)\n",
    "attn.collect_params().initialize(ctx=mx.gpu())"
   ]
  },
  {
   "cell_type": "code",
   "execution_count": 13,
   "metadata": {},
   "outputs": [],
   "source": [
    "a = attn(test)"
   ]
  },
  {
   "cell_type": "code",
   "execution_count": 14,
   "metadata": {},
   "outputs": [
    {
     "data": {
      "text/plain": [
       "(128, 33, 64)"
      ]
     },
     "execution_count": 14,
     "metadata": {},
     "output_type": "execute_result"
    }
   ],
   "source": [
    "a.shape"
   ]
  },
  {
   "cell_type": "code",
   "execution_count": 19,
   "metadata": {},
   "outputs": [],
   "source": [
    "mod1 = TCBlock(33,T,128)\n",
    "mod1.collect_params().initialize(ctx=mx.gpu())"
   ]
  },
  {
   "cell_type": "code",
   "execution_count": 20,
   "metadata": {},
   "outputs": [
    {
     "name": "stdout",
     "output_type": "stream",
     "text": [
      "(128, 33, 64)\n",
      "Dense success\n",
      "(128, 161, 64)\n",
      "Dense success\n",
      "(128, 289, 64)\n",
      "Dense success\n",
      "(128, 417, 64)\n",
      "Dense success\n",
      "(128, 545, 64)\n",
      "Dense success\n",
      "(128, 673, 64)\n",
      "Dense success\n",
      "(128, 801, 64)\n",
      "Dense success\n"
     ]
    }
   ],
   "source": [
    "out = mod1(a)"
   ]
  },
  {
   "cell_type": "code",
   "execution_count": 21,
   "metadata": {},
   "outputs": [
    {
     "data": {
      "text/plain": [
       "(128, 929, 64)"
      ]
     },
     "execution_count": 21,
     "metadata": {},
     "output_type": "execute_result"
    }
   ],
   "source": [
    "out.shape"
   ]
  },
  {
   "cell_type": "code",
   "execution_count": 56,
   "metadata": {},
   "outputs": [],
   "source": [
    "casual_conv = nn.Conv1D(65,kernel_size=2,padding = 3, dilation = 1)\n",
    "casual_conv.collect_params().initialize()"
   ]
  },
  {
   "cell_type": "code",
   "execution_count": 57,
   "metadata": {},
   "outputs": [
    {
     "data": {
      "text/plain": [
       "odict_keys(['conv4_weight', 'conv4_bias'])"
      ]
     },
     "execution_count": 57,
     "metadata": {},
     "output_type": "execute_result"
    }
   ],
   "source": [
    "casual_conv.collect_params().keys()"
   ]
  },
  {
   "cell_type": "code",
   "execution_count": 60,
   "metadata": {},
   "outputs": [
    {
     "ename": "DeferredInitializationError",
     "evalue": "Parameter 'conv4_weight' has not been initialized yet because initialization was deferred. Actual initialization happens during the first forward pass. Please pass one batch of data through the network before accessing Parameters. You can also avoid deferred initialization by specifying in_units, num_features, etc., for network layers.",
     "output_type": "error",
     "traceback": [
      "\u001b[0;31m---------------------------------------------------------------------------\u001b[0m",
      "\u001b[0;31mDeferredInitializationError\u001b[0m               Traceback (most recent call last)",
      "\u001b[0;32m<ipython-input-60-0753453baa39>\u001b[0m in \u001b[0;36m<module>\u001b[0;34m()\u001b[0m\n\u001b[0;32m----> 1\u001b[0;31m \u001b[0mcasual_conv\u001b[0m\u001b[0;34m.\u001b[0m\u001b[0mcollect_params\u001b[0m\u001b[0;34m(\u001b[0m\u001b[0;34m)\u001b[0m\u001b[0;34m[\u001b[0m\u001b[0;34m'conv4_weight'\u001b[0m\u001b[0;34m]\u001b[0m\u001b[0;34m.\u001b[0m\u001b[0mdata\u001b[0m\u001b[0;34m(\u001b[0m\u001b[0;34m)\u001b[0m\u001b[0;34m\u001b[0m\u001b[0m\n\u001b[0m",
      "\u001b[0;32m/opt/venv/lib/python3.6/site-packages/mxnet/gluon/parameter.py\u001b[0m in \u001b[0;36mdata\u001b[0;34m(self, ctx)\u001b[0m\n\u001b[1;32m    389\u001b[0m         \u001b[0mNDArray\u001b[0m \u001b[0mon\u001b[0m \u001b[0mctx\u001b[0m\u001b[0;34m\u001b[0m\u001b[0m\n\u001b[1;32m    390\u001b[0m         \"\"\"\n\u001b[0;32m--> 391\u001b[0;31m         \u001b[0;32mreturn\u001b[0m \u001b[0mself\u001b[0m\u001b[0;34m.\u001b[0m\u001b[0m_check_and_get\u001b[0m\u001b[0;34m(\u001b[0m\u001b[0mself\u001b[0m\u001b[0;34m.\u001b[0m\u001b[0m_data\u001b[0m\u001b[0;34m,\u001b[0m \u001b[0mctx\u001b[0m\u001b[0;34m)\u001b[0m\u001b[0;34m\u001b[0m\u001b[0m\n\u001b[0m\u001b[1;32m    392\u001b[0m \u001b[0;34m\u001b[0m\u001b[0m\n\u001b[1;32m    393\u001b[0m     \u001b[0;32mdef\u001b[0m \u001b[0mlist_data\u001b[0m\u001b[0;34m(\u001b[0m\u001b[0mself\u001b[0m\u001b[0;34m)\u001b[0m\u001b[0;34m:\u001b[0m\u001b[0;34m\u001b[0m\u001b[0m\n",
      "\u001b[0;32m/opt/venv/lib/python3.6/site-packages/mxnet/gluon/parameter.py\u001b[0m in \u001b[0;36m_check_and_get\u001b[0;34m(self, arr_list, ctx)\u001b[0m\n\u001b[1;32m    181\u001b[0m                 \u001b[0;34m\"Please pass one batch of data through the network before accessing Parameters. \"\u001b[0m\u001b[0;31m \u001b[0m\u001b[0;31m\\\u001b[0m\u001b[0;34m\u001b[0m\u001b[0m\n\u001b[1;32m    182\u001b[0m                 \u001b[0;34m\"You can also avoid deferred initialization by specifying in_units, \"\u001b[0m\u001b[0;31m \u001b[0m\u001b[0;31m\\\u001b[0m\u001b[0;34m\u001b[0m\u001b[0m\n\u001b[0;32m--> 183\u001b[0;31m                 \"num_features, etc., for network layers.\"%(self.name))\n\u001b[0m\u001b[1;32m    184\u001b[0m         raise RuntimeError(\n\u001b[1;32m    185\u001b[0m             \u001b[0;34m\"Parameter '%s' has not been initialized. Note that \"\u001b[0m\u001b[0;31m \u001b[0m\u001b[0;31m\\\u001b[0m\u001b[0;34m\u001b[0m\u001b[0m\n",
      "\u001b[0;31mDeferredInitializationError\u001b[0m: Parameter 'conv4_weight' has not been initialized yet because initialization was deferred. Actual initialization happens during the first forward pass. Please pass one batch of data through the network before accessing Parameters. You can also avoid deferred initialization by specifying in_units, num_features, etc., for network layers."
     ]
    }
   ],
   "source": [
    "casual_conv.collect_params()['conv4_weight'].data()"
   ]
  },
  {
   "cell_type": "code",
   "execution_count": 59,
   "metadata": {},
   "outputs": [
    {
     "data": {
      "text/plain": [
       "\n",
       "[[40. 33. 15. ... 55. 51. 62.]\n",
       " [43. 39.  3. ... 53. 43. 15.]\n",
       " [ 3. 56. 49. ... 40. 29. 30.]\n",
       " ...\n",
       " [18. 27. 61. ... 12.  3. 16.]\n",
       " [55. 17. 36. ... 35. 51. 13.]\n",
       " [17. 57. 14. ... 32.  9. 46.]]\n",
       "<NDArray 128x65 @cpu(0)>"
      ]
     },
     "execution_count": 59,
     "metadata": {},
     "output_type": "execute_result"
    }
   ],
   "source": [
    "nd.argmax(out,1)"
   ]
  },
  {
   "cell_type": "code",
   "execution_count": 98,
   "metadata": {},
   "outputs": [],
   "source": [
    "loss = gluon.loss.SoftmaxCrossEntropyLoss()"
   ]
  },
  {
   "cell_type": "code",
   "execution_count": 100,
   "metadata": {},
   "outputs": [
    {
     "data": {
      "text/plain": [
       "\n",
       "[2.2953513 2.268253  2.2788887 2.2653809 2.2001681 2.3938656 2.352553\n",
       " 2.1504626 2.2000809 2.3043551 2.247101  2.2911987 2.3168476 2.3106627\n",
       " 2.316557  2.3206165 2.3051178 2.400387  2.2482119 2.3681443 2.2640896\n",
       " 2.3992994 2.21503   2.2837143 2.403338  2.2815537 2.2992458 2.3473132\n",
       " 2.2210064 2.3172932 2.4186    2.35235   2.3988147 2.1612604 2.4434488\n",
       " 2.2524354 2.3666632 2.381284  2.3241143 2.308886  2.3716798 2.3149261\n",
       " 2.3523326 2.2905169 2.3369887 2.2060206 2.3598323 2.41046   2.3438096\n",
       " 2.3870363 2.211364  2.322115  2.3808486 2.353376  2.1823812 2.2900634\n",
       " 2.2563624 2.3698769 2.3828924 2.3387487 2.3133004 2.2479045 2.26498\n",
       " 2.3250399 2.1810293 2.3330922 2.3212776 2.2873394 2.3081412 2.3115413\n",
       " 2.384853  2.3017528 2.26551   2.291781  2.3923473 2.2603652 2.1976027\n",
       " 2.3875916 2.2776318 2.291148  2.2299504 2.3043473 2.4108205 2.3028996\n",
       " 2.2174864 2.3599975 2.3221505 2.2949238 2.3127408 2.3572457 2.3136406\n",
       " 2.2745225 2.2646685 2.3358376 2.3021743 2.3337815]\n",
       "<NDArray 96 @cpu(0)>"
      ]
     },
     "execution_count": 100,
     "metadata": {},
     "output_type": "execute_result"
    }
   ],
   "source": [
    "loss(out,label)"
   ]
  },
  {
   "cell_type": "code",
   "execution_count": 76,
   "metadata": {},
   "outputs": [],
   "source": [
    "N = 10\n",
    "K = 4\n",
    "T = N * K + 1\n",
    "layer_count = math.ceil(math.log(T)/math.log(2))"
   ]
  },
  {
   "cell_type": "code",
   "execution_count": 48,
   "metadata": {},
   "outputs": [],
   "source": [
    "cnn_emb = CnnEmbedding()\n",
    "cnn_emb.collect_params().initialize()"
   ]
  },
  {
   "cell_type": "code",
   "execution_count": 49,
   "metadata": {},
   "outputs": [],
   "source": [
    "test1 = cnn_emb(data)"
   ]
  },
  {
   "cell_type": "code",
   "execution_count": 50,
   "metadata": {},
   "outputs": [
    {
     "data": {
      "text/plain": [
       "(96, 64)"
      ]
     },
     "execution_count": 50,
     "metadata": {},
     "output_type": "execute_result"
    }
   ],
   "source": [
    "test1.shape"
   ]
  },
  {
   "cell_type": "code",
   "execution_count": 52,
   "metadata": {},
   "outputs": [
    {
     "data": {
      "text/plain": [
       "(96, 64, 1)"
      ]
     },
     "execution_count": 52,
     "metadata": {},
     "output_type": "execute_result"
    }
   ],
   "source": [
    "test1.expand_dims(2).shape"
   ]
  },
  {
   "cell_type": "code",
   "execution_count": 77,
   "metadata": {},
   "outputs": [],
   "source": [
    "snail = SNAIL(N, K)\n",
    "snail.collect_params().initialize()"
   ]
  },
  {
   "cell_type": "code",
   "execution_count": 78,
   "metadata": {},
   "outputs": [],
   "source": [
    "out = snail(data)"
   ]
  },
  {
   "cell_type": "code",
   "execution_count": 79,
   "metadata": {},
   "outputs": [
    {
     "data": {
      "text/plain": [
       "(96, 1600, 2497)"
      ]
     },
     "execution_count": 79,
     "metadata": {},
     "output_type": "execute_result"
    }
   ],
   "source": [
    "out.shape"
   ]
  },
  {
   "cell_type": "code",
   "execution_count": 80,
   "metadata": {},
   "outputs": [],
   "source": [
    "conv1 = nn.Conv1D(N,1)\n",
    "conv1.collect_params().initialize()"
   ]
  },
  {
   "cell_type": "code",
   "execution_count": 81,
   "metadata": {},
   "outputs": [],
   "source": [
    "a = conv1(out)"
   ]
  },
  {
   "cell_type": "code",
   "execution_count": 82,
   "metadata": {},
   "outputs": [
    {
     "data": {
      "text/plain": [
       "(96, 10, 2497)"
      ]
     },
     "execution_count": 82,
     "metadata": {},
     "output_type": "execute_result"
    }
   ],
   "source": [
    "a.shape"
   ]
  },
  {
   "cell_type": "code",
   "execution_count": 83,
   "metadata": {},
   "outputs": [],
   "source": [
    "b = a.sum(2)"
   ]
  },
  {
   "cell_type": "code",
   "execution_count": null,
   "metadata": {},
   "outputs": [],
   "source": []
  },
  {
   "cell_type": "code",
   "execution_count": 85,
   "metadata": {},
   "outputs": [
    {
     "data": {
      "text/plain": [
       "(96, 10)"
      ]
     },
     "execution_count": 85,
     "metadata": {},
     "output_type": "execute_result"
    }
   ],
   "source": [
    "b.shape"
   ]
  },
  {
   "cell_type": "code",
   "execution_count": 89,
   "metadata": {},
   "outputs": [],
   "source": [
    "c = nd.softmax(b[0])"
   ]
  },
  {
   "cell_type": "code",
   "execution_count": 90,
   "metadata": {},
   "outputs": [
    {
     "data": {
      "text/plain": [
       "\n",
       "[1.0000001]\n",
       "<NDArray 1 @cpu(0)>"
      ]
     },
     "execution_count": 90,
     "metadata": {},
     "output_type": "execute_result"
    }
   ],
   "source": [
    "sum(c)"
   ]
  },
  {
   "cell_type": "code",
   "execution_count": 36,
   "metadata": {},
   "outputs": [
    {
     "data": {
      "text/plain": [
       "\n",
       "[nan]\n",
       "<NDArray 1 @cpu(0)>"
      ]
     },
     "execution_count": 36,
     "metadata": {},
     "output_type": "execute_result"
    }
   ],
   "source": [
    "a[0][0][100]"
   ]
  },
  {
   "cell_type": "code",
   "execution_count": 71,
   "metadata": {},
   "outputs": [],
   "source": [
    "mod0 = AttentionBlock(64, 32)\n",
    "mod0.collect_params().initialize()"
   ]
  },
  {
   "cell_type": "code",
   "execution_count": 72,
   "metadata": {},
   "outputs": [
    {
     "data": {
      "text/plain": [
       "(96, 64, 64)"
      ]
     },
     "execution_count": 72,
     "metadata": {},
     "output_type": "execute_result"
    }
   ],
   "source": [
    "emb_rst.shape"
   ]
  },
  {
   "cell_type": "code",
   "execution_count": 73,
   "metadata": {},
   "outputs": [],
   "source": [
    "mod0_rst=mod0(emb_rst)"
   ]
  },
  {
   "cell_type": "code",
   "execution_count": 74,
   "metadata": {},
   "outputs": [
    {
     "data": {
      "text/plain": [
       "(96, 64, 128)"
      ]
     },
     "execution_count": 74,
     "metadata": {},
     "output_type": "execute_result"
    }
   ],
   "source": [
    "mod0_rst.shape"
   ]
  },
  {
   "cell_type": "code",
   "execution_count": 66,
   "metadata": {},
   "outputs": [
    {
     "data": {
      "text/plain": [
       "(96, 64, 128)"
      ]
     },
     "execution_count": 66,
     "metadata": {},
     "output_type": "execute_result"
    }
   ],
   "source": [
    "mod0_rst.shape"
   ]
  },
  {
   "cell_type": "code",
   "execution_count": 76,
   "metadata": {},
   "outputs": [],
   "source": [
    "mod1 = TCBlock(65+32, T, 128)\n",
    "mod1.collect_params().initialize()"
   ]
  },
  {
   "cell_type": "code",
   "execution_count": 77,
   "metadata": {},
   "outputs": [],
   "source": [
    "mod1_rst=mod1(mod0_rst)"
   ]
  },
  {
   "cell_type": "code",
   "execution_count": 78,
   "metadata": {},
   "outputs": [
    {
     "data": {
      "text/plain": [
       "(96, 1472, 128)"
      ]
     },
     "execution_count": 78,
     "metadata": {},
     "output_type": "execute_result"
    }
   ],
   "source": [
    "mod1_rst.shape"
   ]
  },
  {
   "cell_type": "code",
   "execution_count": 117,
   "metadata": {},
   "outputs": [
    {
     "data": {
      "text/plain": [
       "(1, 2, 3)"
      ]
     },
     "execution_count": 117,
     "metadata": {},
     "output_type": "execute_result"
    }
   ],
   "source": [
    "F.broadcast_mul(x,y).shape"
   ]
  },
  {
   "cell_type": "code",
   "execution_count": 322,
   "metadata": {},
   "outputs": [],
   "source": [
    "mask = np.full(shape=(logits.shape[1],logits.shape[2]),fill_value=1).astype('float')\n",
    "mask = np.triu(mask,1)\n",
    "mask = np.expand_dims(mask,0)\n",
    "mask = np.repeat(mask,logits.shape[0],0)"
   ]
  },
  {
   "cell_type": "code",
   "execution_count": 324,
   "metadata": {},
   "outputs": [
    {
     "data": {
      "text/plain": [
       "array([[0., 1., 1., 1., 1., 1., 1., 1., 1., 1., 1., 1., 1., 1., 1., 1.],\n",
       "       [0., 0., 1., 1., 1., 1., 1., 1., 1., 1., 1., 1., 1., 1., 1., 1.],\n",
       "       [0., 0., 0., 1., 1., 1., 1., 1., 1., 1., 1., 1., 1., 1., 1., 1.],\n",
       "       [0., 0., 0., 0., 1., 1., 1., 1., 1., 1., 1., 1., 1., 1., 1., 1.],\n",
       "       [0., 0., 0., 0., 0., 1., 1., 1., 1., 1., 1., 1., 1., 1., 1., 1.],\n",
       "       [0., 0., 0., 0., 0., 0., 1., 1., 1., 1., 1., 1., 1., 1., 1., 1.],\n",
       "       [0., 0., 0., 0., 0., 0., 0., 1., 1., 1., 1., 1., 1., 1., 1., 1.],\n",
       "       [0., 0., 0., 0., 0., 0., 0., 0., 1., 1., 1., 1., 1., 1., 1., 1.],\n",
       "       [0., 0., 0., 0., 0., 0., 0., 0., 0., 1., 1., 1., 1., 1., 1., 1.],\n",
       "       [0., 0., 0., 0., 0., 0., 0., 0., 0., 0., 1., 1., 1., 1., 1., 1.],\n",
       "       [0., 0., 0., 0., 0., 0., 0., 0., 0., 0., 0., 1., 1., 1., 1., 1.],\n",
       "       [0., 0., 0., 0., 0., 0., 0., 0., 0., 0., 0., 0., 1., 1., 1., 1.],\n",
       "       [0., 0., 0., 0., 0., 0., 0., 0., 0., 0., 0., 0., 0., 1., 1., 1.],\n",
       "       [0., 0., 0., 0., 0., 0., 0., 0., 0., 0., 0., 0., 0., 0., 1., 1.],\n",
       "       [0., 0., 0., 0., 0., 0., 0., 0., 0., 0., 0., 0., 0., 0., 0., 1.],\n",
       "       [0., 0., 0., 0., 0., 0., 0., 0., 0., 0., 0., 0., 0., 0., 0., 0.]])"
      ]
     },
     "execution_count": 324,
     "metadata": {},
     "output_type": "execute_result"
    }
   ],
   "source": [
    "mask[0]"
   ]
  },
  {
   "cell_type": "code",
   "execution_count": 327,
   "metadata": {},
   "outputs": [],
   "source": [
    "def subsequent_mask(size):\n",
    "    \"Mask out subsequent positions.\"\n",
    "    attn_shape = (1, size, size)\n",
    "    subsequent_mask = np.triu(np.ones(attn_shape), k=1).astype('uint8')\n",
    "    return subsequent_mask"
   ]
  },
  {
   "cell_type": "code",
   "execution_count": 328,
   "metadata": {},
   "outputs": [],
   "source": [
    "msk = subsequent_mask(10)"
   ]
  },
  {
   "cell_type": "code",
   "execution_count": 329,
   "metadata": {},
   "outputs": [
    {
     "data": {
      "text/plain": [
       "array([[[0, 1, 1, 1, 1, 1, 1, 1, 1, 1],\n",
       "        [0, 0, 1, 1, 1, 1, 1, 1, 1, 1],\n",
       "        [0, 0, 0, 1, 1, 1, 1, 1, 1, 1],\n",
       "        [0, 0, 0, 0, 1, 1, 1, 1, 1, 1],\n",
       "        [0, 0, 0, 0, 0, 1, 1, 1, 1, 1],\n",
       "        [0, 0, 0, 0, 0, 0, 1, 1, 1, 1],\n",
       "        [0, 0, 0, 0, 0, 0, 0, 1, 1, 1],\n",
       "        [0, 0, 0, 0, 0, 0, 0, 0, 1, 1],\n",
       "        [0, 0, 0, 0, 0, 0, 0, 0, 0, 1],\n",
       "        [0, 0, 0, 0, 0, 0, 0, 0, 0, 0]]], dtype=uint8)"
      ]
     },
     "execution_count": 329,
     "metadata": {},
     "output_type": "execute_result"
    }
   ],
   "source": [
    "msk"
   ]
  },
  {
   "cell_type": "code",
   "execution_count": 71,
   "metadata": {},
   "outputs": [],
   "source": [
    "        mask = np.full(shape=(5,5),fill_value=1).astype('float')\n",
    "        mask = np.triu(mask,1)\n",
    "        #mask = np.expand_dims(mask,0)\n",
    "        #mask = np.repeat(mask,logits.shape[0],0)\n",
    "        #np.place(mask,mask==1,float('-inf'))"
   ]
  },
  {
   "cell_type": "code",
   "execution_count": 72,
   "metadata": {},
   "outputs": [
    {
     "data": {
      "text/plain": [
       "array([[0., 1., 1., 1., 1.],\n",
       "       [0., 0., 1., 1., 1.],\n",
       "       [0., 0., 0., 1., 1.],\n",
       "       [0., 0., 0., 0., 1.],\n",
       "       [0., 0., 0., 0., 0.]])"
      ]
     },
     "execution_count": 72,
     "metadata": {},
     "output_type": "execute_result"
    }
   ],
   "source": [
    "mask"
   ]
  },
  {
   "cell_type": "code",
   "execution_count": null,
   "metadata": {},
   "outputs": [],
   "source": []
  }
 ],
 "metadata": {
  "kernelspec": {
   "display_name": "Python 3",
   "language": "python",
   "name": "python3"
  },
  "language_info": {
   "codemirror_mode": {
    "name": "ipython",
    "version": 3
   },
   "file_extension": ".py",
   "mimetype": "text/x-python",
   "name": "python",
   "nbconvert_exporter": "python",
   "pygments_lexer": "ipython3",
   "version": "3.6.5"
  }
 },
 "nbformat": 4,
 "nbformat_minor": 2
}
