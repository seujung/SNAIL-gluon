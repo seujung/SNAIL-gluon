{
 "cells": [
  {
   "cell_type": "code",
   "execution_count": 1,
   "metadata": {
    "ExecuteTime": {
     "end_time": "2018-07-10T06:08:53.618036Z",
     "start_time": "2018-07-10T06:08:50.120377Z"
    }
   },
   "outputs": [
    {
     "name": "stderr",
     "output_type": "stream",
     "text": [
      "/home/skinet/py_libs/lib/python3.6/site-packages/h5py/__init__.py:36: FutureWarning: Conversion of the second argument of issubdtype from `float` to `np.floating` is deprecated. In future, it will be treated as `np.float64 == np.dtype(float).type`.\n",
      "  from ._conv import register_converters as _register_converters\n"
     ]
    }
   ],
   "source": [
    "import math\n",
    "import mxnet as mx\n",
    "from mxnet import gluon, autograd, nd\n",
    "from mxnet.gluon import nn,utils\n",
    "from mxnet.gluon.data.vision import transforms\n",
    "import mxnet.ndarray as F\n",
    "import numpy as np\n",
    "import os, sys\n",
    "import os\n",
    "import numpy as np\n",
    "import collections\n",
    "from PIL import Image\n",
    "import csv\n",
    "import random\n",
    "from mxnet.gluon.data import Dataset, DataLoader\n",
    "from tqdm import tqdm"
   ]
  },
  {
   "cell_type": "code",
   "execution_count": 2,
   "metadata": {
    "ExecuteTime": {
     "end_time": "2018-07-10T06:08:53.777340Z",
     "start_time": "2018-07-10T06:08:53.619476Z"
    }
   },
   "outputs": [],
   "source": [
    "# coding=utf-8\n",
    "from utils import init_dataset\n",
    "from omniglot_dataset import OmniglotDataset\n",
    "from batch_sampler import BatchSampler\n",
    "import argparse\n",
    "import torch"
   ]
  },
  {
   "cell_type": "code",
   "execution_count": 3,
   "metadata": {
    "ExecuteTime": {
     "end_time": "2018-07-10T06:08:53.786558Z",
     "start_time": "2018-07-10T06:08:53.778934Z"
    }
   },
   "outputs": [
    {
     "data": {
      "text/plain": [
       "'1.2.0'"
      ]
     },
     "execution_count": 3,
     "metadata": {},
     "output_type": "execute_result"
    }
   ],
   "source": [
    "mx.__version__"
   ]
  },
  {
   "cell_type": "code",
   "execution_count": 4,
   "metadata": {
    "ExecuteTime": {
     "end_time": "2018-07-10T06:08:53.800050Z",
     "start_time": "2018-07-10T06:08:53.787932Z"
    }
   },
   "outputs": [],
   "source": [
    "class CasualConv1d(nn.Block):\n",
    "    \n",
    "    def __init__(self,in_channels, out_channels, kernel_size, stride=1, dilation=1, groups=1, bias=True,**kwargs):\n",
    "        super(CasualConv1d,self).__init__(**kwargs)\n",
    "        self.dilation = dilation\n",
    "        self.padding = dilation * (kernel_size - 1)\n",
    "        \n",
    "        with self.name_scope():\n",
    "            self.casual_conv = nn.Conv1D(in_channels=in_channels,channels=out_channels,kernel_size=kernel_size,padding = self.padding, dilation = dilation, groups=groups, use_bias=bias)\n",
    "            \n",
    "    def forward(self,x):\n",
    "        out = self.casual_conv(x)\n",
    "        return out[:,:,:-self.dilation]"
   ]
  },
  {
   "cell_type": "code",
   "execution_count": 5,
   "metadata": {
    "ExecuteTime": {
     "end_time": "2018-07-10T06:08:53.813626Z",
     "start_time": "2018-07-10T06:08:53.801327Z"
    }
   },
   "outputs": [],
   "source": [
    "class DenseBlock(nn.Block):\n",
    "    def __init__(self, in_channels, filters, dilation=1, kernel_size=2, **kwargs):\n",
    "        super(DenseBlock,self).__init__(**kwargs)\n",
    "        \n",
    "        with self.name_scope():\n",
    "            self.casual_conv1 = CasualConv1d(in_channels, filters, kernel_size, dilation = dilation)\n",
    "            self.casual_conv2 = CasualConv1d(in_channels, filters, kernel_size, dilation = dilation)\n",
    "            \n",
    "    def forward(self, x):\n",
    "        #print(x.shape)\n",
    "        tanh = F.tanh(self.casual_conv1(x))\n",
    "        sigmoid = F.sigmoid(self.casual_conv1(x))\n",
    "        out =  F.concat(x,tanh*sigmoid, dim=1)\n",
    "        #print(\"Dense success\")\n",
    "        return out  "
   ]
  },
  {
   "cell_type": "code",
   "execution_count": 6,
   "metadata": {
    "ExecuteTime": {
     "end_time": "2018-07-10T06:08:53.826614Z",
     "start_time": "2018-07-10T06:08:53.815162Z"
    }
   },
   "outputs": [],
   "source": [
    "class TCBlock(nn.Block):\n",
    "    def __init__(self, in_channels,seq_len, filters, **kwargs):\n",
    "        super(TCBlock,self).__init__(**kwargs)\n",
    "        layer_count = int(math.ceil(math.log(seq_len)))\n",
    "        channel_count = in_channels\n",
    "        with self.name_scope():\n",
    "            self.blocks = nn.Sequential()\n",
    "            for i in range(layer_count):\n",
    "                self.blocks.add(DenseBlock(in_channels + i * filters, filters, dilation =2 ** (i+1)))\n",
    "                \n",
    "    def forward(self, x):\n",
    "        x = x.swapaxes(1,2)\n",
    "        out = self.blocks(x)\n",
    "        return out.swapaxes(1,2)"
   ]
  },
  {
   "cell_type": "code",
   "execution_count": 7,
   "metadata": {
    "ExecuteTime": {
     "end_time": "2018-07-10T06:08:53.888758Z",
     "start_time": "2018-07-10T06:08:53.827955Z"
    }
   },
   "outputs": [],
   "source": [
    "class AttentionBlock(nn.Block):\n",
    "    def __init__(self, k_size, v_size,ctx=mx.cpu(),show_shape=False, **kwargs):\n",
    "        super(AttentionBlock,self).__init__(**kwargs)\n",
    "        self.ctx = ctx\n",
    "        self.sqrt_k = math.sqrt(k_size)\n",
    "        self.show_shape = False\n",
    "        with self.name_scope():\n",
    "            self.key_layer = nn.Dense(k_size,flatten=False)\n",
    "            self.query_layer = nn.Dense(k_size,flatten=False)\n",
    "            self.value_layer = nn.Dense(v_size,flatten=False)\n",
    "            \n",
    "    \n",
    "    def forward(self, x):\n",
    "        #x = x.swapaxes(1,2)\n",
    "        keys = self.key_layer(x)       \n",
    "        queries = self.query_layer(x)\n",
    "        values = self.value_layer(x)\n",
    "        logits = nd.linalg_gemm2(queries,keys.swapaxes(2,1))\n",
    "        if self.show_shape:\n",
    "            print(\"keys shape:{}\".format(keys.shape))\n",
    "            print(\"queries shape:{}\".format(queries.shape))\n",
    "            print(\"logits shape:{}\".format(logits.shape))\n",
    "        mask = np.full(shape=(logits.shape[1],logits.shape[2]),fill_value=1).astype('float')\n",
    "        mask = np.triu(mask,1)\n",
    "        mask = np.expand_dims(mask,0)\n",
    "        mask = np.repeat(mask,logits.shape[0],0)\n",
    "        np.place(mask,mask==1,0.0)\n",
    "        np.place(mask,mask==0,1.0)\n",
    "        #np.place(mask,mask==0,0.0)\n",
    "        #np.place(mask,mask==1,1.0)\n",
    "        mask = nd.array(mask,ctx=self.ctx)\n",
    "        logits =  F.elemwise_mul(logits,mask)\n",
    "        probs = F.softmax(logits / self.sqrt_k, axis=2)\n",
    "        if self.show_shape:\n",
    "            print(\"probs shape:{}\".format(probs.shape))\n",
    "            print(\"values shape:{}\".format(values.shape))\n",
    "        read = nd.linalg_gemm2(probs,values)\n",
    "        concat_data = F.concat(x,read,dim=2)\n",
    "        return concat_data\n",
    "        #return queries,probs"
   ]
  },
  {
   "cell_type": "code",
   "execution_count": 8,
   "metadata": {
    "ExecuteTime": {
     "end_time": "2018-07-10T06:08:53.932728Z",
     "start_time": "2018-07-10T06:08:53.890176Z"
    }
   },
   "outputs": [],
   "source": [
    "class CnnEmbedding(nn.Block):\n",
    "    \n",
    "    def __init__(self,**kwargs):\n",
    "        super(CnnEmbedding,self).__init__(**kwargs)\n",
    "        with self.name_scope():\n",
    "            self.cnn1 = nn.Conv2D(64,3,padding=1,activation='relu')\n",
    "            self.bn1 =  nn.BatchNorm()\n",
    "            self.max1 = nn.MaxPool2D(2,2)\n",
    "            self.cnn2 = nn.Conv2D(64,3,padding=1,activation='relu')\n",
    "            self.bn2 = nn.BatchNorm()\n",
    "            self.max2 = nn.MaxPool2D(2,2)\n",
    "            self.cnn3 = nn.Conv2D(64,3,padding=1,activation='relu')\n",
    "            self.bn3 = nn.BatchNorm()\n",
    "            self.max3 = nn.MaxPool2D(2,2)\n",
    "            self.cnn4 = nn.Conv2D(64,3,padding=1,activation='relu')\n",
    "            self.bn4 = nn.BatchNorm()\n",
    "            self.max4 = nn.MaxPool2D(2)\n",
    "    \n",
    "    def forward(self,x):\n",
    "        out = self.cnn1(x)\n",
    "        out = self.bn1(out)\n",
    "        out = self.max1(out)\n",
    "        out = self.cnn2(out)\n",
    "        out = self.bn2(out)\n",
    "        out = self.max2(out)\n",
    "        out = self.cnn3(out)\n",
    "        out = self.bn3(out)\n",
    "        out = self.max3(out)\n",
    "        out = self.cnn4(out)\n",
    "        out = self.bn4(out)\n",
    "        out = self.max4(out)\n",
    "        return out.reshape(out.shape[0],-1)"
   ]
  },
  {
   "cell_type": "code",
   "execution_count": 9,
   "metadata": {
    "ExecuteTime": {
     "end_time": "2018-07-10T06:08:53.991566Z",
     "start_time": "2018-07-10T06:08:53.934010Z"
    }
   },
   "outputs": [],
   "source": [
    "class SNAIL(nn.Block):\n",
    "    def __init__(self,N,K,input_dims,ctx=mx.cpu(),**kwargs):\n",
    "        super(SNAIL,self).__init__(**kwargs)\n",
    "        self.N = N\n",
    "        self.K = K\n",
    "        self.num_filters = int(math.ceil(math.log(N * K + 1)))\n",
    "        self.ctx = ctx\n",
    "        self.num_channels = input_dims + N\n",
    "        with self.name_scope():\n",
    "            self.attn1 = AttentionBlock(64, 32, ctx=self.ctx)\n",
    "            attn1_out_shape = self.num_channels + 32\n",
    "            self.tc1 = TCBlock(attn1_out_shape ,N*K+1 , 128)\n",
    "            tc1_out_shape = attn1_out_shape + self.num_filters * 128\n",
    "            self.attn2 = AttentionBlock(256, 128, ctx=self.ctx)\n",
    "            attn2_out_shape = tc1_out_shape + 128\n",
    "            self.tc2 = TCBlock(attn2_out_shape ,N*K+1 , 128)\n",
    "            tc2_out_shape = attn2_out_shape + self.num_filters * 128\n",
    "            self.attn3 = AttentionBlock(512, 256, ctx=self.ctx)\n",
    "            attn3_out_shape = tc2_out_shape + 128\n",
    "            self.fc = nn.Dense(N,flatten=False)\n",
    "                        \n",
    "    def forward(self, x, labels):\n",
    "        batch_size = int(labels.shape[0] / (N * K + 1))\n",
    "        last_idxs = [(i + 1) * (N * K + 1) - 1 for i in range(batch_size)]\n",
    "        labels[last_idxs] = nd.zeros(shape=(batch_size, labels.shape[1]), ctx=self.ctx)\n",
    "        x = F.concat(x,labels,dim=1)\n",
    "        x = x.reshape((batch_size,N*K+1,-1))\n",
    "        x = self.attn1(x)\n",
    "        x = self.tc1(x)\n",
    "        x = self.attn2(x)\n",
    "        x = self.tc2(x)\n",
    "        x = self.attn3(x)\n",
    "        x = self.fc(x)\n",
    "        \n",
    "        return x\n",
    "        "
   ]
  },
  {
   "cell_type": "code",
   "execution_count": 10,
   "metadata": {
    "ExecuteTime": {
     "end_time": "2018-07-10T06:09:09.053615Z",
     "start_time": "2018-07-10T06:08:53.992890Z"
    }
   },
   "outputs": [
    {
     "name": "stdout",
     "output_type": "stream",
     "text": [
      "/home/skinet/work/datasets/omniglot/data\n",
      "== Dataset: Found 82240 items \n",
      "== Dataset: Found 4112 classes\n"
     ]
    }
   ],
   "source": [
    "train_dataset = OmniglotDataset(mode='train',download=False)"
   ]
  },
  {
   "cell_type": "code",
   "execution_count": 11,
   "metadata": {
    "ExecuteTime": {
     "end_time": "2018-07-10T06:09:09.057834Z",
     "start_time": "2018-07-10T06:09:09.055298Z"
    }
   },
   "outputs": [],
   "source": [
    "N = 10     #num_class\n",
    "K = 5  #num_samples\n",
    "iterations = 10\n",
    "batch_size = 24"
   ]
  },
  {
   "cell_type": "code",
   "execution_count": 12,
   "metadata": {
    "ExecuteTime": {
     "end_time": "2018-07-10T06:09:10.076625Z",
     "start_time": "2018-07-10T06:09:09.059288Z"
    }
   },
   "outputs": [],
   "source": [
    "tr_sampler = BatchSampler(labels=train_dataset.y,\n",
    "                                          classes_per_it=N,\n",
    "                                          num_samples=K,\n",
    "                                          iterations=iterations,\n",
    "                                          batch_size=batch_size)"
   ]
  },
  {
   "cell_type": "code",
   "execution_count": 13,
   "metadata": {
    "ExecuteTime": {
     "end_time": "2018-07-10T06:09:10.080469Z",
     "start_time": "2018-07-10T06:09:10.078138Z"
    }
   },
   "outputs": [],
   "source": [
    "tr_dataloader = torch.utils.data.DataLoader(train_dataset,\n",
    "                                                batch_sampler=tr_sampler)"
   ]
  },
  {
   "cell_type": "code",
   "execution_count": 14,
   "metadata": {
    "ExecuteTime": {
     "end_time": "2018-07-10T06:09:10.096652Z",
     "start_time": "2018-07-10T06:09:10.081917Z"
    }
   },
   "outputs": [],
   "source": [
    "def batch_for_few_shot(num_cls,num_samples,batch_size, x, y):\n",
    "    seq_size = num_cls * num_samples + 1\n",
    "    one_hots = []\n",
    "    last_targets = []\n",
    "    for i in range(batch_size):\n",
    "        one_hot, idxs = labels_to_one_hot(y[i * seq_size: (i + 1) * seq_size])\n",
    "        one_hots.append(one_hot)\n",
    "        last_targets.append(idxs[-1])\n",
    "    #last_targets = Variable(torch.Tensor(last_targets).long())\n",
    "    last_targets =torch.Tensor(last_targets).long()\n",
    "    one_hots = [torch.Tensor(temp) for temp in one_hots]\n",
    "    y = torch.cat(one_hots, dim=0)\n",
    "    #x, y = Variable(x), Variable(y)\n",
    "    x = nd.array(x.data.numpy())\n",
    "    y = nd.array(y.data.numpy())\n",
    "    last_targets = nd.array(last_targets.data.numpy())\n",
    "    return x, y, last_targets"
   ]
  },
  {
   "cell_type": "code",
   "execution_count": 15,
   "metadata": {
    "ExecuteTime": {
     "end_time": "2018-07-10T06:09:10.104663Z",
     "start_time": "2018-07-10T06:09:10.098246Z"
    }
   },
   "outputs": [],
   "source": [
    "def labels_to_one_hot(labels):\n",
    "    labels = labels.numpy()\n",
    "    unique = np.unique(labels)\n",
    "    map = {label:idx for idx, label in enumerate(unique)}\n",
    "    idxs = [map[labels[i]] for i in range(labels.size)]\n",
    "    one_hot = np.zeros((labels.size, unique.size))\n",
    "    one_hot[np.arange(labels.size), idxs] = 1\n",
    "    return one_hot, idxs"
   ]
  },
  {
   "cell_type": "code",
   "execution_count": 16,
   "metadata": {
    "ExecuteTime": {
     "end_time": "2018-07-10T06:09:10.129361Z",
     "start_time": "2018-07-10T06:09:10.106044Z"
    }
   },
   "outputs": [],
   "source": [
    "model = SNAIL(N=N,K=K,input_dims=64)\n",
    "model.collect_params().initialize()\n",
    "loss = gluon.loss.SoftmaxCrossEntropyLoss()\n",
    "trainer = gluon.Trainer(model.collect_params(),optimizer='Adam',optimizer_params={'learning_rate':0.0001})"
   ]
  },
  {
   "cell_type": "code",
   "execution_count": 17,
   "metadata": {
    "ExecuteTime": {
     "end_time": "2018-07-10T06:09:10.132845Z",
     "start_time": "2018-07-10T06:09:10.130779Z"
    }
   },
   "outputs": [],
   "source": [
    "tr_iter = iter(tr_dataloader)"
   ]
  },
  {
   "cell_type": "code",
   "execution_count": 18,
   "metadata": {
    "ExecuteTime": {
     "end_time": "2018-07-10T06:09:10.156461Z",
     "start_time": "2018-07-10T06:09:10.134262Z"
    }
   },
   "outputs": [
    {
     "name": "stderr",
     "output_type": "stream",
     "text": [
      "  0%|          | 0/10 [00:00<?, ?it/s]\n"
     ]
    }
   ],
   "source": [
    "for batch in tqdm(tr_iter):\n",
    "    x,y = batch\n",
    "    break"
   ]
  },
  {
   "cell_type": "code",
   "execution_count": 19,
   "metadata": {
    "ExecuteTime": {
     "end_time": "2018-07-10T06:09:10.232850Z",
     "start_time": "2018-07-10T06:09:10.158081Z"
    }
   },
   "outputs": [],
   "source": [
    "x, y, last_targets = batch_for_few_shot(N, K ,batch_size, x, y)"
   ]
  },
  {
   "cell_type": "code",
   "execution_count": 20,
   "metadata": {
    "ExecuteTime": {
     "end_time": "2018-07-10T06:09:22.720913Z",
     "start_time": "2018-07-10T06:09:22.717795Z"
    }
   },
   "outputs": [
    {
     "data": {
      "text/plain": [
       "(1224, 1, 28, 28)"
      ]
     },
     "execution_count": 20,
     "metadata": {},
     "output_type": "execute_result"
    }
   ],
   "source": [
    "x.shape"
   ]
  },
  {
   "cell_type": "code",
   "execution_count": 21,
   "metadata": {
    "ExecuteTime": {
     "end_time": "2018-07-10T06:09:25.130219Z",
     "start_time": "2018-07-10T06:09:25.127126Z"
    }
   },
   "outputs": [
    {
     "data": {
      "text/plain": [
       "(1224, 10)"
      ]
     },
     "execution_count": 21,
     "metadata": {},
     "output_type": "execute_result"
    }
   ],
   "source": [
    "y.shape"
   ]
  },
  {
   "cell_type": "code",
   "execution_count": 22,
   "metadata": {
    "ExecuteTime": {
     "end_time": "2018-07-10T06:09:27.923209Z",
     "start_time": "2018-07-10T06:09:27.820760Z"
    }
   },
   "outputs": [
    {
     "ename": "MXNetError",
     "evalue": "[15:09:27] src/operator/nn/concat.cc:66: Check failed: shape_assign(&(*in_shape)[i], dshape) Incompatible input shape: expected [1224,0,28,28], got [1224,10]\n\nStack trace returned 10 entries:\n[bt] (0) /opt/venv/lib/python3.6/site-packages/mxnet/libmxnet.so(+0x30cbe2) [0x7fb0035e0be2]\n[bt] (1) /opt/venv/lib/python3.6/site-packages/mxnet/libmxnet.so(+0x30d1b8) [0x7fb0035e11b8]\n[bt] (2) /opt/venv/lib/python3.6/site-packages/mxnet/libmxnet.so(+0x531348) [0x7fb003805348]\n[bt] (3) /opt/venv/lib/python3.6/site-packages/mxnet/libmxnet.so(+0x29bf312) [0x7fb005c93312]\n[bt] (4) /opt/venv/lib/python3.6/site-packages/mxnet/libmxnet.so(+0x29c8dee) [0x7fb005c9cdee]\n[bt] (5) /opt/venv/lib/python3.6/site-packages/mxnet/libmxnet.so(+0x2900c4b) [0x7fb005bd4c4b]\n[bt] (6) /opt/venv/lib/python3.6/site-packages/mxnet/libmxnet.so(MXImperativeInvokeEx+0x6f) [0x7fb005bd520f]\n[bt] (7) /opt/miniconda/lib/libffi.so.6(ffi_call_unix64+0x4c) [0x7fb1ec772ec0]\n[bt] (8) /opt/miniconda/lib/libffi.so.6(ffi_call+0x22d) [0x7fb1ec77287d]\n[bt] (9) /usr/lib/python3.6/lib-dynload/_ctypes.cpython-36m-x86_64-linux-gnu.so(_ctypes_callproc+0x2fd) [0x7fb1ec98719d]\n\n",
     "output_type": "error",
     "traceback": [
      "\u001b[0;31m---------------------------------------------------------------------------\u001b[0m",
      "\u001b[0;31mMXNetError\u001b[0m                                Traceback (most recent call last)",
      "\u001b[0;32m<ipython-input-22-115342982035>\u001b[0m in \u001b[0;36m<module>\u001b[0;34m()\u001b[0m\n\u001b[0;32m----> 1\u001b[0;31m \u001b[0mmodel_output\u001b[0m \u001b[0;34m=\u001b[0m \u001b[0mmodel\u001b[0m\u001b[0;34m(\u001b[0m\u001b[0mx\u001b[0m\u001b[0;34m,\u001b[0m\u001b[0my\u001b[0m\u001b[0;34m)\u001b[0m\u001b[0;34m\u001b[0m\u001b[0m\n\u001b[0m",
      "\u001b[0;32m/opt/venv/lib/python3.6/site-packages/mxnet/gluon/block.py\u001b[0m in \u001b[0;36m__call__\u001b[0;34m(self, *args)\u001b[0m\n\u001b[1;32m    411\u001b[0m     \u001b[0;32mdef\u001b[0m \u001b[0m__call__\u001b[0m\u001b[0;34m(\u001b[0m\u001b[0mself\u001b[0m\u001b[0;34m,\u001b[0m \u001b[0;34m*\u001b[0m\u001b[0margs\u001b[0m\u001b[0;34m)\u001b[0m\u001b[0;34m:\u001b[0m\u001b[0;34m\u001b[0m\u001b[0m\n\u001b[1;32m    412\u001b[0m         \u001b[0;34m\"\"\"Calls forward. Only accepts positional arguments.\"\"\"\u001b[0m\u001b[0;34m\u001b[0m\u001b[0m\n\u001b[0;32m--> 413\u001b[0;31m         \u001b[0;32mreturn\u001b[0m \u001b[0mself\u001b[0m\u001b[0;34m.\u001b[0m\u001b[0mforward\u001b[0m\u001b[0;34m(\u001b[0m\u001b[0;34m*\u001b[0m\u001b[0margs\u001b[0m\u001b[0;34m)\u001b[0m\u001b[0;34m\u001b[0m\u001b[0m\n\u001b[0m\u001b[1;32m    414\u001b[0m \u001b[0;34m\u001b[0m\u001b[0m\n\u001b[1;32m    415\u001b[0m     \u001b[0;32mdef\u001b[0m \u001b[0mforward\u001b[0m\u001b[0;34m(\u001b[0m\u001b[0mself\u001b[0m\u001b[0;34m,\u001b[0m \u001b[0;34m*\u001b[0m\u001b[0margs\u001b[0m\u001b[0;34m)\u001b[0m\u001b[0;34m:\u001b[0m\u001b[0;34m\u001b[0m\u001b[0m\n",
      "\u001b[0;32m<ipython-input-9-5df8876f6ec3>\u001b[0m in \u001b[0;36mforward\u001b[0;34m(self, x, labels)\u001b[0m\n\u001b[1;32m     24\u001b[0m         \u001b[0mlast_idxs\u001b[0m \u001b[0;34m=\u001b[0m \u001b[0;34m[\u001b[0m\u001b[0;34m(\u001b[0m\u001b[0mi\u001b[0m \u001b[0;34m+\u001b[0m \u001b[0;36m1\u001b[0m\u001b[0;34m)\u001b[0m \u001b[0;34m*\u001b[0m \u001b[0;34m(\u001b[0m\u001b[0mN\u001b[0m \u001b[0;34m*\u001b[0m \u001b[0mK\u001b[0m \u001b[0;34m+\u001b[0m \u001b[0;36m1\u001b[0m\u001b[0;34m)\u001b[0m \u001b[0;34m-\u001b[0m \u001b[0;36m1\u001b[0m \u001b[0;32mfor\u001b[0m \u001b[0mi\u001b[0m \u001b[0;32min\u001b[0m \u001b[0mrange\u001b[0m\u001b[0;34m(\u001b[0m\u001b[0mbatch_size\u001b[0m\u001b[0;34m)\u001b[0m\u001b[0;34m]\u001b[0m\u001b[0;34m\u001b[0m\u001b[0m\n\u001b[1;32m     25\u001b[0m         \u001b[0mlabels\u001b[0m\u001b[0;34m[\u001b[0m\u001b[0mlast_idxs\u001b[0m\u001b[0;34m]\u001b[0m \u001b[0;34m=\u001b[0m \u001b[0mnd\u001b[0m\u001b[0;34m.\u001b[0m\u001b[0mzeros\u001b[0m\u001b[0;34m(\u001b[0m\u001b[0mshape\u001b[0m\u001b[0;34m=\u001b[0m\u001b[0;34m(\u001b[0m\u001b[0mbatch_size\u001b[0m\u001b[0;34m,\u001b[0m \u001b[0mlabels\u001b[0m\u001b[0;34m.\u001b[0m\u001b[0mshape\u001b[0m\u001b[0;34m[\u001b[0m\u001b[0;36m1\u001b[0m\u001b[0;34m]\u001b[0m\u001b[0;34m)\u001b[0m\u001b[0;34m,\u001b[0m \u001b[0mctx\u001b[0m\u001b[0;34m=\u001b[0m\u001b[0mself\u001b[0m\u001b[0;34m.\u001b[0m\u001b[0mctx\u001b[0m\u001b[0;34m)\u001b[0m\u001b[0;34m\u001b[0m\u001b[0m\n\u001b[0;32m---> 26\u001b[0;31m         \u001b[0mx\u001b[0m \u001b[0;34m=\u001b[0m \u001b[0mF\u001b[0m\u001b[0;34m.\u001b[0m\u001b[0mconcat\u001b[0m\u001b[0;34m(\u001b[0m\u001b[0mx\u001b[0m\u001b[0;34m,\u001b[0m\u001b[0mlabels\u001b[0m\u001b[0;34m,\u001b[0m\u001b[0mdim\u001b[0m\u001b[0;34m=\u001b[0m\u001b[0;36m1\u001b[0m\u001b[0;34m)\u001b[0m\u001b[0;34m\u001b[0m\u001b[0m\n\u001b[0m\u001b[1;32m     27\u001b[0m         \u001b[0mx\u001b[0m \u001b[0;34m=\u001b[0m \u001b[0mx\u001b[0m\u001b[0;34m.\u001b[0m\u001b[0mreshape\u001b[0m\u001b[0;34m(\u001b[0m\u001b[0;34m(\u001b[0m\u001b[0mbatch_size\u001b[0m\u001b[0;34m,\u001b[0m\u001b[0mN\u001b[0m\u001b[0;34m*\u001b[0m\u001b[0mK\u001b[0m\u001b[0;34m+\u001b[0m\u001b[0;36m1\u001b[0m\u001b[0;34m,\u001b[0m\u001b[0;34m-\u001b[0m\u001b[0;36m1\u001b[0m\u001b[0;34m)\u001b[0m\u001b[0;34m)\u001b[0m\u001b[0;34m\u001b[0m\u001b[0m\n\u001b[1;32m     28\u001b[0m         \u001b[0mx\u001b[0m \u001b[0;34m=\u001b[0m \u001b[0mself\u001b[0m\u001b[0;34m.\u001b[0m\u001b[0mattn1\u001b[0m\u001b[0;34m(\u001b[0m\u001b[0mx\u001b[0m\u001b[0;34m)\u001b[0m\u001b[0;34m\u001b[0m\u001b[0m\n",
      "\u001b[0;32m/opt/venv/lib/python3.6/site-packages/mxnet/ndarray/register.py\u001b[0m in \u001b[0;36mconcat\u001b[0;34m(*data, **kwargs)\u001b[0m\n",
      "\u001b[0;32m/opt/venv/lib/python3.6/site-packages/mxnet/_ctypes/ndarray.py\u001b[0m in \u001b[0;36m_imperative_invoke\u001b[0;34m(handle, ndargs, keys, vals, out)\u001b[0m\n\u001b[1;32m     90\u001b[0m         \u001b[0mc_str_array\u001b[0m\u001b[0;34m(\u001b[0m\u001b[0mkeys\u001b[0m\u001b[0;34m)\u001b[0m\u001b[0;34m,\u001b[0m\u001b[0;34m\u001b[0m\u001b[0m\n\u001b[1;32m     91\u001b[0m         \u001b[0mc_str_array\u001b[0m\u001b[0;34m(\u001b[0m\u001b[0;34m[\u001b[0m\u001b[0mstr\u001b[0m\u001b[0;34m(\u001b[0m\u001b[0ms\u001b[0m\u001b[0;34m)\u001b[0m \u001b[0;32mfor\u001b[0m \u001b[0ms\u001b[0m \u001b[0;32min\u001b[0m \u001b[0mvals\u001b[0m\u001b[0;34m]\u001b[0m\u001b[0;34m)\u001b[0m\u001b[0;34m,\u001b[0m\u001b[0;34m\u001b[0m\u001b[0m\n\u001b[0;32m---> 92\u001b[0;31m         ctypes.byref(out_stypes)))\n\u001b[0m\u001b[1;32m     93\u001b[0m \u001b[0;34m\u001b[0m\u001b[0m\n\u001b[1;32m     94\u001b[0m     \u001b[0;32mif\u001b[0m \u001b[0moriginal_output\u001b[0m \u001b[0;32mis\u001b[0m \u001b[0;32mnot\u001b[0m \u001b[0;32mNone\u001b[0m\u001b[0;34m:\u001b[0m\u001b[0;34m\u001b[0m\u001b[0m\n",
      "\u001b[0;32m/opt/venv/lib/python3.6/site-packages/mxnet/base.py\u001b[0m in \u001b[0;36mcheck_call\u001b[0;34m(ret)\u001b[0m\n\u001b[1;32m    147\u001b[0m     \"\"\"\n\u001b[1;32m    148\u001b[0m     \u001b[0;32mif\u001b[0m \u001b[0mret\u001b[0m \u001b[0;34m!=\u001b[0m \u001b[0;36m0\u001b[0m\u001b[0;34m:\u001b[0m\u001b[0;34m\u001b[0m\u001b[0m\n\u001b[0;32m--> 149\u001b[0;31m         \u001b[0;32mraise\u001b[0m \u001b[0mMXNetError\u001b[0m\u001b[0;34m(\u001b[0m\u001b[0mpy_str\u001b[0m\u001b[0;34m(\u001b[0m\u001b[0m_LIB\u001b[0m\u001b[0;34m.\u001b[0m\u001b[0mMXGetLastError\u001b[0m\u001b[0;34m(\u001b[0m\u001b[0;34m)\u001b[0m\u001b[0;34m)\u001b[0m\u001b[0;34m)\u001b[0m\u001b[0;34m\u001b[0m\u001b[0m\n\u001b[0m\u001b[1;32m    150\u001b[0m \u001b[0;34m\u001b[0m\u001b[0m\n\u001b[1;32m    151\u001b[0m \u001b[0;34m\u001b[0m\u001b[0m\n",
      "\u001b[0;31mMXNetError\u001b[0m: [15:09:27] src/operator/nn/concat.cc:66: Check failed: shape_assign(&(*in_shape)[i], dshape) Incompatible input shape: expected [1224,0,28,28], got [1224,10]\n\nStack trace returned 10 entries:\n[bt] (0) /opt/venv/lib/python3.6/site-packages/mxnet/libmxnet.so(+0x30cbe2) [0x7fb0035e0be2]\n[bt] (1) /opt/venv/lib/python3.6/site-packages/mxnet/libmxnet.so(+0x30d1b8) [0x7fb0035e11b8]\n[bt] (2) /opt/venv/lib/python3.6/site-packages/mxnet/libmxnet.so(+0x531348) [0x7fb003805348]\n[bt] (3) /opt/venv/lib/python3.6/site-packages/mxnet/libmxnet.so(+0x29bf312) [0x7fb005c93312]\n[bt] (4) /opt/venv/lib/python3.6/site-packages/mxnet/libmxnet.so(+0x29c8dee) [0x7fb005c9cdee]\n[bt] (5) /opt/venv/lib/python3.6/site-packages/mxnet/libmxnet.so(+0x2900c4b) [0x7fb005bd4c4b]\n[bt] (6) /opt/venv/lib/python3.6/site-packages/mxnet/libmxnet.so(MXImperativeInvokeEx+0x6f) [0x7fb005bd520f]\n[bt] (7) /opt/miniconda/lib/libffi.so.6(ffi_call_unix64+0x4c) [0x7fb1ec772ec0]\n[bt] (8) /opt/miniconda/lib/libffi.so.6(ffi_call+0x22d) [0x7fb1ec77287d]\n[bt] (9) /usr/lib/python3.6/lib-dynload/_ctypes.cpython-36m-x86_64-linux-gnu.so(_ctypes_callproc+0x2fd) [0x7fb1ec98719d]\n\n"
     ]
    }
   ],
   "source": [
    "model_output = model(x,y)"
   ]
  },
  {
   "cell_type": "code",
   "execution_count": 22,
   "metadata": {
    "ExecuteTime": {
     "end_time": "2018-07-10T05:07:26.981453Z",
     "start_time": "2018-07-10T05:07:26.978551Z"
    }
   },
   "outputs": [
    {
     "data": {
      "text/plain": [
       "(1224,)"
      ]
     },
     "execution_count": 22,
     "metadata": {},
     "output_type": "execute_result"
    }
   ],
   "source": [
    "y.shape"
   ]
  },
  {
   "cell_type": "code",
   "execution_count": 32,
   "metadata": {
    "ExecuteTime": {
     "end_time": "2018-07-10T04:50:54.327407Z",
     "start_time": "2018-07-10T04:50:54.323741Z"
    }
   },
   "outputs": [
    {
     "data": {
      "text/plain": [
       "\n",
       "[6. 5. 0. 7. 6. 5. 2. 2. 3. 3. 7. 7. 0. 9. 6. 4. 2. 0. 6. 5. 3. 6. 1. 1.]\n",
       "<NDArray 24 @cpu(0)>"
      ]
     },
     "execution_count": 32,
     "metadata": {},
     "output_type": "execute_result"
    }
   ],
   "source": [
    "last_targets"
   ]
  },
  {
   "cell_type": "code",
   "execution_count": 23,
   "metadata": {
    "ExecuteTime": {
     "end_time": "2018-07-10T06:09:33.553007Z",
     "start_time": "2018-07-10T06:09:33.542804Z"
    }
   },
   "outputs": [],
   "source": [
    "x = np.load('x.npy')\n",
    "x = nd.array(x)"
   ]
  },
  {
   "cell_type": "code",
   "execution_count": 24,
   "metadata": {
    "ExecuteTime": {
     "end_time": "2018-07-10T06:09:34.171383Z",
     "start_time": "2018-07-10T06:09:34.167819Z"
    }
   },
   "outputs": [],
   "source": [
    "y = np.load('y.npy')\n",
    "labels = nd.array(y)"
   ]
  },
  {
   "cell_type": "code",
   "execution_count": 25,
   "metadata": {
    "ExecuteTime": {
     "end_time": "2018-07-10T06:09:38.506040Z",
     "start_time": "2018-07-10T06:09:38.501817Z"
    }
   },
   "outputs": [
    {
     "data": {
      "text/plain": [
       "(1224, 1, 28, 28)"
      ]
     },
     "execution_count": 25,
     "metadata": {},
     "output_type": "execute_result"
    }
   ],
   "source": [
    "x.shape"
   ]
  },
  {
   "cell_type": "code",
   "execution_count": 26,
   "metadata": {
    "ExecuteTime": {
     "end_time": "2018-07-10T06:09:43.715450Z",
     "start_time": "2018-07-10T06:09:43.711521Z"
    }
   },
   "outputs": [
    {
     "data": {
      "text/plain": [
       "(1224, 10)"
      ]
     },
     "execution_count": 26,
     "metadata": {},
     "output_type": "execute_result"
    }
   ],
   "source": [
    "labels.shape"
   ]
  },
  {
   "cell_type": "code",
   "execution_count": 28,
   "metadata": {
    "ExecuteTime": {
     "end_time": "2018-07-10T06:10:15.276886Z",
     "start_time": "2018-07-10T06:10:15.248518Z"
    }
   },
   "outputs": [],
   "source": [
    "snail = SNAIL(N=N,K=K,input_dims=64)\n",
    "snail.collect_params().initialize()"
   ]
  },
  {
   "cell_type": "code",
   "execution_count": 29,
   "metadata": {
    "ExecuteTime": {
     "end_time": "2018-07-10T06:10:26.585704Z",
     "start_time": "2018-07-10T06:10:26.562566Z"
    }
   },
   "outputs": [
    {
     "ename": "MXNetError",
     "evalue": "[15:10:26] src/operator/nn/concat.cc:66: Check failed: shape_assign(&(*in_shape)[i], dshape) Incompatible input shape: expected [1224,0,28,28], got [1224,10]\n\nStack trace returned 10 entries:\n[bt] (0) /opt/venv/lib/python3.6/site-packages/mxnet/libmxnet.so(+0x30cbe2) [0x7fb0035e0be2]\n[bt] (1) /opt/venv/lib/python3.6/site-packages/mxnet/libmxnet.so(+0x30d1b8) [0x7fb0035e11b8]\n[bt] (2) /opt/venv/lib/python3.6/site-packages/mxnet/libmxnet.so(+0x531348) [0x7fb003805348]\n[bt] (3) /opt/venv/lib/python3.6/site-packages/mxnet/libmxnet.so(+0x29bf312) [0x7fb005c93312]\n[bt] (4) /opt/venv/lib/python3.6/site-packages/mxnet/libmxnet.so(+0x29c8dee) [0x7fb005c9cdee]\n[bt] (5) /opt/venv/lib/python3.6/site-packages/mxnet/libmxnet.so(+0x2900c4b) [0x7fb005bd4c4b]\n[bt] (6) /opt/venv/lib/python3.6/site-packages/mxnet/libmxnet.so(MXImperativeInvokeEx+0x6f) [0x7fb005bd520f]\n[bt] (7) /opt/miniconda/lib/libffi.so.6(ffi_call_unix64+0x4c) [0x7fb1ec772ec0]\n[bt] (8) /opt/miniconda/lib/libffi.so.6(ffi_call+0x22d) [0x7fb1ec77287d]\n[bt] (9) /usr/lib/python3.6/lib-dynload/_ctypes.cpython-36m-x86_64-linux-gnu.so(_ctypes_callproc+0x2fd) [0x7fb1ec98719d]\n\n",
     "output_type": "error",
     "traceback": [
      "\u001b[0;31m---------------------------------------------------------------------------\u001b[0m",
      "\u001b[0;31mMXNetError\u001b[0m                                Traceback (most recent call last)",
      "\u001b[0;32m<ipython-input-29-3c32bef930bf>\u001b[0m in \u001b[0;36m<module>\u001b[0;34m()\u001b[0m\n\u001b[0;32m----> 1\u001b[0;31m \u001b[0mout\u001b[0m \u001b[0;34m=\u001b[0m \u001b[0msnail\u001b[0m\u001b[0;34m(\u001b[0m\u001b[0mx\u001b[0m\u001b[0;34m,\u001b[0m\u001b[0mlabels\u001b[0m\u001b[0;34m)\u001b[0m\u001b[0;34m\u001b[0m\u001b[0m\n\u001b[0m",
      "\u001b[0;32m/opt/venv/lib/python3.6/site-packages/mxnet/gluon/block.py\u001b[0m in \u001b[0;36m__call__\u001b[0;34m(self, *args)\u001b[0m\n\u001b[1;32m    411\u001b[0m     \u001b[0;32mdef\u001b[0m \u001b[0m__call__\u001b[0m\u001b[0;34m(\u001b[0m\u001b[0mself\u001b[0m\u001b[0;34m,\u001b[0m \u001b[0;34m*\u001b[0m\u001b[0margs\u001b[0m\u001b[0;34m)\u001b[0m\u001b[0;34m:\u001b[0m\u001b[0;34m\u001b[0m\u001b[0m\n\u001b[1;32m    412\u001b[0m         \u001b[0;34m\"\"\"Calls forward. Only accepts positional arguments.\"\"\"\u001b[0m\u001b[0;34m\u001b[0m\u001b[0m\n\u001b[0;32m--> 413\u001b[0;31m         \u001b[0;32mreturn\u001b[0m \u001b[0mself\u001b[0m\u001b[0;34m.\u001b[0m\u001b[0mforward\u001b[0m\u001b[0;34m(\u001b[0m\u001b[0;34m*\u001b[0m\u001b[0margs\u001b[0m\u001b[0;34m)\u001b[0m\u001b[0;34m\u001b[0m\u001b[0m\n\u001b[0m\u001b[1;32m    414\u001b[0m \u001b[0;34m\u001b[0m\u001b[0m\n\u001b[1;32m    415\u001b[0m     \u001b[0;32mdef\u001b[0m \u001b[0mforward\u001b[0m\u001b[0;34m(\u001b[0m\u001b[0mself\u001b[0m\u001b[0;34m,\u001b[0m \u001b[0;34m*\u001b[0m\u001b[0margs\u001b[0m\u001b[0;34m)\u001b[0m\u001b[0;34m:\u001b[0m\u001b[0;34m\u001b[0m\u001b[0m\n",
      "\u001b[0;32m<ipython-input-9-5df8876f6ec3>\u001b[0m in \u001b[0;36mforward\u001b[0;34m(self, x, labels)\u001b[0m\n\u001b[1;32m     24\u001b[0m         \u001b[0mlast_idxs\u001b[0m \u001b[0;34m=\u001b[0m \u001b[0;34m[\u001b[0m\u001b[0;34m(\u001b[0m\u001b[0mi\u001b[0m \u001b[0;34m+\u001b[0m \u001b[0;36m1\u001b[0m\u001b[0;34m)\u001b[0m \u001b[0;34m*\u001b[0m \u001b[0;34m(\u001b[0m\u001b[0mN\u001b[0m \u001b[0;34m*\u001b[0m \u001b[0mK\u001b[0m \u001b[0;34m+\u001b[0m \u001b[0;36m1\u001b[0m\u001b[0;34m)\u001b[0m \u001b[0;34m-\u001b[0m \u001b[0;36m1\u001b[0m \u001b[0;32mfor\u001b[0m \u001b[0mi\u001b[0m \u001b[0;32min\u001b[0m \u001b[0mrange\u001b[0m\u001b[0;34m(\u001b[0m\u001b[0mbatch_size\u001b[0m\u001b[0;34m)\u001b[0m\u001b[0;34m]\u001b[0m\u001b[0;34m\u001b[0m\u001b[0m\n\u001b[1;32m     25\u001b[0m         \u001b[0mlabels\u001b[0m\u001b[0;34m[\u001b[0m\u001b[0mlast_idxs\u001b[0m\u001b[0;34m]\u001b[0m \u001b[0;34m=\u001b[0m \u001b[0mnd\u001b[0m\u001b[0;34m.\u001b[0m\u001b[0mzeros\u001b[0m\u001b[0;34m(\u001b[0m\u001b[0mshape\u001b[0m\u001b[0;34m=\u001b[0m\u001b[0;34m(\u001b[0m\u001b[0mbatch_size\u001b[0m\u001b[0;34m,\u001b[0m \u001b[0mlabels\u001b[0m\u001b[0;34m.\u001b[0m\u001b[0mshape\u001b[0m\u001b[0;34m[\u001b[0m\u001b[0;36m1\u001b[0m\u001b[0;34m]\u001b[0m\u001b[0;34m)\u001b[0m\u001b[0;34m,\u001b[0m \u001b[0mctx\u001b[0m\u001b[0;34m=\u001b[0m\u001b[0mself\u001b[0m\u001b[0;34m.\u001b[0m\u001b[0mctx\u001b[0m\u001b[0;34m)\u001b[0m\u001b[0;34m\u001b[0m\u001b[0m\n\u001b[0;32m---> 26\u001b[0;31m         \u001b[0mx\u001b[0m \u001b[0;34m=\u001b[0m \u001b[0mF\u001b[0m\u001b[0;34m.\u001b[0m\u001b[0mconcat\u001b[0m\u001b[0;34m(\u001b[0m\u001b[0mx\u001b[0m\u001b[0;34m,\u001b[0m\u001b[0mlabels\u001b[0m\u001b[0;34m,\u001b[0m\u001b[0mdim\u001b[0m\u001b[0;34m=\u001b[0m\u001b[0;36m1\u001b[0m\u001b[0;34m)\u001b[0m\u001b[0;34m\u001b[0m\u001b[0m\n\u001b[0m\u001b[1;32m     27\u001b[0m         \u001b[0mx\u001b[0m \u001b[0;34m=\u001b[0m \u001b[0mx\u001b[0m\u001b[0;34m.\u001b[0m\u001b[0mreshape\u001b[0m\u001b[0;34m(\u001b[0m\u001b[0;34m(\u001b[0m\u001b[0mbatch_size\u001b[0m\u001b[0;34m,\u001b[0m\u001b[0mN\u001b[0m\u001b[0;34m*\u001b[0m\u001b[0mK\u001b[0m\u001b[0;34m+\u001b[0m\u001b[0;36m1\u001b[0m\u001b[0;34m,\u001b[0m\u001b[0;34m-\u001b[0m\u001b[0;36m1\u001b[0m\u001b[0;34m)\u001b[0m\u001b[0;34m)\u001b[0m\u001b[0;34m\u001b[0m\u001b[0m\n\u001b[1;32m     28\u001b[0m         \u001b[0mx\u001b[0m \u001b[0;34m=\u001b[0m \u001b[0mself\u001b[0m\u001b[0;34m.\u001b[0m\u001b[0mattn1\u001b[0m\u001b[0;34m(\u001b[0m\u001b[0mx\u001b[0m\u001b[0;34m)\u001b[0m\u001b[0;34m\u001b[0m\u001b[0m\n",
      "\u001b[0;32m/opt/venv/lib/python3.6/site-packages/mxnet/ndarray/register.py\u001b[0m in \u001b[0;36mconcat\u001b[0;34m(*data, **kwargs)\u001b[0m\n",
      "\u001b[0;32m/opt/venv/lib/python3.6/site-packages/mxnet/_ctypes/ndarray.py\u001b[0m in \u001b[0;36m_imperative_invoke\u001b[0;34m(handle, ndargs, keys, vals, out)\u001b[0m\n\u001b[1;32m     90\u001b[0m         \u001b[0mc_str_array\u001b[0m\u001b[0;34m(\u001b[0m\u001b[0mkeys\u001b[0m\u001b[0;34m)\u001b[0m\u001b[0;34m,\u001b[0m\u001b[0;34m\u001b[0m\u001b[0m\n\u001b[1;32m     91\u001b[0m         \u001b[0mc_str_array\u001b[0m\u001b[0;34m(\u001b[0m\u001b[0;34m[\u001b[0m\u001b[0mstr\u001b[0m\u001b[0;34m(\u001b[0m\u001b[0ms\u001b[0m\u001b[0;34m)\u001b[0m \u001b[0;32mfor\u001b[0m \u001b[0ms\u001b[0m \u001b[0;32min\u001b[0m \u001b[0mvals\u001b[0m\u001b[0;34m]\u001b[0m\u001b[0;34m)\u001b[0m\u001b[0;34m,\u001b[0m\u001b[0;34m\u001b[0m\u001b[0m\n\u001b[0;32m---> 92\u001b[0;31m         ctypes.byref(out_stypes)))\n\u001b[0m\u001b[1;32m     93\u001b[0m \u001b[0;34m\u001b[0m\u001b[0m\n\u001b[1;32m     94\u001b[0m     \u001b[0;32mif\u001b[0m \u001b[0moriginal_output\u001b[0m \u001b[0;32mis\u001b[0m \u001b[0;32mnot\u001b[0m \u001b[0;32mNone\u001b[0m\u001b[0;34m:\u001b[0m\u001b[0;34m\u001b[0m\u001b[0m\n",
      "\u001b[0;32m/opt/venv/lib/python3.6/site-packages/mxnet/base.py\u001b[0m in \u001b[0;36mcheck_call\u001b[0;34m(ret)\u001b[0m\n\u001b[1;32m    147\u001b[0m     \"\"\"\n\u001b[1;32m    148\u001b[0m     \u001b[0;32mif\u001b[0m \u001b[0mret\u001b[0m \u001b[0;34m!=\u001b[0m \u001b[0;36m0\u001b[0m\u001b[0;34m:\u001b[0m\u001b[0;34m\u001b[0m\u001b[0m\n\u001b[0;32m--> 149\u001b[0;31m         \u001b[0;32mraise\u001b[0m \u001b[0mMXNetError\u001b[0m\u001b[0;34m(\u001b[0m\u001b[0mpy_str\u001b[0m\u001b[0;34m(\u001b[0m\u001b[0m_LIB\u001b[0m\u001b[0;34m.\u001b[0m\u001b[0mMXGetLastError\u001b[0m\u001b[0;34m(\u001b[0m\u001b[0;34m)\u001b[0m\u001b[0;34m)\u001b[0m\u001b[0;34m)\u001b[0m\u001b[0;34m\u001b[0m\u001b[0m\n\u001b[0m\u001b[1;32m    150\u001b[0m \u001b[0;34m\u001b[0m\u001b[0m\n\u001b[1;32m    151\u001b[0m \u001b[0;34m\u001b[0m\u001b[0m\n",
      "\u001b[0;31mMXNetError\u001b[0m: [15:10:26] src/operator/nn/concat.cc:66: Check failed: shape_assign(&(*in_shape)[i], dshape) Incompatible input shape: expected [1224,0,28,28], got [1224,10]\n\nStack trace returned 10 entries:\n[bt] (0) /opt/venv/lib/python3.6/site-packages/mxnet/libmxnet.so(+0x30cbe2) [0x7fb0035e0be2]\n[bt] (1) /opt/venv/lib/python3.6/site-packages/mxnet/libmxnet.so(+0x30d1b8) [0x7fb0035e11b8]\n[bt] (2) /opt/venv/lib/python3.6/site-packages/mxnet/libmxnet.so(+0x531348) [0x7fb003805348]\n[bt] (3) /opt/venv/lib/python3.6/site-packages/mxnet/libmxnet.so(+0x29bf312) [0x7fb005c93312]\n[bt] (4) /opt/venv/lib/python3.6/site-packages/mxnet/libmxnet.so(+0x29c8dee) [0x7fb005c9cdee]\n[bt] (5) /opt/venv/lib/python3.6/site-packages/mxnet/libmxnet.so(+0x2900c4b) [0x7fb005bd4c4b]\n[bt] (6) /opt/venv/lib/python3.6/site-packages/mxnet/libmxnet.so(MXImperativeInvokeEx+0x6f) [0x7fb005bd520f]\n[bt] (7) /opt/miniconda/lib/libffi.so.6(ffi_call_unix64+0x4c) [0x7fb1ec772ec0]\n[bt] (8) /opt/miniconda/lib/libffi.so.6(ffi_call+0x22d) [0x7fb1ec77287d]\n[bt] (9) /usr/lib/python3.6/lib-dynload/_ctypes.cpython-36m-x86_64-linux-gnu.so(_ctypes_callproc+0x2fd) [0x7fb1ec98719d]\n\n"
     ]
    }
   ],
   "source": [
    "out = snail(x,labels)"
   ]
  },
  {
   "cell_type": "code",
   "execution_count": 26,
   "metadata": {
    "ExecuteTime": {
     "end_time": "2018-07-10T02:03:15.200965Z",
     "start_time": "2018-07-10T02:03:15.194842Z"
    }
   },
   "outputs": [],
   "source": [
    "cnn_emb = CnnEmbedding()\n",
    "cnn_emb.collect_params().initialize()"
   ]
  },
  {
   "cell_type": "code",
   "execution_count": 27,
   "metadata": {
    "ExecuteTime": {
     "end_time": "2018-07-10T02:03:15.725302Z",
     "start_time": "2018-07-10T02:03:15.712390Z"
    }
   },
   "outputs": [],
   "source": [
    "emb_out = cnn_emb(x)"
   ]
  },
  {
   "cell_type": "code",
   "execution_count": 28,
   "metadata": {
    "ExecuteTime": {
     "end_time": "2018-07-10T02:03:16.891669Z",
     "start_time": "2018-07-10T02:03:16.234528Z"
    }
   },
   "outputs": [],
   "source": [
    "out = snail(emb_out,labels)"
   ]
  },
  {
   "cell_type": "code",
   "execution_count": 33,
   "metadata": {
    "ExecuteTime": {
     "end_time": "2018-07-10T02:08:44.037112Z",
     "start_time": "2018-07-10T02:08:44.033125Z"
    }
   },
   "outputs": [],
   "source": [
    "out_label = out[:,-1,:]"
   ]
  },
  {
   "cell_type": "code",
   "execution_count": 36,
   "metadata": {
    "ExecuteTime": {
     "end_time": "2018-07-10T02:08:51.756029Z",
     "start_time": "2018-07-10T02:08:51.751726Z"
    }
   },
   "outputs": [
    {
     "data": {
      "text/plain": [
       "(24, 10)"
      ]
     },
     "execution_count": 36,
     "metadata": {},
     "output_type": "execute_result"
    }
   ],
   "source": [
    "out_label.shape"
   ]
  },
  {
   "cell_type": "code",
   "execution_count": 29,
   "metadata": {
    "ExecuteTime": {
     "end_time": "2018-07-10T02:03:19.161338Z",
     "start_time": "2018-07-10T02:03:19.157052Z"
    }
   },
   "outputs": [
    {
     "data": {
      "text/plain": [
       "(24, 51, 10)"
      ]
     },
     "execution_count": 29,
     "metadata": {},
     "output_type": "execute_result"
    }
   ],
   "source": [
    "out.shape"
   ]
  },
  {
   "cell_type": "code",
   "execution_count": 343,
   "metadata": {
    "ExecuteTime": {
     "end_time": "2018-07-09T08:29:08.437075Z",
     "start_time": "2018-07-09T08:29:08.433844Z"
    }
   },
   "outputs": [
    {
     "data": {
      "text/plain": [
       "(1224, 1, 28, 28)"
      ]
     },
     "execution_count": 343,
     "metadata": {},
     "output_type": "execute_result"
    }
   ],
   "source": [
    "x.shape"
   ]
  },
  {
   "cell_type": "code",
   "execution_count": 344,
   "metadata": {
    "ExecuteTime": {
     "end_time": "2018-07-09T08:29:09.472990Z",
     "start_time": "2018-07-09T08:29:09.469789Z"
    }
   },
   "outputs": [
    {
     "data": {
      "text/plain": [
       "(1224, 10)"
      ]
     },
     "execution_count": 344,
     "metadata": {},
     "output_type": "execute_result"
    }
   ],
   "source": [
    "labels.shape"
   ]
  },
  {
   "cell_type": "code",
   "execution_count": 345,
   "metadata": {
    "ExecuteTime": {
     "end_time": "2018-07-09T08:29:10.507536Z",
     "start_time": "2018-07-09T08:29:10.499530Z"
    }
   },
   "outputs": [],
   "source": [
    "cnn_emb = CnnEmbedding()\n",
    "cnn_emb.collect_params().initialize()"
   ]
  },
  {
   "cell_type": "code",
   "execution_count": 346,
   "metadata": {
    "ExecuteTime": {
     "end_time": "2018-07-09T08:29:12.463002Z",
     "start_time": "2018-07-09T08:29:12.444704Z"
    }
   },
   "outputs": [],
   "source": [
    "emb_out = cnn_emb(x)"
   ]
  },
  {
   "cell_type": "code",
   "execution_count": 347,
   "metadata": {
    "ExecuteTime": {
     "end_time": "2018-07-09T08:29:12.635038Z",
     "start_time": "2018-07-09T08:29:12.631547Z"
    }
   },
   "outputs": [
    {
     "data": {
      "text/plain": [
       "(1224, 64)"
      ]
     },
     "execution_count": 347,
     "metadata": {},
     "output_type": "execute_result"
    }
   ],
   "source": [
    "emb_out.shape"
   ]
  },
  {
   "cell_type": "code",
   "execution_count": 348,
   "metadata": {
    "ExecuteTime": {
     "end_time": "2018-07-09T08:29:12.887443Z",
     "start_time": "2018-07-09T08:29:12.884431Z"
    }
   },
   "outputs": [],
   "source": [
    "batch_size = int(labels.shape[0] / (N * K + 1))"
   ]
  },
  {
   "cell_type": "code",
   "execution_count": 349,
   "metadata": {
    "ExecuteTime": {
     "end_time": "2018-07-09T08:29:13.580560Z",
     "start_time": "2018-07-09T08:29:13.577037Z"
    }
   },
   "outputs": [
    {
     "data": {
      "text/plain": [
       "1224"
      ]
     },
     "execution_count": 349,
     "metadata": {},
     "output_type": "execute_result"
    }
   ],
   "source": [
    "labels.shape[0] "
   ]
  },
  {
   "cell_type": "code",
   "execution_count": 350,
   "metadata": {
    "ExecuteTime": {
     "end_time": "2018-07-09T08:29:16.161069Z",
     "start_time": "2018-07-09T08:29:16.157316Z"
    }
   },
   "outputs": [
    {
     "data": {
      "text/plain": [
       "24"
      ]
     },
     "execution_count": 350,
     "metadata": {},
     "output_type": "execute_result"
    }
   ],
   "source": [
    "batch_size"
   ]
  },
  {
   "cell_type": "code",
   "execution_count": 351,
   "metadata": {
    "ExecuteTime": {
     "end_time": "2018-07-09T08:29:16.443426Z",
     "start_time": "2018-07-09T08:29:16.440454Z"
    }
   },
   "outputs": [],
   "source": [
    "last_idxs = [(i + 1) * (N * K + 1) - 1 for i in range(batch_size)]"
   ]
  },
  {
   "cell_type": "code",
   "execution_count": 352,
   "metadata": {
    "ExecuteTime": {
     "end_time": "2018-07-09T08:29:27.341876Z",
     "start_time": "2018-07-09T08:29:27.338956Z"
    }
   },
   "outputs": [],
   "source": [
    "x_cat = F.concat(emb_out,label,dim=1)"
   ]
  },
  {
   "cell_type": "code",
   "execution_count": 353,
   "metadata": {
    "ExecuteTime": {
     "end_time": "2018-07-09T08:29:30.306311Z",
     "start_time": "2018-07-09T08:29:30.301177Z"
    }
   },
   "outputs": [
    {
     "data": {
      "text/plain": [
       "(1224, 74)"
      ]
     },
     "execution_count": 353,
     "metadata": {},
     "output_type": "execute_result"
    }
   ],
   "source": [
    "x_cat.shape"
   ]
  },
  {
   "cell_type": "code",
   "execution_count": 354,
   "metadata": {
    "ExecuteTime": {
     "end_time": "2018-07-09T08:29:30.513992Z",
     "start_time": "2018-07-09T08:29:30.511741Z"
    }
   },
   "outputs": [],
   "source": [
    "x_cat = x_cat.reshape((batch_size,N*K+1,-1))"
   ]
  },
  {
   "cell_type": "code",
   "execution_count": 355,
   "metadata": {
    "ExecuteTime": {
     "end_time": "2018-07-09T08:29:30.870344Z",
     "start_time": "2018-07-09T08:29:30.867648Z"
    }
   },
   "outputs": [
    {
     "data": {
      "text/plain": [
       "(24, 51, 74)"
      ]
     },
     "execution_count": 355,
     "metadata": {},
     "output_type": "execute_result"
    }
   ],
   "source": [
    "x_cat.shape"
   ]
  },
  {
   "cell_type": "code",
   "execution_count": 356,
   "metadata": {
    "ExecuteTime": {
     "end_time": "2018-07-09T08:29:32.553071Z",
     "start_time": "2018-07-09T08:29:32.547013Z"
    }
   },
   "outputs": [],
   "source": [
    "attention1 = AttentionBlock(64, 32)\n",
    "attention1.collect_params().initialize()"
   ]
  },
  {
   "cell_type": "code",
   "execution_count": 357,
   "metadata": {
    "ExecuteTime": {
     "end_time": "2018-07-09T08:29:33.237824Z",
     "start_time": "2018-07-09T08:29:33.227086Z"
    }
   },
   "outputs": [],
   "source": [
    "a1_out = attention1(x_cat)"
   ]
  },
  {
   "cell_type": "code",
   "execution_count": 358,
   "metadata": {
    "ExecuteTime": {
     "end_time": "2018-07-09T08:29:34.820536Z",
     "start_time": "2018-07-09T08:29:34.817139Z"
    }
   },
   "outputs": [
    {
     "data": {
      "text/plain": [
       "(24, 51, 106)"
      ]
     },
     "execution_count": 358,
     "metadata": {},
     "output_type": "execute_result"
    }
   ],
   "source": [
    "a1_out.shape"
   ]
  },
  {
   "cell_type": "code",
   "execution_count": 359,
   "metadata": {
    "ExecuteTime": {
     "end_time": "2018-07-09T08:30:12.158807Z",
     "start_time": "2018-07-09T08:30:12.155645Z"
    }
   },
   "outputs": [
    {
     "data": {
      "text/plain": [
       "74"
      ]
     },
     "execution_count": 359,
     "metadata": {},
     "output_type": "execute_result"
    }
   ],
   "source": [
    "106-32"
   ]
  },
  {
   "cell_type": "code",
   "execution_count": 253,
   "metadata": {
    "ExecuteTime": {
     "end_time": "2018-07-09T05:58:58.205116Z",
     "start_time": "2018-07-09T05:58:58.192277Z"
    }
   },
   "outputs": [],
   "source": [
    "tc1 = TCBlock(a1_out.shape[2] ,N*K+1 , 128)\n",
    "tc1.collect_params().initialize()"
   ]
  },
  {
   "cell_type": "code",
   "execution_count": 259,
   "metadata": {
    "ExecuteTime": {
     "end_time": "2018-07-09T05:59:29.620494Z",
     "start_time": "2018-07-09T05:59:29.612370Z"
    }
   },
   "outputs": [
    {
     "data": {
      "text/plain": [
       "(24, 51, 618)"
      ]
     },
     "execution_count": 259,
     "metadata": {},
     "output_type": "execute_result"
    }
   ],
   "source": [
    "tc1_out = tc1(a1_out)\n",
    "tc1_out.shape"
   ]
  },
  {
   "cell_type": "code",
   "execution_count": 278,
   "metadata": {
    "ExecuteTime": {
     "end_time": "2018-07-09T06:34:52.201964Z",
     "start_time": "2018-07-09T06:34:52.197104Z"
    }
   },
   "outputs": [
    {
     "data": {
      "text/plain": [
       "512"
      ]
     },
     "execution_count": 278,
     "metadata": {},
     "output_type": "execute_result"
    }
   ],
   "source": [
    "618 - 106"
   ]
  },
  {
   "cell_type": "code",
   "execution_count": 268,
   "metadata": {
    "ExecuteTime": {
     "end_time": "2018-07-09T06:01:30.055668Z",
     "start_time": "2018-07-09T06:01:30.048585Z"
    }
   },
   "outputs": [],
   "source": [
    "attention2 = AttentionBlock(256, 128)\n",
    "attention2.collect_params().initialize()"
   ]
  },
  {
   "cell_type": "code",
   "execution_count": 269,
   "metadata": {
    "ExecuteTime": {
     "end_time": "2018-07-09T06:01:30.349004Z",
     "start_time": "2018-07-09T06:01:30.337003Z"
    }
   },
   "outputs": [
    {
     "data": {
      "text/plain": [
       "(24, 51, 746)"
      ]
     },
     "execution_count": 269,
     "metadata": {},
     "output_type": "execute_result"
    }
   ],
   "source": [
    "a2_out = attention2(tc1_out)\n",
    "a2_out.shape"
   ]
  },
  {
   "cell_type": "code",
   "execution_count": 270,
   "metadata": {
    "ExecuteTime": {
     "end_time": "2018-07-09T06:01:31.378711Z",
     "start_time": "2018-07-09T06:01:31.366253Z"
    }
   },
   "outputs": [],
   "source": [
    "tc2 = TCBlock(a2_out.shape[2] ,N*K+1 , 128)\n",
    "tc2.collect_params().initialize()"
   ]
  },
  {
   "cell_type": "code",
   "execution_count": 271,
   "metadata": {
    "ExecuteTime": {
     "end_time": "2018-07-09T06:01:32.655386Z",
     "start_time": "2018-07-09T06:01:32.647393Z"
    }
   },
   "outputs": [
    {
     "data": {
      "text/plain": [
       "(24, 51, 1258)"
      ]
     },
     "execution_count": 271,
     "metadata": {},
     "output_type": "execute_result"
    }
   ],
   "source": [
    "tc2_out = tc2(a2_out)\n",
    "tc2_out.shape"
   ]
  },
  {
   "cell_type": "code",
   "execution_count": 272,
   "metadata": {
    "ExecuteTime": {
     "end_time": "2018-07-09T06:01:40.064740Z",
     "start_time": "2018-07-09T06:01:40.058610Z"
    }
   },
   "outputs": [],
   "source": [
    "attention3 = AttentionBlock(512, 256)\n",
    "attention3.collect_params().initialize()"
   ]
  },
  {
   "cell_type": "code",
   "execution_count": 273,
   "metadata": {
    "ExecuteTime": {
     "end_time": "2018-07-09T06:01:54.308824Z",
     "start_time": "2018-07-09T06:01:54.287516Z"
    }
   },
   "outputs": [
    {
     "data": {
      "text/plain": [
       "(24, 51, 1514)"
      ]
     },
     "execution_count": 273,
     "metadata": {},
     "output_type": "execute_result"
    }
   ],
   "source": [
    "a3_out = attention3(tc2_out)\n",
    "a3_out.shape"
   ]
  },
  {
   "cell_type": "code",
   "execution_count": 274,
   "metadata": {
    "ExecuteTime": {
     "end_time": "2018-07-09T06:28:42.012882Z",
     "start_time": "2018-07-09T06:28:42.009044Z"
    }
   },
   "outputs": [],
   "source": [
    "fc = nn.Dense(N,flatten=False)\n",
    "fc.collect_params().initialize()"
   ]
  },
  {
   "cell_type": "code",
   "execution_count": 275,
   "metadata": {
    "ExecuteTime": {
     "end_time": "2018-07-09T06:28:51.368035Z",
     "start_time": "2018-07-09T06:28:51.361680Z"
    }
   },
   "outputs": [],
   "source": [
    "out = fc(a3_out)"
   ]
  },
  {
   "cell_type": "code",
   "execution_count": 276,
   "metadata": {
    "ExecuteTime": {
     "end_time": "2018-07-09T06:28:55.411678Z",
     "start_time": "2018-07-09T06:28:55.407757Z"
    }
   },
   "outputs": [
    {
     "data": {
      "text/plain": [
       "(24, 51, 10)"
      ]
     },
     "execution_count": 276,
     "metadata": {},
     "output_type": "execute_result"
    }
   ],
   "source": [
    "out.shape"
   ]
  },
  {
   "cell_type": "code",
   "execution_count": null,
   "metadata": {},
   "outputs": [],
   "source": []
  }
 ],
 "metadata": {
  "kernelspec": {
   "display_name": "Python 3",
   "language": "python",
   "name": "python3"
  },
  "language_info": {
   "codemirror_mode": {
    "name": "ipython",
    "version": 3
   },
   "file_extension": ".py",
   "mimetype": "text/x-python",
   "name": "python",
   "nbconvert_exporter": "python",
   "pygments_lexer": "ipython3",
   "version": "3.6.5"
  }
 },
 "nbformat": 4,
 "nbformat_minor": 2
}
